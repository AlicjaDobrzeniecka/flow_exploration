{
 "cells": [
  {
   "cell_type": "markdown",
   "metadata": {},
   "source": [
    "# Toronto anomalies analysis"
   ]
  },
  {
   "cell_type": "code",
   "execution_count": 35,
   "metadata": {},
   "outputs": [],
   "source": [
    "import numpy as np\n",
    "import pandas as pd\n",
    "import matplotlib.pyplot as plt\n",
    "from matplotlib import rcParams\n",
    "rcParams['figure.figsize'] = 12, 4\n",
    "import utils"
   ]
  },
  {
   "cell_type": "markdown",
   "metadata": {},
   "source": [
    "## Load data"
   ]
  },
  {
   "cell_type": "code",
   "execution_count": 36,
   "metadata": {},
   "outputs": [
    {
     "data": {
      "text/html": [
       "<div>\n",
       "<style scoped>\n",
       "    .dataframe tbody tr th:only-of-type {\n",
       "        vertical-align: middle;\n",
       "    }\n",
       "\n",
       "    .dataframe tbody tr th {\n",
       "        vertical-align: top;\n",
       "    }\n",
       "\n",
       "    .dataframe thead th {\n",
       "        text-align: right;\n",
       "    }\n",
       "</style>\n",
       "<table border=\"1\" class=\"dataframe\">\n",
       "  <thead>\n",
       "    <tr style=\"text-align: right;\">\n",
       "      <th></th>\n",
       "      <th>siteId</th>\n",
       "      <th>channelId</th>\n",
       "      <th>channelName</th>\n",
       "      <th>units</th>\n",
       "      <th>isCalculated</th>\n",
       "    </tr>\n",
       "  </thead>\n",
       "  <tbody>\n",
       "    <tr>\n",
       "      <th>81434</th>\n",
       "      <td>7879</td>\n",
       "      <td>11723</td>\n",
       "      <td>MP1 BTYVOLT</td>\n",
       "      <td>V</td>\n",
       "      <td>False</td>\n",
       "    </tr>\n",
       "    <tr>\n",
       "      <th>81435</th>\n",
       "      <td>7879</td>\n",
       "      <td>11722</td>\n",
       "      <td>MP1 UpDEPTH_1</td>\n",
       "      <td>mm</td>\n",
       "      <td>False</td>\n",
       "    </tr>\n",
       "    <tr>\n",
       "      <th>81436</th>\n",
       "      <td>7879</td>\n",
       "      <td>11721</td>\n",
       "      <td>MP1 UNIDEPTH</td>\n",
       "      <td>mm</td>\n",
       "      <td>False</td>\n",
       "    </tr>\n",
       "    <tr>\n",
       "      <th>81437</th>\n",
       "      <td>7879</td>\n",
       "      <td>11720</td>\n",
       "      <td>MP1 RAWVEL</td>\n",
       "      <td>m/s</td>\n",
       "      <td>False</td>\n",
       "    </tr>\n",
       "    <tr>\n",
       "      <th>81438</th>\n",
       "      <td>7879</td>\n",
       "      <td>11719</td>\n",
       "      <td>MP1 PEAKVEL_1</td>\n",
       "      <td>m/s</td>\n",
       "      <td>False</td>\n",
       "    </tr>\n",
       "    <tr>\n",
       "      <th>81439</th>\n",
       "      <td>7879</td>\n",
       "      <td>11718</td>\n",
       "      <td>MP1 PDEPTH_1</td>\n",
       "      <td>mm</td>\n",
       "      <td>False</td>\n",
       "    </tr>\n",
       "    <tr>\n",
       "      <th>81440</th>\n",
       "      <td>7879</td>\n",
       "      <td>14031</td>\n",
       "      <td>Raw Average Velocity</td>\n",
       "      <td>m/s</td>\n",
       "      <td>False</td>\n",
       "    </tr>\n",
       "    <tr>\n",
       "      <th>81441</th>\n",
       "      <td>7879</td>\n",
       "      <td>19696</td>\n",
       "      <td>MP1 VInterim</td>\n",
       "      <td>m/s</td>\n",
       "      <td>False</td>\n",
       "    </tr>\n",
       "    <tr>\n",
       "      <th>81442</th>\n",
       "      <td>7879</td>\n",
       "      <td>14232</td>\n",
       "      <td>Rainfall</td>\n",
       "      <td>mm</td>\n",
       "      <td>False</td>\n",
       "    </tr>\n",
       "    <tr>\n",
       "      <th>81443</th>\n",
       "      <td>7879</td>\n",
       "      <td>13428</td>\n",
       "      <td>MP1 SILT1</td>\n",
       "      <td>mm</td>\n",
       "      <td>False</td>\n",
       "    </tr>\n",
       "    <tr>\n",
       "      <th>81444</th>\n",
       "      <td>7879</td>\n",
       "      <td>11724</td>\n",
       "      <td>MP1 DFINAL</td>\n",
       "      <td>mm</td>\n",
       "      <td>False</td>\n",
       "    </tr>\n",
       "    <tr>\n",
       "      <th>81445</th>\n",
       "      <td>7879</td>\n",
       "      <td>12731</td>\n",
       "      <td>Delta Time</td>\n",
       "      <td>sec</td>\n",
       "      <td>True</td>\n",
       "    </tr>\n",
       "    <tr>\n",
       "      <th>81446</th>\n",
       "      <td>7879</td>\n",
       "      <td>11717</td>\n",
       "      <td>MP1 FLOW1</td>\n",
       "      <td>l/s</td>\n",
       "      <td>False</td>\n",
       "    </tr>\n",
       "    <tr>\n",
       "      <th>81447</th>\n",
       "      <td>7879</td>\n",
       "      <td>11725</td>\n",
       "      <td>MP1 VFINAL</td>\n",
       "      <td>m/s</td>\n",
       "      <td>False</td>\n",
       "    </tr>\n",
       "    <tr>\n",
       "      <th>81448</th>\n",
       "      <td>7879</td>\n",
       "      <td>11726</td>\n",
       "      <td>MP1 QFINAL</td>\n",
       "      <td>l/s</td>\n",
       "      <td>False</td>\n",
       "    </tr>\n",
       "    <tr>\n",
       "      <th>81449</th>\n",
       "      <td>7879</td>\n",
       "      <td>14851</td>\n",
       "      <td>Q Raw</td>\n",
       "      <td>l/s</td>\n",
       "      <td>False</td>\n",
       "    </tr>\n",
       "    <tr>\n",
       "      <th>81450</th>\n",
       "      <td>7879</td>\n",
       "      <td>14455</td>\n",
       "      <td>D Raw</td>\n",
       "      <td>mm</td>\n",
       "      <td>True</td>\n",
       "    </tr>\n",
       "    <tr>\n",
       "      <th>81451</th>\n",
       "      <td>7879</td>\n",
       "      <td>22335</td>\n",
       "      <td>Daily Cumulative Rainfall</td>\n",
       "      <td>mm</td>\n",
       "      <td>True</td>\n",
       "    </tr>\n",
       "    <tr>\n",
       "      <th>81452</th>\n",
       "      <td>7879</td>\n",
       "      <td>13828</td>\n",
       "      <td>Data Notes</td>\n",
       "      <td>none</td>\n",
       "      <td>False</td>\n",
       "    </tr>\n",
       "    <tr>\n",
       "      <th>81453</th>\n",
       "      <td>7879</td>\n",
       "      <td>19495</td>\n",
       "      <td>MP1 QInterim</td>\n",
       "      <td>l/s</td>\n",
       "      <td>False</td>\n",
       "    </tr>\n",
       "    <tr>\n",
       "      <th>81454</th>\n",
       "      <td>7879</td>\n",
       "      <td>19294</td>\n",
       "      <td>MP1 DInterim</td>\n",
       "      <td>mm</td>\n",
       "      <td>False</td>\n",
       "    </tr>\n",
       "    <tr>\n",
       "      <th>81455</th>\n",
       "      <td>7879</td>\n",
       "      <td>14654</td>\n",
       "      <td>V Raw Average</td>\n",
       "      <td>m/s</td>\n",
       "      <td>False</td>\n",
       "    </tr>\n",
       "  </tbody>\n",
       "</table>\n",
       "</div>"
      ],
      "text/plain": [
       "       siteId  channelId                channelName units  isCalculated\n",
       "81434    7879      11723                MP1 BTYVOLT     V         False\n",
       "81435    7879      11722              MP1 UpDEPTH_1    mm         False\n",
       "81436    7879      11721               MP1 UNIDEPTH    mm         False\n",
       "81437    7879      11720                 MP1 RAWVEL   m/s         False\n",
       "81438    7879      11719              MP1 PEAKVEL_1   m/s         False\n",
       "81439    7879      11718               MP1 PDEPTH_1    mm         False\n",
       "81440    7879      14031       Raw Average Velocity   m/s         False\n",
       "81441    7879      19696               MP1 VInterim   m/s         False\n",
       "81442    7879      14232                   Rainfall    mm         False\n",
       "81443    7879      13428                  MP1 SILT1    mm         False\n",
       "81444    7879      11724                 MP1 DFINAL    mm         False\n",
       "81445    7879      12731                 Delta Time   sec          True\n",
       "81446    7879      11717                  MP1 FLOW1   l/s         False\n",
       "81447    7879      11725                 MP1 VFINAL   m/s         False\n",
       "81448    7879      11726                 MP1 QFINAL   l/s         False\n",
       "81449    7879      14851                      Q Raw   l/s         False\n",
       "81450    7879      14455                      D Raw    mm          True\n",
       "81451    7879      22335  Daily Cumulative Rainfall    mm          True\n",
       "81452    7879      13828                 Data Notes  none         False\n",
       "81453    7879      19495               MP1 QInterim   l/s         False\n",
       "81454    7879      19294               MP1 DInterim    mm         False\n",
       "81455    7879      14654              V Raw Average   m/s         False"
      ]
     },
     "execution_count": 36,
     "metadata": {},
     "output_type": "execute_result"
    }
   ],
   "source": [
    "SITE = 7879\n",
    "channels = pd.read_csv('../dataset/channels.csv')\n",
    "channels[channels.siteId == SITE]"
   ]
  },
  {
   "cell_type": "code",
   "execution_count": null,
   "metadata": {},
   "outputs": [],
   "source": [
    "DFINAL = 11724\n",
    "PDEPTH_1 = 11718\n",
    "UpDEPTH_1 = 11722\n",
    "DINTERIM = 19294\n",
    "dfinal = utils.load_channel_data(SITE, DFINAL).rename('DFINAL').fillna(0)\n",
    "pdepth = utils.load_channel_data(SITE, PDEPTH_1).rename('PDEPTH_1').fillna(0)\n",
    "updepth = utils.load_channel_data(SITE, UpDEPTH_1).rename('UpDEPTH_1').fillna(0)\n",
    "dinterim = utils.load_channel_data(SITE, DINTERIM).rename('DInterim').fillna(0)\n",
    "df = pd.concat([dfinal, pdepth, updepth, dinterim], axis=1).dropna()\n",
    "df['pdepth_diff'] = np.abs(df.DFINAL - df.PDEPTH_1)\n",
    "df['updepth_diff'] = np.abs(df.DFINAL - df.UpDEPTH_1)\n",
    "df['dinterim_diff'] = np.abs(df.DFINAL - df.DInterim)\n",
    "print('Anomalies in PDEPTH: {:}'.format(len(df[df['pdepth_diff'] > 1])))\n",
    "print('Anomalies in UpDEPTH: {:}'.format(len(df[df['updepth_diff'] > 1])))\n",
    "print('Anomalies in DInterim: {:}'.format(len(df[df['dinterim_diff'] > 1])))\n",
    "print(df.head())\n",
    "print(df.tail())\n",
    "anomalies = df[df.updepth_diff > 1]\n",
    "anomalies[['DFINAL', 'UpDEPTH_1', 'PDEPTH_1']].head(20)"
   ]
  },
  {
   "cell_type": "markdown",
   "metadata": {},
   "source": [
    "## Plot anomalies"
   ]
  },
  {
   "cell_type": "code",
   "execution_count": null,
   "metadata": {},
   "outputs": [],
   "source": [
    "def plot_anomalies(start_day, end_day):\n",
    "    print('PDEPTH')\n",
    "    pdepth[start_day:end_day].plot(color='r')\n",
    "    dfinal[start_day:end_day].plot(color='b')\n",
    "    plt.show()\n",
    "    print('UpDEPTH')\n",
    "    updepth[start_day:end_day].plot(color='r')\n",
    "    dfinal[start_day:end_day].plot(color='b')\n",
    "    plt.show()\n",
    "    \n",
    "plot_anomalies('2000-01-01', '2020-01-01')"
   ]
  },
  {
   "cell_type": "markdown",
   "metadata": {},
   "source": [
    "### Autumn 2015"
   ]
  },
  {
   "cell_type": "code",
   "execution_count": null,
   "metadata": {},
   "outputs": [],
   "source": [
    "plot_anomalies('2015-08-01', '2015-11-01')"
   ]
  },
  {
   "cell_type": "code",
   "execution_count": null,
   "metadata": {},
   "outputs": [],
   "source": [
    "plot_anomalies('2015-11-01', '2015-11-20')"
   ]
  },
  {
   "cell_type": "markdown",
   "metadata": {},
   "source": [
    "### Winter 2016"
   ]
  },
  {
   "cell_type": "code",
   "execution_count": null,
   "metadata": {},
   "outputs": [],
   "source": [
    "plot_anomalies('2015-12-01', '2016-03-31')"
   ]
  },
  {
   "cell_type": "code",
   "execution_count": null,
   "metadata": {},
   "outputs": [],
   "source": [
    "plot_anomalies('2015-12-10', '2015-12-30')"
   ]
  },
  {
   "cell_type": "markdown",
   "metadata": {},
   "source": [
    "### Spring 2017"
   ]
  },
  {
   "cell_type": "code",
   "execution_count": null,
   "metadata": {},
   "outputs": [],
   "source": [
    "plot_anomalies('2017-05-01', '2017-05-30')"
   ]
  },
  {
   "cell_type": "code",
   "execution_count": null,
   "metadata": {},
   "outputs": [],
   "source": [
    "plot_anomalies('2017-05-04', '2017-05-07')"
   ]
  }
 ],
 "metadata": {
  "kernelspec": {
   "display_name": "Python 3",
   "language": "python",
   "name": "python3"
  },
  "language_info": {
   "codemirror_mode": {
    "name": "ipython",
    "version": 3
   },
   "file_extension": ".py",
   "mimetype": "text/x-python",
   "name": "python",
   "nbconvert_exporter": "python",
   "pygments_lexer": "ipython3",
   "version": "3.6.5"
  }
 },
 "nbformat": 4,
 "nbformat_minor": 2
}
