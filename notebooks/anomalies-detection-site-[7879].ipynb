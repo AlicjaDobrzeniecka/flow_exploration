{
 "cells": [
  {
   "cell_type": "markdown",
   "metadata": {},
   "source": [
    "# Toronto anomalies analysis\n",
    "Anomalies detection and performance measurement"
   ]
  },
  {
   "cell_type": "markdown",
   "metadata": {},
   "source": [
    "### Importing necessary libraries"
   ]
  },
  {
   "cell_type": "code",
   "execution_count": 3,
   "metadata": {},
   "outputs": [],
   "source": [
    "import numpy as np\n",
    "import pandas as pd\n",
    "import matplotlib.pyplot as plt\n",
    "from matplotlib import rcParams\n",
    "import utils\n",
    "import os.path"
   ]
  },
  {
   "cell_type": "markdown",
   "metadata": {},
   "source": [
    "### Loading the data"
   ]
  },
  {
   "cell_type": "code",
   "execution_count": 13,
   "metadata": {},
   "outputs": [
    {
     "data": {
      "text/html": [
       "<div>\n",
       "<style scoped>\n",
       "    .dataframe tbody tr th:only-of-type {\n",
       "        vertical-align: middle;\n",
       "    }\n",
       "\n",
       "    .dataframe tbody tr th {\n",
       "        vertical-align: top;\n",
       "    }\n",
       "\n",
       "    .dataframe thead th {\n",
       "        text-align: right;\n",
       "    }\n",
       "</style>\n",
       "<table border=\"1\" class=\"dataframe\">\n",
       "  <thead>\n",
       "    <tr style=\"text-align: right;\">\n",
       "      <th></th>\n",
       "      <th>siteId</th>\n",
       "      <th>channelId</th>\n",
       "      <th>channelName</th>\n",
       "      <th>units</th>\n",
       "      <th>isCalculated</th>\n",
       "    </tr>\n",
       "  </thead>\n",
       "  <tbody>\n",
       "    <tr>\n",
       "      <th>81434</th>\n",
       "      <td>7879</td>\n",
       "      <td>11723</td>\n",
       "      <td>MP1 BTYVOLT</td>\n",
       "      <td>V</td>\n",
       "      <td>False</td>\n",
       "    </tr>\n",
       "    <tr>\n",
       "      <th>81435</th>\n",
       "      <td>7879</td>\n",
       "      <td>11722</td>\n",
       "      <td>MP1 UpDEPTH_1</td>\n",
       "      <td>mm</td>\n",
       "      <td>False</td>\n",
       "    </tr>\n",
       "    <tr>\n",
       "      <th>81436</th>\n",
       "      <td>7879</td>\n",
       "      <td>11721</td>\n",
       "      <td>MP1 UNIDEPTH</td>\n",
       "      <td>mm</td>\n",
       "      <td>False</td>\n",
       "    </tr>\n",
       "    <tr>\n",
       "      <th>81437</th>\n",
       "      <td>7879</td>\n",
       "      <td>11720</td>\n",
       "      <td>MP1 RAWVEL</td>\n",
       "      <td>m/s</td>\n",
       "      <td>False</td>\n",
       "    </tr>\n",
       "    <tr>\n",
       "      <th>81438</th>\n",
       "      <td>7879</td>\n",
       "      <td>11719</td>\n",
       "      <td>MP1 PEAKVEL_1</td>\n",
       "      <td>m/s</td>\n",
       "      <td>False</td>\n",
       "    </tr>\n",
       "  </tbody>\n",
       "</table>\n",
       "</div>"
      ],
      "text/plain": [
       "       siteId  channelId    channelName units  isCalculated\n",
       "81434    7879      11723    MP1 BTYVOLT     V         False\n",
       "81435    7879      11722  MP1 UpDEPTH_1    mm         False\n",
       "81436    7879      11721   MP1 UNIDEPTH    mm         False\n",
       "81437    7879      11720     MP1 RAWVEL   m/s         False\n",
       "81438    7879      11719  MP1 PEAKVEL_1   m/s         False"
      ]
     },
     "execution_count": 13,
     "metadata": {},
     "output_type": "execute_result"
    }
   ],
   "source": [
    "SITE = 7879\n",
    "channels = pd.read_csv('../dataset/channels.csv')\n",
    "channels[channels.siteId == SITE].head()"
   ]
  },
  {
   "cell_type": "markdown",
   "metadata": {},
   "source": [
    "### Assigning the channelId value to variable"
   ]
  },
  {
   "cell_type": "code",
   "execution_count": 11,
   "metadata": {},
   "outputs": [],
   "source": [
    "q_raw = 14851\n",
    "mp1_q_final = 11726"
   ]
  },
  {
   "cell_type": "markdown",
   "metadata": {},
   "source": [
    "### Using utils to load the values from chosen channels"
   ]
  },
  {
   "cell_type": "code",
   "execution_count": 12,
   "metadata": {},
   "outputs": [],
   "source": [
    "q_raw = utils.load_channel_data(SITE, q_raw).rename('q_raw').fillna(0)\n",
    "mp1_q_final = utils.load_channel_data(SITE, mp1_q_final).rename('mp1_q_final').fillna(0)"
   ]
  },
  {
   "cell_type": "markdown",
   "metadata": {},
   "source": [
    "### Short description of the data"
   ]
  },
  {
   "cell_type": "code",
   "execution_count": 18,
   "metadata": {},
   "outputs": [
    {
     "data": {
      "text/plain": [
       "count    264891.000000\n",
       "mean         20.450752\n",
       "std          92.038402\n",
       "min           0.000000\n",
       "25%           0.000000\n",
       "50%           0.000000\n",
       "75%           0.000000\n",
       "max        1574.525513\n",
       "Name: q_raw, dtype: float64"
      ]
     },
     "execution_count": 18,
     "metadata": {},
     "output_type": "execute_result"
    }
   ],
   "source": [
    "q_raw.describe()"
   ]
  },
  {
   "cell_type": "code",
   "execution_count": 19,
   "metadata": {},
   "outputs": [
    {
     "data": {
      "text/plain": [
       "count    258943.000000\n",
       "mean        451.324441\n",
       "std         133.677782\n",
       "min          84.080002\n",
       "25%         363.100006\n",
       "50%         464.700012\n",
       "75%         518.299988\n",
       "max        1798.500000\n",
       "Name: mp1_q_final, dtype: float64"
      ]
     },
     "execution_count": 19,
     "metadata": {},
     "output_type": "execute_result"
    }
   ],
   "source": [
    "mp1_q_final.describe()"
   ]
  },
  {
   "cell_type": "markdown",
   "metadata": {},
   "source": [
    "### Adding the difference between raw and final"
   ]
  },
  {
   "cell_type": "code",
   "execution_count": 21,
   "metadata": {},
   "outputs": [
    {
     "name": "stdout",
     "output_type": "stream",
     "text": [
      "Anomalies in q_raw: 258943\n",
      "                     q_raw  mp1_q_final      q_diff\n",
      "time                                               \n",
      "2015-10-06 12:55:00    0.0   440.100006  440.100006\n",
      "2015-10-06 13:00:00    0.0   516.700012  516.700012\n",
      "2015-10-06 13:05:00    0.0   515.700012  515.700012\n",
      "2015-10-06 13:10:00    0.0   504.700012  504.700012\n",
      "2015-10-06 13:15:00    0.0   507.799988  507.799988\n"
     ]
    }
   ],
   "source": [
    "df = pd.concat([q_raw, mp1_q_final], axis=1).dropna()\n",
    "df['q_diff'] = np.abs(df.mp1_q_final - df.q_raw)\n",
    "print('Anomalies in q_raw: {:}'.format(len(df[df['q_diff'] > 1])))\n",
    "print(df.head())"
   ]
  },
  {
   "cell_type": "markdown",
   "metadata": {},
   "source": [
    "### Creating anomalies data frame"
   ]
  },
  {
   "cell_type": "code",
   "execution_count": 23,
   "metadata": {},
   "outputs": [
    {
     "data": {
      "text/html": [
       "<div>\n",
       "<style scoped>\n",
       "    .dataframe tbody tr th:only-of-type {\n",
       "        vertical-align: middle;\n",
       "    }\n",
       "\n",
       "    .dataframe tbody tr th {\n",
       "        vertical-align: top;\n",
       "    }\n",
       "\n",
       "    .dataframe thead th {\n",
       "        text-align: right;\n",
       "    }\n",
       "</style>\n",
       "<table border=\"1\" class=\"dataframe\">\n",
       "  <thead>\n",
       "    <tr style=\"text-align: right;\">\n",
       "      <th></th>\n",
       "      <th>q_raw</th>\n",
       "      <th>mp1_q_final</th>\n",
       "      <th>q_diff</th>\n",
       "    </tr>\n",
       "    <tr>\n",
       "      <th>time</th>\n",
       "      <th></th>\n",
       "      <th></th>\n",
       "      <th></th>\n",
       "    </tr>\n",
       "  </thead>\n",
       "  <tbody>\n",
       "    <tr>\n",
       "      <th>2015-10-06 12:55:00</th>\n",
       "      <td>0.0</td>\n",
       "      <td>440.100006</td>\n",
       "      <td>440.100006</td>\n",
       "    </tr>\n",
       "    <tr>\n",
       "      <th>2015-10-06 13:00:00</th>\n",
       "      <td>0.0</td>\n",
       "      <td>516.700012</td>\n",
       "      <td>516.700012</td>\n",
       "    </tr>\n",
       "    <tr>\n",
       "      <th>2015-10-06 13:05:00</th>\n",
       "      <td>0.0</td>\n",
       "      <td>515.700012</td>\n",
       "      <td>515.700012</td>\n",
       "    </tr>\n",
       "    <tr>\n",
       "      <th>2015-10-06 13:10:00</th>\n",
       "      <td>0.0</td>\n",
       "      <td>504.700012</td>\n",
       "      <td>504.700012</td>\n",
       "    </tr>\n",
       "    <tr>\n",
       "      <th>2015-10-06 13:15:00</th>\n",
       "      <td>0.0</td>\n",
       "      <td>507.799988</td>\n",
       "      <td>507.799988</td>\n",
       "    </tr>\n",
       "  </tbody>\n",
       "</table>\n",
       "</div>"
      ],
      "text/plain": [
       "                     q_raw  mp1_q_final      q_diff\n",
       "time                                               \n",
       "2015-10-06 12:55:00    0.0   440.100006  440.100006\n",
       "2015-10-06 13:00:00    0.0   516.700012  516.700012\n",
       "2015-10-06 13:05:00    0.0   515.700012  515.700012\n",
       "2015-10-06 13:10:00    0.0   504.700012  504.700012\n",
       "2015-10-06 13:15:00    0.0   507.799988  507.799988"
      ]
     },
     "execution_count": 23,
     "metadata": {},
     "output_type": "execute_result"
    }
   ],
   "source": [
    "anomalies = df[df.q_diff > 1]\n",
    "anomalies[['q_raw','mp1_q_final','q_diff']].head()"
   ]
  },
  {
   "cell_type": "markdown",
   "metadata": {},
   "source": [
    "### Short description of the anomalies data frame"
   ]
  },
  {
   "cell_type": "code",
   "execution_count": 25,
   "metadata": {},
   "outputs": [
    {
     "data": {
      "text/html": [
       "<div>\n",
       "<style scoped>\n",
       "    .dataframe tbody tr th:only-of-type {\n",
       "        vertical-align: middle;\n",
       "    }\n",
       "\n",
       "    .dataframe tbody tr th {\n",
       "        vertical-align: top;\n",
       "    }\n",
       "\n",
       "    .dataframe thead th {\n",
       "        text-align: right;\n",
       "    }\n",
       "</style>\n",
       "<table border=\"1\" class=\"dataframe\">\n",
       "  <thead>\n",
       "    <tr style=\"text-align: right;\">\n",
       "      <th></th>\n",
       "      <th>q_raw</th>\n",
       "      <th>mp1_q_final</th>\n",
       "      <th>q_diff</th>\n",
       "    </tr>\n",
       "  </thead>\n",
       "  <tbody>\n",
       "    <tr>\n",
       "      <th>count</th>\n",
       "      <td>258943.000000</td>\n",
       "      <td>258943.000000</td>\n",
       "      <td>258943.000000</td>\n",
       "    </tr>\n",
       "    <tr>\n",
       "      <th>mean</th>\n",
       "      <td>13.485566</td>\n",
       "      <td>451.324441</td>\n",
       "      <td>437.838875</td>\n",
       "    </tr>\n",
       "    <tr>\n",
       "      <th>std</th>\n",
       "      <td>73.432963</td>\n",
       "      <td>133.677782</td>\n",
       "      <td>151.847906</td>\n",
       "    </tr>\n",
       "    <tr>\n",
       "      <th>min</th>\n",
       "      <td>0.000000</td>\n",
       "      <td>84.080002</td>\n",
       "      <td>16.934204</td>\n",
       "    </tr>\n",
       "    <tr>\n",
       "      <th>25%</th>\n",
       "      <td>0.000000</td>\n",
       "      <td>363.100006</td>\n",
       "      <td>345.799988</td>\n",
       "    </tr>\n",
       "    <tr>\n",
       "      <th>50%</th>\n",
       "      <td>0.000000</td>\n",
       "      <td>464.700012</td>\n",
       "      <td>460.799988</td>\n",
       "    </tr>\n",
       "    <tr>\n",
       "      <th>75%</th>\n",
       "      <td>0.000000</td>\n",
       "      <td>518.299988</td>\n",
       "      <td>516.400024</td>\n",
       "    </tr>\n",
       "    <tr>\n",
       "      <th>max</th>\n",
       "      <td>706.461731</td>\n",
       "      <td>1798.500000</td>\n",
       "      <td>1798.500000</td>\n",
       "    </tr>\n",
       "  </tbody>\n",
       "</table>\n",
       "</div>"
      ],
      "text/plain": [
       "               q_raw    mp1_q_final         q_diff\n",
       "count  258943.000000  258943.000000  258943.000000\n",
       "mean       13.485566     451.324441     437.838875\n",
       "std        73.432963     133.677782     151.847906\n",
       "min         0.000000      84.080002      16.934204\n",
       "25%         0.000000     363.100006     345.799988\n",
       "50%         0.000000     464.700012     460.799988\n",
       "75%         0.000000     518.299988     516.400024\n",
       "max       706.461731    1798.500000    1798.500000"
      ]
     },
     "execution_count": 25,
     "metadata": {},
     "output_type": "execute_result"
    }
   ],
   "source": [
    "anomalies.describe()"
   ]
  },
  {
   "cell_type": "code",
   "execution_count": null,
   "metadata": {},
   "outputs": [],
   "source": []
  }
 ],
 "metadata": {
  "kernelspec": {
   "display_name": "Python 3",
   "language": "python",
   "name": "python3"
  },
  "language_info": {
   "codemirror_mode": {
    "name": "ipython",
    "version": 3
   },
   "file_extension": ".py",
   "mimetype": "text/x-python",
   "name": "python",
   "nbconvert_exporter": "python",
   "pygments_lexer": "ipython3",
   "version": "3.6.5"
  }
 },
 "nbformat": 4,
 "nbformat_minor": 2
}
