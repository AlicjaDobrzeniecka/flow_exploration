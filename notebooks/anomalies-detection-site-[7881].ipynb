{
 "cells": [
  {
   "cell_type": "markdown",
   "metadata": {},
   "source": [
    "# Toronto anomalies analysis\n",
    "Anomalies detection and performance measurement"
   ]
  },
  {
   "cell_type": "markdown",
   "metadata": {},
   "source": [
    "### Importing necessary libraries"
   ]
  },
  {
   "cell_type": "code",
   "execution_count": 1,
   "metadata": {},
   "outputs": [],
   "source": [
    "import numpy as np\n",
    "import pandas as pd\n",
    "import matplotlib.pyplot as plt\n",
    "from matplotlib import rcParams\n",
    "import utils\n",
    "import os.path\n",
    "from __future__ import division\n",
    "from sklearn import preprocessing\n",
    "import matplotlib.dates as mdates\n",
    "import statsmodels.api as sm\n",
    "import seaborn as sns\n",
    "from sklearn.metrics import f1_score\n",
    "sns.set_style('whitegrid')\n",
    "sns.set_context('talk')\n",
    "import statistics"
   ]
  },
  {
   "cell_type": "markdown",
   "metadata": {},
   "source": [
    "### Loading the data"
   ]
  },
  {
   "cell_type": "code",
   "execution_count": 2,
   "metadata": {},
   "outputs": [
    {
     "data": {
      "text/html": [
       "<div>\n",
       "<style scoped>\n",
       "    .dataframe tbody tr th:only-of-type {\n",
       "        vertical-align: middle;\n",
       "    }\n",
       "\n",
       "    .dataframe tbody tr th {\n",
       "        vertical-align: top;\n",
       "    }\n",
       "\n",
       "    .dataframe thead th {\n",
       "        text-align: right;\n",
       "    }\n",
       "</style>\n",
       "<table border=\"1\" class=\"dataframe\">\n",
       "  <thead>\n",
       "    <tr style=\"text-align: right;\">\n",
       "      <th></th>\n",
       "      <th>siteId</th>\n",
       "      <th>channelId</th>\n",
       "      <th>channelName</th>\n",
       "      <th>units</th>\n",
       "      <th>isCalculated</th>\n",
       "    </tr>\n",
       "  </thead>\n",
       "  <tbody>\n",
       "    <tr>\n",
       "      <th>81478</th>\n",
       "      <td>7881</td>\n",
       "      <td>14656</td>\n",
       "      <td>V Raw Average</td>\n",
       "      <td>m/s</td>\n",
       "      <td>False</td>\n",
       "    </tr>\n",
       "    <tr>\n",
       "      <th>81479</th>\n",
       "      <td>7881</td>\n",
       "      <td>14033</td>\n",
       "      <td>Raw Average Velocity</td>\n",
       "      <td>m/s</td>\n",
       "      <td>False</td>\n",
       "    </tr>\n",
       "    <tr>\n",
       "      <th>81480</th>\n",
       "      <td>7881</td>\n",
       "      <td>11738</td>\n",
       "      <td>MP1 PDEPTH_1</td>\n",
       "      <td>mm</td>\n",
       "      <td>False</td>\n",
       "    </tr>\n",
       "    <tr>\n",
       "      <th>81481</th>\n",
       "      <td>7881</td>\n",
       "      <td>11745</td>\n",
       "      <td>MP1 VFINAL</td>\n",
       "      <td>m/s</td>\n",
       "      <td>False</td>\n",
       "    </tr>\n",
       "    <tr>\n",
       "      <th>81482</th>\n",
       "      <td>7881</td>\n",
       "      <td>19698</td>\n",
       "      <td>MP1 VInterim</td>\n",
       "      <td>m/s</td>\n",
       "      <td>False</td>\n",
       "    </tr>\n",
       "  </tbody>\n",
       "</table>\n",
       "</div>"
      ],
      "text/plain": [
       "       siteId  channelId           channelName units  isCalculated\n",
       "81478    7881      14656         V Raw Average   m/s         False\n",
       "81479    7881      14033  Raw Average Velocity   m/s         False\n",
       "81480    7881      11738          MP1 PDEPTH_1    mm         False\n",
       "81481    7881      11745            MP1 VFINAL   m/s         False\n",
       "81482    7881      19698          MP1 VInterim   m/s         False"
      ]
     },
     "execution_count": 2,
     "metadata": {},
     "output_type": "execute_result"
    }
   ],
   "source": [
    "SITE = 7881\n",
    "channels = pd.read_csv('../dataset/channels.csv')\n",
    "channels[channels.siteId == SITE].head()"
   ]
  },
  {
   "cell_type": "markdown",
   "metadata": {},
   "source": [
    "### Assigning the channelId value to variable"
   ]
  },
  {
   "cell_type": "code",
   "execution_count": 3,
   "metadata": {},
   "outputs": [],
   "source": [
    "raw = 11742\n",
    "final = 11744"
   ]
  },
  {
   "cell_type": "markdown",
   "metadata": {},
   "source": [
    "### Using utils to load the values from chosen channels"
   ]
  },
  {
   "cell_type": "code",
   "execution_count": 4,
   "metadata": {},
   "outputs": [],
   "source": [
    "raw = utils.load_channel_data(SITE, raw).rename('raw').fillna(0)\n",
    "final = utils.load_channel_data(SITE, final).rename('final').fillna(0)"
   ]
  },
  {
   "cell_type": "markdown",
   "metadata": {},
   "source": [
    "### Short description of the data"
   ]
  },
  {
   "cell_type": "code",
   "execution_count": 5,
   "metadata": {},
   "outputs": [
    {
     "data": {
      "text/plain": [
       "count    334081.000000\n",
       "mean        220.228096\n",
       "std          99.490495\n",
       "min        -253.750000\n",
       "25%         212.250000\n",
       "50%         251.360001\n",
       "75%         268.940002\n",
       "max         714.309998\n",
       "Name: raw, dtype: float64"
      ]
     },
     "execution_count": 5,
     "metadata": {},
     "output_type": "execute_result"
    }
   ],
   "source": [
    "raw.describe()"
   ]
  },
  {
   "cell_type": "code",
   "execution_count": 6,
   "metadata": {},
   "outputs": [
    {
     "data": {
      "text/plain": [
       "count    285241.000000\n",
       "mean        248.445642\n",
       "std          32.769104\n",
       "min         118.669998\n",
       "25%         229.869995\n",
       "50%         253.250000\n",
       "75%         269.390015\n",
       "max         622.309998\n",
       "Name: final, dtype: float64"
      ]
     },
     "execution_count": 6,
     "metadata": {},
     "output_type": "execute_result"
    }
   ],
   "source": [
    "final.describe()"
   ]
  },
  {
   "cell_type": "markdown",
   "metadata": {},
   "source": [
    "### Creating data frame on all data"
   ]
  },
  {
   "cell_type": "code",
   "execution_count": 7,
   "metadata": {},
   "outputs": [],
   "source": [
    "all_data = pd.concat([raw,final],axis=1)\n",
    "all_data['diff'] = np.abs(all_data['raw'] - all_data['final'])\n",
    "all_data = all_data.dropna()\n",
    "all_data = all_data.reset_index()"
   ]
  },
  {
   "cell_type": "code",
   "execution_count": 8,
   "metadata": {},
   "outputs": [
    {
     "data": {
      "text/html": [
       "<div>\n",
       "<style scoped>\n",
       "    .dataframe tbody tr th:only-of-type {\n",
       "        vertical-align: middle;\n",
       "    }\n",
       "\n",
       "    .dataframe tbody tr th {\n",
       "        vertical-align: top;\n",
       "    }\n",
       "\n",
       "    .dataframe thead th {\n",
       "        text-align: right;\n",
       "    }\n",
       "</style>\n",
       "<table border=\"1\" class=\"dataframe\">\n",
       "  <thead>\n",
       "    <tr style=\"text-align: right;\">\n",
       "      <th></th>\n",
       "      <th>raw</th>\n",
       "      <th>final</th>\n",
       "      <th>diff</th>\n",
       "    </tr>\n",
       "  </thead>\n",
       "  <tbody>\n",
       "    <tr>\n",
       "      <th>count</th>\n",
       "      <td>284093.000000</td>\n",
       "      <td>284093.000000</td>\n",
       "      <td>284093.000000</td>\n",
       "    </tr>\n",
       "    <tr>\n",
       "      <th>mean</th>\n",
       "      <td>233.715441</td>\n",
       "      <td>248.452225</td>\n",
       "      <td>15.119353</td>\n",
       "    </tr>\n",
       "    <tr>\n",
       "      <th>std</th>\n",
       "      <td>64.159360</td>\n",
       "      <td>32.796490</td>\n",
       "      <td>53.732429</td>\n",
       "    </tr>\n",
       "    <tr>\n",
       "      <th>min</th>\n",
       "      <td>9.660000</td>\n",
       "      <td>118.669998</td>\n",
       "      <td>0.000000</td>\n",
       "    </tr>\n",
       "    <tr>\n",
       "      <th>25%</th>\n",
       "      <td>218.360001</td>\n",
       "      <td>229.860001</td>\n",
       "      <td>0.000000</td>\n",
       "    </tr>\n",
       "    <tr>\n",
       "      <th>50%</th>\n",
       "      <td>251.929993</td>\n",
       "      <td>253.259995</td>\n",
       "      <td>0.000000</td>\n",
       "    </tr>\n",
       "    <tr>\n",
       "      <th>75%</th>\n",
       "      <td>269.070007</td>\n",
       "      <td>269.420013</td>\n",
       "      <td>0.000000</td>\n",
       "    </tr>\n",
       "    <tr>\n",
       "      <th>max</th>\n",
       "      <td>714.309998</td>\n",
       "      <td>622.309998</td>\n",
       "      <td>454.829987</td>\n",
       "    </tr>\n",
       "  </tbody>\n",
       "</table>\n",
       "</div>"
      ],
      "text/plain": [
       "                 raw          final           diff\n",
       "count  284093.000000  284093.000000  284093.000000\n",
       "mean      233.715441     248.452225      15.119353\n",
       "std        64.159360      32.796490      53.732429\n",
       "min         9.660000     118.669998       0.000000\n",
       "25%       218.360001     229.860001       0.000000\n",
       "50%       251.929993     253.259995       0.000000\n",
       "75%       269.070007     269.420013       0.000000\n",
       "max       714.309998     622.309998     454.829987"
      ]
     },
     "execution_count": 8,
     "metadata": {},
     "output_type": "execute_result"
    }
   ],
   "source": [
    "all_data.describe()"
   ]
  },
  {
   "cell_type": "markdown",
   "metadata": {},
   "source": [
    "### Showing the general plot of all data"
   ]
  },
  {
   "cell_type": "code",
   "execution_count": 9,
   "metadata": {},
   "outputs": [
    {
     "data": {
      "image/png": "[encoded data removed]",
      "text/plain": [
       "<Figure size 720x576 with 1 Axes>"
      ]
     },
     "metadata": {},
     "output_type": "display_data"
    }
   ],
   "source": [
    "plt.figure(figsize=(10, 8))\n",
    "\n",
    "plt.plot(all_data['time'].values.reshape(-1,1), all_data['raw'], color=\"red\",\n",
    "    label=\"raw\")\n",
    "plt.plot(all_data['time'].values.reshape(-1,1), all_data['final'], c='blue', label=\"final data\")\n",
    "plt.xlabel(\"date\")\n",
    "plt.ylabel(\"value in mm\")\n",
    "plt.title(\"site 7881\")\n",
    "plt.legend()\n",
    "plt.show()"
   ]
  },
  {
   "cell_type": "markdown",
   "metadata": {},
   "source": [
    "### Adding the difference between raw and final"
   ]
  },
  {
   "cell_type": "code",
   "execution_count": 10,
   "metadata": {},
   "outputs": [
    {
     "name": "stdout",
     "output_type": "stream",
     "text": [
      "Anomalies in raw: 31150\n"
     ]
    }
   ],
   "source": [
    "df = pd.concat([raw, final], axis=1).dropna()\n",
    "df['diff'] = np.abs(df.raw - df.final)\n",
    "print('Anomalies in raw: {:}'.format(len(df[df['diff'] > 1])))"
   ]
  },
  {
   "cell_type": "markdown",
   "metadata": {},
   "source": [
    "### Creating anomalies data frame"
   ]
  },
  {
   "cell_type": "code",
   "execution_count": 11,
   "metadata": {},
   "outputs": [
    {
     "data": {
      "text/html": [
       "<div>\n",
       "<style scoped>\n",
       "    .dataframe tbody tr th:only-of-type {\n",
       "        vertical-align: middle;\n",
       "    }\n",
       "\n",
       "    .dataframe tbody tr th {\n",
       "        vertical-align: top;\n",
       "    }\n",
       "\n",
       "    .dataframe thead th {\n",
       "        text-align: right;\n",
       "    }\n",
       "</style>\n",
       "<table border=\"1\" class=\"dataframe\">\n",
       "  <thead>\n",
       "    <tr style=\"text-align: right;\">\n",
       "      <th></th>\n",
       "      <th>raw</th>\n",
       "      <th>final</th>\n",
       "      <th>diff</th>\n",
       "    </tr>\n",
       "  </thead>\n",
       "  <tbody>\n",
       "    <tr>\n",
       "      <th>0</th>\n",
       "      <td>259.720001</td>\n",
       "      <td>275.579987</td>\n",
       "      <td>15.859985</td>\n",
       "    </tr>\n",
       "    <tr>\n",
       "      <th>1</th>\n",
       "      <td>253.669998</td>\n",
       "      <td>263.100006</td>\n",
       "      <td>9.430008</td>\n",
       "    </tr>\n",
       "    <tr>\n",
       "      <th>2</th>\n",
       "      <td>258.690002</td>\n",
       "      <td>262.519989</td>\n",
       "      <td>3.829987</td>\n",
       "    </tr>\n",
       "    <tr>\n",
       "      <th>3</th>\n",
       "      <td>256.290009</td>\n",
       "      <td>260.390015</td>\n",
       "      <td>4.100006</td>\n",
       "    </tr>\n",
       "    <tr>\n",
       "      <th>4</th>\n",
       "      <td>253.600006</td>\n",
       "      <td>259.440002</td>\n",
       "      <td>5.839996</td>\n",
       "    </tr>\n",
       "  </tbody>\n",
       "</table>\n",
       "</div>"
      ],
      "text/plain": [
       "          raw       final       diff\n",
       "0  259.720001  275.579987  15.859985\n",
       "1  253.669998  263.100006   9.430008\n",
       "2  258.690002  262.519989   3.829987\n",
       "3  256.290009  260.390015   4.100006\n",
       "4  253.600006  259.440002   5.839996"
      ]
     },
     "execution_count": 11,
     "metadata": {},
     "output_type": "execute_result"
    }
   ],
   "source": [
    "anomalies = df[df['diff'] > 1]\n",
    "anomalies = anomalies.reset_index()\n",
    "anomalies[['raw','final','diff']].head()"
   ]
  },
  {
   "cell_type": "markdown",
   "metadata": {},
   "source": [
    "### Short description of the anomalies data frame"
   ]
  },
  {
   "cell_type": "code",
   "execution_count": 12,
   "metadata": {},
   "outputs": [
    {
     "data": {
      "text/html": [
       "<div>\n",
       "<style scoped>\n",
       "    .dataframe tbody tr th:only-of-type {\n",
       "        vertical-align: middle;\n",
       "    }\n",
       "\n",
       "    .dataframe tbody tr th {\n",
       "        vertical-align: top;\n",
       "    }\n",
       "\n",
       "    .dataframe thead th {\n",
       "        text-align: right;\n",
       "    }\n",
       "</style>\n",
       "<table border=\"1\" class=\"dataframe\">\n",
       "  <thead>\n",
       "    <tr style=\"text-align: right;\">\n",
       "      <th></th>\n",
       "      <th>raw</th>\n",
       "      <th>final</th>\n",
       "      <th>diff</th>\n",
       "    </tr>\n",
       "  </thead>\n",
       "  <tbody>\n",
       "    <tr>\n",
       "      <th>count</th>\n",
       "      <td>31150.000000</td>\n",
       "      <td>31150.000000</td>\n",
       "      <td>31150.000000</td>\n",
       "    </tr>\n",
       "    <tr>\n",
       "      <th>mean</th>\n",
       "      <td>107.372836</td>\n",
       "      <td>241.775380</td>\n",
       "      <td>137.871722</td>\n",
       "    </tr>\n",
       "    <tr>\n",
       "      <th>std</th>\n",
       "      <td>103.313789</td>\n",
       "      <td>28.616929</td>\n",
       "      <td>96.994310</td>\n",
       "    </tr>\n",
       "    <tr>\n",
       "      <th>min</th>\n",
       "      <td>9.660000</td>\n",
       "      <td>168.910004</td>\n",
       "      <td>1.009995</td>\n",
       "    </tr>\n",
       "    <tr>\n",
       "      <th>25%</th>\n",
       "      <td>30.440001</td>\n",
       "      <td>221.872498</td>\n",
       "      <td>9.319996</td>\n",
       "    </tr>\n",
       "    <tr>\n",
       "      <th>50%</th>\n",
       "      <td>38.000000</td>\n",
       "      <td>247.149994</td>\n",
       "      <td>183.534998</td>\n",
       "    </tr>\n",
       "    <tr>\n",
       "      <th>75%</th>\n",
       "      <td>232.825001</td>\n",
       "      <td>259.989990</td>\n",
       "      <td>217.619995</td>\n",
       "    </tr>\n",
       "    <tr>\n",
       "      <th>max</th>\n",
       "      <td>714.309998</td>\n",
       "      <td>492.570007</td>\n",
       "      <td>454.829987</td>\n",
       "    </tr>\n",
       "  </tbody>\n",
       "</table>\n",
       "</div>"
      ],
      "text/plain": [
       "                raw         final          diff\n",
       "count  31150.000000  31150.000000  31150.000000\n",
       "mean     107.372836    241.775380    137.871722\n",
       "std      103.313789     28.616929     96.994310\n",
       "min        9.660000    168.910004      1.009995\n",
       "25%       30.440001    221.872498      9.319996\n",
       "50%       38.000000    247.149994    183.534998\n",
       "75%      232.825001    259.989990    217.619995\n",
       "max      714.309998    492.570007    454.829987"
      ]
     },
     "execution_count": 12,
     "metadata": {},
     "output_type": "execute_result"
    }
   ],
   "source": [
    "anomalies.describe()"
   ]
  },
  {
   "cell_type": "markdown",
   "metadata": {},
   "source": [
    "# Implementing and testing F1 score metric\n",
    "Implementation on naive model which predicted 0 anomalies"
   ]
  },
  {
   "cell_type": "code",
   "execution_count": 13,
   "metadata": {},
   "outputs": [
    {
     "name": "stdout",
     "output_type": "stream",
     "text": [
      "Anomalies in raw: 31150\n"
     ]
    }
   ],
   "source": [
    "print('Anomalies in raw: {:}'.format(len(all_data[all_data['diff'] > 1])))"
   ]
  },
  {
   "cell_type": "code",
   "execution_count": 14,
   "metadata": {},
   "outputs": [],
   "source": [
    "all_data['if_anomaly'] = 0\n",
    "all_data['if_anomaly'] = (all_data['diff']).map(lambda x: 1 if x>1 else 0)"
   ]
  },
  {
   "cell_type": "code",
   "execution_count": 15,
   "metadata": {},
   "outputs": [],
   "source": [
    "all_data['naive_model'] = 0"
   ]
  },
  {
   "cell_type": "markdown",
   "metadata": {},
   "source": [
    "### Implementing F1 score manually"
   ]
  },
  {
   "cell_type": "code",
   "execution_count": 16,
   "metadata": {},
   "outputs": [],
   "source": [
    "def F1(precision, recall):\n",
    "    score = 2 * (precision * recall) / (precision + recall)\n",
    "    return score"
   ]
  },
  {
   "cell_type": "code",
   "execution_count": 17,
   "metadata": {},
   "outputs": [],
   "source": [
    "#TruePositive = Number of positives that are correctly predicted\n",
    "#FalsePositive = Number of predicted positives that are incorrect\n",
    "\n",
    "def precision(TruePositive, FalsePositive):\n",
    "    prec = TruePositive/(TruePositive+FalsePositive)\n",
    "    return prec"
   ]
  },
  {
   "cell_type": "code",
   "execution_count": 18,
   "metadata": {},
   "outputs": [],
   "source": [
    "#TruePositive = Number of positives that are correctly predicted\n",
    "#FalseNegative = Number of negatives that are incorrectly classified\n",
    "\n",
    "def recall(TruePositive, FalseNegative):\n",
    "    rec = TruePositive/(TruePositive+FalseNegative)\n",
    "    return rec"
   ]
  },
  {
   "cell_type": "markdown",
   "metadata": {},
   "source": [
    "### Implementing F1 score with the existing library"
   ]
  },
  {
   "cell_type": "code",
   "execution_count": 19,
   "metadata": {},
   "outputs": [],
   "source": [
    "y_true = all_data['if_anomaly']\n",
    "y_pred = all_data['naive_model']"
   ]
  },
  {
   "cell_type": "code",
   "execution_count": 20,
   "metadata": {},
   "outputs": [
    {
     "name": "stderr",
     "output_type": "stream",
     "text": [
      "/home/alicja/anaconda3/lib/python3.6/site-packages/sklearn/metrics/classification.py:1135: UndefinedMetricWarning: F-score is ill-defined and being set to 0.0 due to no predicted samples.\n",
      "  'precision', 'predicted', average, warn_for)\n"
     ]
    },
    {
     "data": {
      "text/plain": [
       "0.0"
      ]
     },
     "execution_count": 20,
     "metadata": {},
     "output_type": "execute_result"
    }
   ],
   "source": [
    "f1_score(y_true, y_pred)"
   ]
  },
  {
   "cell_type": "markdown",
   "metadata": {},
   "source": [
    "# Implementing different models for anomalies detection"
   ]
  },
  {
   "cell_type": "markdown",
   "metadata": {},
   "source": [
    "### First glance at the distribution of the data\n",
    "Using Boxplot "
   ]
  },
  {
   "cell_type": "code",
   "execution_count": 21,
   "metadata": {},
   "outputs": [
    {
     "data": {
      "text/plain": [
       "<matplotlib.axes._subplots.AxesSubplot at 0x7f84cb090588>"
      ]
     },
     "execution_count": 21,
     "metadata": {},
     "output_type": "execute_result"
    },
    {
     "data": {
      "image/png": "[encoded data removed]",
      "text/plain": [
       "<Figure size 720x576 with 1 Axes>"
      ]
     },
     "metadata": {},
     "output_type": "display_data"
    }
   ],
   "source": [
    "import seaborn as sns\n",
    "plt.figure(figsize=(10, 8))\n",
    "sns.boxplot(x=all_data['raw'])"
   ]
  },
  {
   "cell_type": "markdown",
   "metadata": {},
   "source": [
    "### Creating train and test sets"
   ]
  },
  {
   "cell_type": "code",
   "execution_count": 22,
   "metadata": {},
   "outputs": [],
   "source": [
    "split_date = pd.datetime(2016,12,31,23,59)\n",
    "\n",
    "a_training = all_data.loc[all_data['time'] <= split_date]\n",
    "a_test = all_data.loc[all_data['time'] > split_date]"
   ]
  },
  {
   "cell_type": "code",
   "execution_count": 23,
   "metadata": {},
   "outputs": [
    {
     "data": {
      "text/html": [
       "<div>\n",
       "<style scoped>\n",
       "    .dataframe tbody tr th:only-of-type {\n",
       "        vertical-align: middle;\n",
       "    }\n",
       "\n",
       "    .dataframe tbody tr th {\n",
       "        vertical-align: top;\n",
       "    }\n",
       "\n",
       "    .dataframe thead th {\n",
       "        text-align: right;\n",
       "    }\n",
       "</style>\n",
       "<table border=\"1\" class=\"dataframe\">\n",
       "  <thead>\n",
       "    <tr style=\"text-align: right;\">\n",
       "      <th></th>\n",
       "      <th>time</th>\n",
       "      <th>raw</th>\n",
       "      <th>final</th>\n",
       "      <th>diff</th>\n",
       "      <th>if_anomaly</th>\n",
       "      <th>naive_model</th>\n",
       "    </tr>\n",
       "  </thead>\n",
       "  <tbody>\n",
       "    <tr>\n",
       "      <th>0</th>\n",
       "      <td>2015-06-02 10:45:00</td>\n",
       "      <td>259.720001</td>\n",
       "      <td>275.579987</td>\n",
       "      <td>15.859985</td>\n",
       "      <td>1</td>\n",
       "      <td>0</td>\n",
       "    </tr>\n",
       "    <tr>\n",
       "      <th>1</th>\n",
       "      <td>2015-06-02 10:50:00</td>\n",
       "      <td>253.669998</td>\n",
       "      <td>263.100006</td>\n",
       "      <td>9.430008</td>\n",
       "      <td>1</td>\n",
       "      <td>0</td>\n",
       "    </tr>\n",
       "    <tr>\n",
       "      <th>2</th>\n",
       "      <td>2015-06-02 10:55:00</td>\n",
       "      <td>258.690002</td>\n",
       "      <td>262.519989</td>\n",
       "      <td>3.829987</td>\n",
       "      <td>1</td>\n",
       "      <td>0</td>\n",
       "    </tr>\n",
       "    <tr>\n",
       "      <th>3</th>\n",
       "      <td>2015-06-02 11:00:00</td>\n",
       "      <td>256.290009</td>\n",
       "      <td>260.390015</td>\n",
       "      <td>4.100006</td>\n",
       "      <td>1</td>\n",
       "      <td>0</td>\n",
       "    </tr>\n",
       "    <tr>\n",
       "      <th>4</th>\n",
       "      <td>2015-06-02 11:05:00</td>\n",
       "      <td>253.600006</td>\n",
       "      <td>259.440002</td>\n",
       "      <td>5.839996</td>\n",
       "      <td>1</td>\n",
       "      <td>0</td>\n",
       "    </tr>\n",
       "  </tbody>\n",
       "</table>\n",
       "</div>"
      ],
      "text/plain": [
       "                 time         raw       final       diff  if_anomaly  \\\n",
       "0 2015-06-02 10:45:00  259.720001  275.579987  15.859985           1   \n",
       "1 2015-06-02 10:50:00  253.669998  263.100006   9.430008           1   \n",
       "2 2015-06-02 10:55:00  258.690002  262.519989   3.829987           1   \n",
       "3 2015-06-02 11:00:00  256.290009  260.390015   4.100006           1   \n",
       "4 2015-06-02 11:05:00  253.600006  259.440002   5.839996           1   \n",
       "\n",
       "   naive_model  \n",
       "0            0  \n",
       "1            0  \n",
       "2            0  \n",
       "3            0  \n",
       "4            0  "
      ]
     },
     "execution_count": 23,
     "metadata": {},
     "output_type": "execute_result"
    }
   ],
   "source": [
    "a_training.head()"
   ]
  },
  {
   "cell_type": "code",
   "execution_count": 24,
   "metadata": {},
   "outputs": [
    {
     "data": {
      "text/html": [
       "<div>\n",
       "<style scoped>\n",
       "    .dataframe tbody tr th:only-of-type {\n",
       "        vertical-align: middle;\n",
       "    }\n",
       "\n",
       "    .dataframe tbody tr th {\n",
       "        vertical-align: top;\n",
       "    }\n",
       "\n",
       "    .dataframe thead th {\n",
       "        text-align: right;\n",
       "    }\n",
       "</style>\n",
       "<table border=\"1\" class=\"dataframe\">\n",
       "  <thead>\n",
       "    <tr style=\"text-align: right;\">\n",
       "      <th></th>\n",
       "      <th>time</th>\n",
       "      <th>raw</th>\n",
       "      <th>final</th>\n",
       "      <th>diff</th>\n",
       "      <th>if_anomaly</th>\n",
       "      <th>naive_model</th>\n",
       "    </tr>\n",
       "  </thead>\n",
       "  <tbody>\n",
       "    <tr>\n",
       "      <th>153054</th>\n",
       "      <td>2017-01-01 00:00:00</td>\n",
       "      <td>222.050003</td>\n",
       "      <td>222.050003</td>\n",
       "      <td>0.0</td>\n",
       "      <td>0</td>\n",
       "      <td>0</td>\n",
       "    </tr>\n",
       "    <tr>\n",
       "      <th>153055</th>\n",
       "      <td>2017-01-01 00:05:00</td>\n",
       "      <td>219.339996</td>\n",
       "      <td>219.339996</td>\n",
       "      <td>0.0</td>\n",
       "      <td>0</td>\n",
       "      <td>0</td>\n",
       "    </tr>\n",
       "    <tr>\n",
       "      <th>153056</th>\n",
       "      <td>2017-01-01 00:10:00</td>\n",
       "      <td>220.119995</td>\n",
       "      <td>220.119995</td>\n",
       "      <td>0.0</td>\n",
       "      <td>0</td>\n",
       "      <td>0</td>\n",
       "    </tr>\n",
       "    <tr>\n",
       "      <th>153057</th>\n",
       "      <td>2017-01-01 00:15:00</td>\n",
       "      <td>219.910004</td>\n",
       "      <td>219.910004</td>\n",
       "      <td>0.0</td>\n",
       "      <td>0</td>\n",
       "      <td>0</td>\n",
       "    </tr>\n",
       "    <tr>\n",
       "      <th>153058</th>\n",
       "      <td>2017-01-01 00:20:00</td>\n",
       "      <td>218.350006</td>\n",
       "      <td>218.350006</td>\n",
       "      <td>0.0</td>\n",
       "      <td>0</td>\n",
       "      <td>0</td>\n",
       "    </tr>\n",
       "  </tbody>\n",
       "</table>\n",
       "</div>"
      ],
      "text/plain": [
       "                      time         raw       final  diff  if_anomaly  \\\n",
       "153054 2017-01-01 00:00:00  222.050003  222.050003   0.0           0   \n",
       "153055 2017-01-01 00:05:00  219.339996  219.339996   0.0           0   \n",
       "153056 2017-01-01 00:10:00  220.119995  220.119995   0.0           0   \n",
       "153057 2017-01-01 00:15:00  219.910004  219.910004   0.0           0   \n",
       "153058 2017-01-01 00:20:00  218.350006  218.350006   0.0           0   \n",
       "\n",
       "        naive_model  \n",
       "153054            0  \n",
       "153055            0  \n",
       "153056            0  \n",
       "153057            0  \n",
       "153058            0  "
      ]
     },
     "execution_count": 24,
     "metadata": {},
     "output_type": "execute_result"
    }
   ],
   "source": [
    "a_test.head()"
   ]
  },
  {
   "cell_type": "markdown",
   "metadata": {},
   "source": [
    "### Standard deviation for outliers detection (2 std from the mean)"
   ]
  },
  {
   "cell_type": "code",
   "execution_count": 25,
   "metadata": {},
   "outputs": [],
   "source": [
    "x = statistics.stdev(a_training['raw'])"
   ]
  },
  {
   "cell_type": "code",
   "execution_count": 26,
   "metadata": {},
   "outputs": [],
   "source": [
    "y = statistics.mean(a_training['raw'])"
   ]
  },
  {
   "cell_type": "code",
   "execution_count": 27,
   "metadata": {},
   "outputs": [],
   "source": [
    "up_limit = y + (2 * x)\n",
    "down_limit = y - (2 * x)"
   ]
  },
  {
   "cell_type": "code",
   "execution_count": 28,
   "metadata": {},
   "outputs": [],
   "source": [
    "pd.options.mode.chained_assignment = None\n",
    "a_test['std_anomaly'] = 0"
   ]
  },
  {
   "cell_type": "code",
   "execution_count": 29,
   "metadata": {},
   "outputs": [],
   "source": [
    "a_test['std_anomaly'] = (a_test['raw']).map(lambda x: 1 if x> up_limit or x<down_limit else 0)"
   ]
  },
  {
   "cell_type": "code",
   "execution_count": 30,
   "metadata": {},
   "outputs": [],
   "source": [
    "y_true2 = a_test['if_anomaly']\n",
    "y_pred2 = a_test['std_anomaly']"
   ]
  },
  {
   "cell_type": "code",
   "execution_count": 31,
   "metadata": {},
   "outputs": [
    {
     "data": {
      "text/plain": [
       "0.8557563587684069"
      ]
     },
     "execution_count": 31,
     "metadata": {},
     "output_type": "execute_result"
    }
   ],
   "source": [
    "f1_score(y_true2, y_pred2)"
   ]
  },
  {
   "cell_type": "markdown",
   "metadata": {},
   "source": [
    "# Exponentially Weighted Moving Average (EWMA)"
   ]
  },
  {
   "cell_type": "markdown",
   "metadata": {},
   "source": [
    "Meaning of the colors:\n",
    "Orange line - noisy data set\n",
    "Blue line - backwards filtered EWMA data set\n",
    "Red line - forwards filtered EWMA data set\n",
    "Green line - sum and average of the two EWMA data sets"
   ]
  },
  {
   "cell_type": "markdown",
   "metadata": {},
   "source": [
    "### Plotting backwards and forwards filtered EWMA"
   ]
  },
  {
   "cell_type": "code",
   "execution_count": 70,
   "metadata": {},
   "outputs": [
    {
     "data": {
      "image/png": "[encoded data removed]",
      "text/plain": [
       "<Figure size 864x720 with 1 Axes>"
      ]
     },
     "metadata": {},
     "output_type": "display_data"
    }
   ],
   "source": [
    "ewma = pd.Series.ewm\n",
    "x = a_training['time']\n",
    "y = a_training['raw']\n",
    "df = pd.Series(y)\n",
    "# take EWMA in both directions then average them\n",
    "fwd = ewma(df,span=10).mean() # take EWMA in fwd direction\n",
    "bwd = ewma(df[::-1],span=10).mean() # take EWMA in bwd direction\n",
    "filtered = np.vstack(( fwd, bwd[::-1] )) # lump fwd and bwd together\n",
    "filtered = np.mean(filtered, axis=0 ) # average\n",
    "plt.figure(figsize=(12,10))\n",
    "plt.title('filtered and raw data')\n",
    "plt.plot(fwd, color='red', label=\"forward\")\n",
    "plt.plot(bwd, color='blue', label=\"backward\")\n",
    "plt.xlabel('samples')\n",
    "plt.ylabel('amplitude')\n",
    "plt.legend()\n",
    "plt.show()"
   ]
  },
  {
   "cell_type": "markdown",
   "metadata": {},
   "source": [
    "### Plotting noisy data and final data"
   ]
  },
  {
   "cell_type": "code",
   "execution_count": 72,
   "metadata": {},
   "outputs": [
    {
     "data": {
      "image/png": "[encoded data removed]",
      "text/plain": [
       "<Figure size 864x720 with 1 Axes>"
      ]
     },
     "metadata": {},
     "output_type": "display_data"
    }
   ],
   "source": [
    "x = a_training['time']\n",
    "y = a_training['raw']\n",
    "df = pd.Series(y)\n",
    "# take EWMA in both directions then average them\n",
    "fwd = ewma(df,span=10).mean() # take EWMA in fwd direction\n",
    "bwd = ewma(df[::-1],span=10).mean() # take EWMA in bwd direction\n",
    "filtered = np.vstack(( fwd, bwd[::-1] )) # lump fwd and bwd together\n",
    "filtered = np.mean(filtered, axis=0 ) # average\n",
    "plt.figure(figsize=(12,10))\n",
    "plt.title('filtered and raw data')\n",
    "plt.plot(y, color = 'orange', label=\"raw\")\n",
    "plt.plot(filtered, color='green', label=\"final\")\n",
    "plt.xlabel('samples')\n",
    "plt.ylabel('amplitude')\n",
    "plt.legend()\n",
    "plt.show()"
   ]
  },
  {
   "cell_type": "code",
   "execution_count": 75,
   "metadata": {},
   "outputs": [],
   "source": [
    "a_training['filtered'] = filtered"
   ]
  },
  {
   "cell_type": "code",
   "execution_count": 77,
   "metadata": {},
   "outputs": [],
   "source": [
    "a_training['ewma_diff'] = np.abs(a_training['raw'] - a_training['filtered'])"
   ]
  },
  {
   "cell_type": "code",
   "execution_count": 99,
   "metadata": {},
   "outputs": [],
   "source": [
    "a_training['ewma'] = 0\n",
    "a_training['ewma'] = (a_training['ewma_diff']).map(lambda x: 1 if x>0 else 0)"
   ]
  },
  {
   "cell_type": "code",
   "execution_count": 100,
   "metadata": {},
   "outputs": [
    {
     "data": {
      "text/html": [
       "<div>\n",
       "<style scoped>\n",
       "    .dataframe tbody tr th:only-of-type {\n",
       "        vertical-align: middle;\n",
       "    }\n",
       "\n",
       "    .dataframe tbody tr th {\n",
       "        vertical-align: top;\n",
       "    }\n",
       "\n",
       "    .dataframe thead th {\n",
       "        text-align: right;\n",
       "    }\n",
       "</style>\n",
       "<table border=\"1\" class=\"dataframe\">\n",
       "  <thead>\n",
       "    <tr style=\"text-align: right;\">\n",
       "      <th></th>\n",
       "      <th>time</th>\n",
       "      <th>raw</th>\n",
       "      <th>final</th>\n",
       "      <th>diff</th>\n",
       "      <th>if_anomaly</th>\n",
       "      <th>naive_model</th>\n",
       "      <th>filtered</th>\n",
       "      <th>ewma_diff</th>\n",
       "      <th>ewma</th>\n",
       "    </tr>\n",
       "  </thead>\n",
       "  <tbody>\n",
       "    <tr>\n",
       "      <th>0</th>\n",
       "      <td>2015-06-02 10:45:00</td>\n",
       "      <td>259.720001</td>\n",
       "      <td>275.579987</td>\n",
       "      <td>15.859985</td>\n",
       "      <td>1</td>\n",
       "      <td>0</td>\n",
       "      <td>258.146838</td>\n",
       "      <td>1.573163</td>\n",
       "      <td>1</td>\n",
       "    </tr>\n",
       "    <tr>\n",
       "      <th>1</th>\n",
       "      <td>2015-06-02 10:50:00</td>\n",
       "      <td>253.669998</td>\n",
       "      <td>263.100006</td>\n",
       "      <td>9.430008</td>\n",
       "      <td>1</td>\n",
       "      <td>0</td>\n",
       "      <td>256.133495</td>\n",
       "      <td>2.463497</td>\n",
       "      <td>1</td>\n",
       "    </tr>\n",
       "    <tr>\n",
       "      <th>2</th>\n",
       "      <td>2015-06-02 10:55:00</td>\n",
       "      <td>258.690002</td>\n",
       "      <td>262.519989</td>\n",
       "      <td>3.829987</td>\n",
       "      <td>1</td>\n",
       "      <td>0</td>\n",
       "      <td>256.840229</td>\n",
       "      <td>1.849773</td>\n",
       "      <td>1</td>\n",
       "    </tr>\n",
       "    <tr>\n",
       "      <th>3</th>\n",
       "      <td>2015-06-02 11:00:00</td>\n",
       "      <td>256.290009</td>\n",
       "      <td>260.390015</td>\n",
       "      <td>4.100006</td>\n",
       "      <td>1</td>\n",
       "      <td>0</td>\n",
       "      <td>256.412804</td>\n",
       "      <td>0.122795</td>\n",
       "      <td>1</td>\n",
       "    </tr>\n",
       "    <tr>\n",
       "      <th>4</th>\n",
       "      <td>2015-06-02 11:05:00</td>\n",
       "      <td>253.600006</td>\n",
       "      <td>259.440002</td>\n",
       "      <td>5.839996</td>\n",
       "      <td>1</td>\n",
       "      <td>0</td>\n",
       "      <td>255.878774</td>\n",
       "      <td>2.278768</td>\n",
       "      <td>1</td>\n",
       "    </tr>\n",
       "  </tbody>\n",
       "</table>\n",
       "</div>"
      ],
      "text/plain": [
       "                 time         raw       final       diff  if_anomaly  \\\n",
       "0 2015-06-02 10:45:00  259.720001  275.579987  15.859985           1   \n",
       "1 2015-06-02 10:50:00  253.669998  263.100006   9.430008           1   \n",
       "2 2015-06-02 10:55:00  258.690002  262.519989   3.829987           1   \n",
       "3 2015-06-02 11:00:00  256.290009  260.390015   4.100006           1   \n",
       "4 2015-06-02 11:05:00  253.600006  259.440002   5.839996           1   \n",
       "\n",
       "   naive_model    filtered  ewma_diff  ewma  \n",
       "0            0  258.146838   1.573163     1  \n",
       "1            0  256.133495   2.463497     1  \n",
       "2            0  256.840229   1.849773     1  \n",
       "3            0  256.412804   0.122795     1  \n",
       "4            0  255.878774   2.278768     1  "
      ]
     },
     "execution_count": 100,
     "metadata": {},
     "output_type": "execute_result"
    }
   ],
   "source": [
    "a_training.head()"
   ]
  },
  {
   "cell_type": "code",
   "execution_count": 101,
   "metadata": {},
   "outputs": [],
   "source": [
    "y_true3 = a_training['if_anomaly']\n",
    "y_pred3 = a_training['ewma']"
   ]
  },
  {
   "cell_type": "code",
   "execution_count": 102,
   "metadata": {},
   "outputs": [
    {
     "data": {
      "text/plain": [
       "0.3107741209191444"
      ]
     },
     "execution_count": 102,
     "metadata": {},
     "output_type": "execute_result"
    }
   ],
   "source": [
    "f1_score(y_true3, y_pred3)"
   ]
  }
 ],
 "metadata": {
  "kernelspec": {
   "display_name": "Python 3",
   "language": "python",
   "name": "python3"
  },
  "language_info": {
   "codemirror_mode": {
    "name": "ipython",
    "version": 3
   },
   "file_extension": ".py",
   "mimetype": "text/x-python",
   "name": "python",
   "nbconvert_exporter": "python",
   "pygments_lexer": "ipython3",
   "version": "3.6.5"
  }
 },
 "nbformat": 4,
 "nbformat_minor": 2
}
