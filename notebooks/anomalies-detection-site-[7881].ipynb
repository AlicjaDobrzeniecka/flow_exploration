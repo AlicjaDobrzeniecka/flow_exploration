{
 "cells": [
  {
   "cell_type": "markdown",
   "metadata": {},
   "source": [
    "# Toronto anomalies analysis\n",
    "Anomalies detection and performance measurement"
   ]
  },
  {
   "cell_type": "markdown",
   "metadata": {},
   "source": [
    "### Importing necessary libraries"
   ]
  },
  {
   "cell_type": "code",
   "execution_count": 213,
   "metadata": {},
   "outputs": [],
   "source": [
    "import numpy as np\n",
    "import pandas as pd\n",
    "import matplotlib.pyplot as plt\n",
    "from matplotlib import rcParams\n",
    "import utils\n",
    "import os.path\n",
    "from __future__ import division\n",
    "from sklearn import preprocessing\n",
    "import matplotlib.dates as mdates\n",
    "import statsmodels.api as sm\n",
    "import seaborn as sns\n",
    "from sklearn.metrics import f1_score\n",
    "sns.set_style('whitegrid')\n",
    "sns.set_context('talk')\n",
    "import statistics"
   ]
  },
  {
   "cell_type": "markdown",
   "metadata": {},
   "source": [
    "### Loading the data"
   ]
  },
  {
   "cell_type": "code",
   "execution_count": 29,
   "metadata": {},
   "outputs": [
    {
     "data": {
      "text/html": [
       "<div>\n",
       "<style scoped>\n",
       "    .dataframe tbody tr th:only-of-type {\n",
       "        vertical-align: middle;\n",
       "    }\n",
       "\n",
       "    .dataframe tbody tr th {\n",
       "        vertical-align: top;\n",
       "    }\n",
       "\n",
       "    .dataframe thead th {\n",
       "        text-align: right;\n",
       "    }\n",
       "</style>\n",
       "<table border=\"1\" class=\"dataframe\">\n",
       "  <thead>\n",
       "    <tr style=\"text-align: right;\">\n",
       "      <th></th>\n",
       "      <th>siteId</th>\n",
       "      <th>channelId</th>\n",
       "      <th>channelName</th>\n",
       "      <th>units</th>\n",
       "      <th>isCalculated</th>\n",
       "    </tr>\n",
       "  </thead>\n",
       "  <tbody>\n",
       "    <tr>\n",
       "      <th>81478</th>\n",
       "      <td>7881</td>\n",
       "      <td>14656</td>\n",
       "      <td>V Raw Average</td>\n",
       "      <td>m/s</td>\n",
       "      <td>False</td>\n",
       "    </tr>\n",
       "    <tr>\n",
       "      <th>81479</th>\n",
       "      <td>7881</td>\n",
       "      <td>14033</td>\n",
       "      <td>Raw Average Velocity</td>\n",
       "      <td>m/s</td>\n",
       "      <td>False</td>\n",
       "    </tr>\n",
       "    <tr>\n",
       "      <th>81480</th>\n",
       "      <td>7881</td>\n",
       "      <td>11738</td>\n",
       "      <td>MP1 PDEPTH_1</td>\n",
       "      <td>mm</td>\n",
       "      <td>False</td>\n",
       "    </tr>\n",
       "    <tr>\n",
       "      <th>81481</th>\n",
       "      <td>7881</td>\n",
       "      <td>11745</td>\n",
       "      <td>MP1 VFINAL</td>\n",
       "      <td>m/s</td>\n",
       "      <td>False</td>\n",
       "    </tr>\n",
       "    <tr>\n",
       "      <th>81482</th>\n",
       "      <td>7881</td>\n",
       "      <td>19698</td>\n",
       "      <td>MP1 VInterim</td>\n",
       "      <td>m/s</td>\n",
       "      <td>False</td>\n",
       "    </tr>\n",
       "  </tbody>\n",
       "</table>\n",
       "</div>"
      ],
      "text/plain": [
       "       siteId  channelId           channelName units  isCalculated\n",
       "81478    7881      14656         V Raw Average   m/s         False\n",
       "81479    7881      14033  Raw Average Velocity   m/s         False\n",
       "81480    7881      11738          MP1 PDEPTH_1    mm         False\n",
       "81481    7881      11745            MP1 VFINAL   m/s         False\n",
       "81482    7881      19698          MP1 VInterim   m/s         False"
      ]
     },
     "execution_count": 29,
     "metadata": {},
     "output_type": "execute_result"
    }
   ],
   "source": [
    "SITE = 7881\n",
    "channels = pd.read_csv('../dataset/channels.csv')\n",
    "channels[channels.siteId == SITE].head()"
   ]
  },
  {
   "cell_type": "markdown",
   "metadata": {},
   "source": [
    "### Assigning the channelId value to variable"
   ]
  },
  {
   "cell_type": "code",
   "execution_count": 30,
   "metadata": {},
   "outputs": [],
   "source": [
    "raw = 11742\n",
    "final = 11744"
   ]
  },
  {
   "cell_type": "markdown",
   "metadata": {},
   "source": [
    "### Using utils to load the values from chosen channels"
   ]
  },
  {
   "cell_type": "code",
   "execution_count": 31,
   "metadata": {},
   "outputs": [],
   "source": [
    "raw = utils.load_channel_data(SITE, raw).rename('raw').fillna(0)\n",
    "final = utils.load_channel_data(SITE, final).rename('final').fillna(0)"
   ]
  },
  {
   "cell_type": "markdown",
   "metadata": {},
   "source": [
    "### Short description of the data"
   ]
  },
  {
   "cell_type": "code",
   "execution_count": 32,
   "metadata": {},
   "outputs": [
    {
     "data": {
      "text/plain": [
       "count    334081.000000\n",
       "mean        220.228096\n",
       "std          99.490495\n",
       "min        -253.750000\n",
       "25%         212.250000\n",
       "50%         251.360001\n",
       "75%         268.940002\n",
       "max         714.309998\n",
       "Name: raw, dtype: float64"
      ]
     },
     "execution_count": 32,
     "metadata": {},
     "output_type": "execute_result"
    }
   ],
   "source": [
    "raw.describe()"
   ]
  },
  {
   "cell_type": "code",
   "execution_count": 33,
   "metadata": {},
   "outputs": [
    {
     "data": {
      "text/plain": [
       "count    285241.000000\n",
       "mean        248.445642\n",
       "std          32.769104\n",
       "min         118.669998\n",
       "25%         229.869995\n",
       "50%         253.250000\n",
       "75%         269.390015\n",
       "max         622.309998\n",
       "Name: final, dtype: float64"
      ]
     },
     "execution_count": 33,
     "metadata": {},
     "output_type": "execute_result"
    }
   ],
   "source": [
    "final.describe()"
   ]
  },
  {
   "cell_type": "markdown",
   "metadata": {},
   "source": [
    "### Creating data frame on all data"
   ]
  },
  {
   "cell_type": "code",
   "execution_count": 102,
   "metadata": {},
   "outputs": [],
   "source": [
    "all_data = pd.concat([raw,final],axis=1)\n",
    "all_data['diff'] = np.abs(df.raw - df.final)"
   ]
  },
  {
   "cell_type": "code",
   "execution_count": 103,
   "metadata": {},
   "outputs": [
    {
     "data": {
      "text/html": [
       "<div>\n",
       "<style scoped>\n",
       "    .dataframe tbody tr th:only-of-type {\n",
       "        vertical-align: middle;\n",
       "    }\n",
       "\n",
       "    .dataframe tbody tr th {\n",
       "        vertical-align: top;\n",
       "    }\n",
       "\n",
       "    .dataframe thead th {\n",
       "        text-align: right;\n",
       "    }\n",
       "</style>\n",
       "<table border=\"1\" class=\"dataframe\">\n",
       "  <thead>\n",
       "    <tr style=\"text-align: right;\">\n",
       "      <th></th>\n",
       "      <th>raw</th>\n",
       "      <th>final</th>\n",
       "      <th>diff</th>\n",
       "    </tr>\n",
       "  </thead>\n",
       "  <tbody>\n",
       "    <tr>\n",
       "      <th>count</th>\n",
       "      <td>334081.000000</td>\n",
       "      <td>285241.000000</td>\n",
       "      <td>284093.000000</td>\n",
       "    </tr>\n",
       "    <tr>\n",
       "      <th>mean</th>\n",
       "      <td>220.228096</td>\n",
       "      <td>248.445642</td>\n",
       "      <td>15.119353</td>\n",
       "    </tr>\n",
       "    <tr>\n",
       "      <th>std</th>\n",
       "      <td>99.490495</td>\n",
       "      <td>32.769104</td>\n",
       "      <td>53.732429</td>\n",
       "    </tr>\n",
       "    <tr>\n",
       "      <th>min</th>\n",
       "      <td>-253.750000</td>\n",
       "      <td>118.669998</td>\n",
       "      <td>0.000000</td>\n",
       "    </tr>\n",
       "    <tr>\n",
       "      <th>25%</th>\n",
       "      <td>212.250000</td>\n",
       "      <td>229.869995</td>\n",
       "      <td>0.000000</td>\n",
       "    </tr>\n",
       "    <tr>\n",
       "      <th>50%</th>\n",
       "      <td>251.360001</td>\n",
       "      <td>253.250000</td>\n",
       "      <td>0.000000</td>\n",
       "    </tr>\n",
       "    <tr>\n",
       "      <th>75%</th>\n",
       "      <td>268.940002</td>\n",
       "      <td>269.390015</td>\n",
       "      <td>0.000000</td>\n",
       "    </tr>\n",
       "    <tr>\n",
       "      <th>max</th>\n",
       "      <td>714.309998</td>\n",
       "      <td>622.309998</td>\n",
       "      <td>454.829987</td>\n",
       "    </tr>\n",
       "  </tbody>\n",
       "</table>\n",
       "</div>"
      ],
      "text/plain": [
       "                 raw          final           diff\n",
       "count  334081.000000  285241.000000  284093.000000\n",
       "mean      220.228096     248.445642      15.119353\n",
       "std        99.490495      32.769104      53.732429\n",
       "min      -253.750000     118.669998       0.000000\n",
       "25%       212.250000     229.869995       0.000000\n",
       "50%       251.360001     253.250000       0.000000\n",
       "75%       268.940002     269.390015       0.000000\n",
       "max       714.309998     622.309998     454.829987"
      ]
     },
     "execution_count": 103,
     "metadata": {},
     "output_type": "execute_result"
    }
   ],
   "source": [
    "all_data.describe()"
   ]
  },
  {
   "cell_type": "code",
   "execution_count": 45,
   "metadata": {},
   "outputs": [],
   "source": [
    "all_data = all_data.reset_index()"
   ]
  },
  {
   "cell_type": "markdown",
   "metadata": {},
   "source": [
    "### Showing the general plot of all data"
   ]
  },
  {
   "cell_type": "code",
   "execution_count": 47,
   "metadata": {},
   "outputs": [
    {
     "data": {
      "image/png": "[encoded data removed]",
      "text/plain": [
       "<Figure size 720x576 with 1 Axes>"
      ]
     },
     "metadata": {},
     "output_type": "display_data"
    }
   ],
   "source": [
    "plt.figure(figsize=(10, 8))\n",
    "\n",
    "plt.plot(all_data['time'].values.reshape(-1,1), all_data['raw'], color=\"red\",\n",
    "    label=\"raw\")\n",
    "plt.plot(all_data['time'].values.reshape(-1,1), all_data['final'], c='blue', label=\"final data\")\n",
    "plt.xlabel(\"date\")\n",
    "plt.ylabel(\"value in mm\")\n",
    "plt.title(\"site 7881\")\n",
    "plt.legend()\n",
    "plt.show()"
   ]
  },
  {
   "cell_type": "markdown",
   "metadata": {},
   "source": [
    "### Adding the difference between raw and final"
   ]
  },
  {
   "cell_type": "code",
   "execution_count": 104,
   "metadata": {},
   "outputs": [
    {
     "name": "stdout",
     "output_type": "stream",
     "text": [
      "Anomalies in raw: 31150\n"
     ]
    }
   ],
   "source": [
    "df = pd.concat([raw, final], axis=1).dropna()\n",
    "df['diff'] = np.abs(df.raw - df.final)\n",
    "print('Anomalies in raw: {:}'.format(len(df[df['diff'] > 1])))"
   ]
  },
  {
   "cell_type": "markdown",
   "metadata": {},
   "source": [
    "### Creating anomalies data frame"
   ]
  },
  {
   "cell_type": "code",
   "execution_count": 105,
   "metadata": {},
   "outputs": [
    {
     "data": {
      "text/html": [
       "<div>\n",
       "<style scoped>\n",
       "    .dataframe tbody tr th:only-of-type {\n",
       "        vertical-align: middle;\n",
       "    }\n",
       "\n",
       "    .dataframe tbody tr th {\n",
       "        vertical-align: top;\n",
       "    }\n",
       "\n",
       "    .dataframe thead th {\n",
       "        text-align: right;\n",
       "    }\n",
       "</style>\n",
       "<table border=\"1\" class=\"dataframe\">\n",
       "  <thead>\n",
       "    <tr style=\"text-align: right;\">\n",
       "      <th></th>\n",
       "      <th>raw</th>\n",
       "      <th>final</th>\n",
       "      <th>diff</th>\n",
       "    </tr>\n",
       "  </thead>\n",
       "  <tbody>\n",
       "    <tr>\n",
       "      <th>0</th>\n",
       "      <td>259.720001</td>\n",
       "      <td>275.579987</td>\n",
       "      <td>15.859985</td>\n",
       "    </tr>\n",
       "    <tr>\n",
       "      <th>1</th>\n",
       "      <td>253.669998</td>\n",
       "      <td>263.100006</td>\n",
       "      <td>9.430008</td>\n",
       "    </tr>\n",
       "    <tr>\n",
       "      <th>2</th>\n",
       "      <td>258.690002</td>\n",
       "      <td>262.519989</td>\n",
       "      <td>3.829987</td>\n",
       "    </tr>\n",
       "    <tr>\n",
       "      <th>3</th>\n",
       "      <td>256.290009</td>\n",
       "      <td>260.390015</td>\n",
       "      <td>4.100006</td>\n",
       "    </tr>\n",
       "    <tr>\n",
       "      <th>4</th>\n",
       "      <td>253.600006</td>\n",
       "      <td>259.440002</td>\n",
       "      <td>5.839996</td>\n",
       "    </tr>\n",
       "  </tbody>\n",
       "</table>\n",
       "</div>"
      ],
      "text/plain": [
       "          raw       final       diff\n",
       "0  259.720001  275.579987  15.859985\n",
       "1  253.669998  263.100006   9.430008\n",
       "2  258.690002  262.519989   3.829987\n",
       "3  256.290009  260.390015   4.100006\n",
       "4  253.600006  259.440002   5.839996"
      ]
     },
     "execution_count": 105,
     "metadata": {},
     "output_type": "execute_result"
    }
   ],
   "source": [
    "anomalies = df[df['diff'] > 1]\n",
    "anomalies = anomalies.reset_index()\n",
    "anomalies[['raw','final','diff']].head()"
   ]
  },
  {
   "cell_type": "markdown",
   "metadata": {},
   "source": [
    "### Short description of the anomalies data frame"
   ]
  },
  {
   "cell_type": "code",
   "execution_count": 106,
   "metadata": {},
   "outputs": [
    {
     "data": {
      "text/html": [
       "<div>\n",
       "<style scoped>\n",
       "    .dataframe tbody tr th:only-of-type {\n",
       "        vertical-align: middle;\n",
       "    }\n",
       "\n",
       "    .dataframe tbody tr th {\n",
       "        vertical-align: top;\n",
       "    }\n",
       "\n",
       "    .dataframe thead th {\n",
       "        text-align: right;\n",
       "    }\n",
       "</style>\n",
       "<table border=\"1\" class=\"dataframe\">\n",
       "  <thead>\n",
       "    <tr style=\"text-align: right;\">\n",
       "      <th></th>\n",
       "      <th>raw</th>\n",
       "      <th>final</th>\n",
       "      <th>diff</th>\n",
       "    </tr>\n",
       "  </thead>\n",
       "  <tbody>\n",
       "    <tr>\n",
       "      <th>count</th>\n",
       "      <td>31150.000000</td>\n",
       "      <td>31150.000000</td>\n",
       "      <td>31150.000000</td>\n",
       "    </tr>\n",
       "    <tr>\n",
       "      <th>mean</th>\n",
       "      <td>107.372836</td>\n",
       "      <td>241.775380</td>\n",
       "      <td>137.871722</td>\n",
       "    </tr>\n",
       "    <tr>\n",
       "      <th>std</th>\n",
       "      <td>103.313789</td>\n",
       "      <td>28.616929</td>\n",
       "      <td>96.994310</td>\n",
       "    </tr>\n",
       "    <tr>\n",
       "      <th>min</th>\n",
       "      <td>9.660000</td>\n",
       "      <td>168.910004</td>\n",
       "      <td>1.009995</td>\n",
       "    </tr>\n",
       "    <tr>\n",
       "      <th>25%</th>\n",
       "      <td>30.440001</td>\n",
       "      <td>221.872498</td>\n",
       "      <td>9.319996</td>\n",
       "    </tr>\n",
       "    <tr>\n",
       "      <th>50%</th>\n",
       "      <td>38.000000</td>\n",
       "      <td>247.149994</td>\n",
       "      <td>183.534998</td>\n",
       "    </tr>\n",
       "    <tr>\n",
       "      <th>75%</th>\n",
       "      <td>232.825001</td>\n",
       "      <td>259.989990</td>\n",
       "      <td>217.619995</td>\n",
       "    </tr>\n",
       "    <tr>\n",
       "      <th>max</th>\n",
       "      <td>714.309998</td>\n",
       "      <td>492.570007</td>\n",
       "      <td>454.829987</td>\n",
       "    </tr>\n",
       "  </tbody>\n",
       "</table>\n",
       "</div>"
      ],
      "text/plain": [
       "                raw         final          diff\n",
       "count  31150.000000  31150.000000  31150.000000\n",
       "mean     107.372836    241.775380    137.871722\n",
       "std      103.313789     28.616929     96.994310\n",
       "min        9.660000    168.910004      1.009995\n",
       "25%       30.440001    221.872498      9.319996\n",
       "50%       38.000000    247.149994    183.534998\n",
       "75%      232.825001    259.989990    217.619995\n",
       "max      714.309998    492.570007    454.829987"
      ]
     },
     "execution_count": 106,
     "metadata": {},
     "output_type": "execute_result"
    }
   ],
   "source": [
    "anomalies.describe()"
   ]
  },
  {
   "cell_type": "markdown",
   "metadata": {},
   "source": [
    "### Implementing and testing F1 score metric on naive model which predicted 0 anomalies"
   ]
  },
  {
   "cell_type": "code",
   "execution_count": 167,
   "metadata": {},
   "outputs": [
    {
     "name": "stdout",
     "output_type": "stream",
     "text": [
      "Anomalies in raw: 31150\n"
     ]
    }
   ],
   "source": [
    "print('Anomalies in raw: {:}'.format(len(all_data[all_data['diff'] > 1])))"
   ]
  },
  {
   "cell_type": "code",
   "execution_count": 168,
   "metadata": {},
   "outputs": [],
   "source": [
    "all_data['if_anomaly'] = 0\n",
    "all_data['if_anomaly'] = (all_data['diff']).map(lambda x: 1 if x>1 else 0)"
   ]
  },
  {
   "cell_type": "code",
   "execution_count": 169,
   "metadata": {},
   "outputs": [],
   "source": [
    "all_data['naive_model'] = 0"
   ]
  },
  {
   "cell_type": "code",
   "execution_count": 170,
   "metadata": {},
   "outputs": [],
   "source": [
    "all_data = all_data.dropna()"
   ]
  },
  {
   "cell_type": "code",
   "execution_count": 171,
   "metadata": {},
   "outputs": [
    {
     "data": {
      "text/html": [
       "<div>\n",
       "<style scoped>\n",
       "    .dataframe tbody tr th:only-of-type {\n",
       "        vertical-align: middle;\n",
       "    }\n",
       "\n",
       "    .dataframe tbody tr th {\n",
       "        vertical-align: top;\n",
       "    }\n",
       "\n",
       "    .dataframe thead th {\n",
       "        text-align: right;\n",
       "    }\n",
       "</style>\n",
       "<table border=\"1\" class=\"dataframe\">\n",
       "  <thead>\n",
       "    <tr style=\"text-align: right;\">\n",
       "      <th></th>\n",
       "      <th>raw</th>\n",
       "      <th>final</th>\n",
       "      <th>diff</th>\n",
       "      <th>if_anomaly</th>\n",
       "      <th>naive_model</th>\n",
       "    </tr>\n",
       "  </thead>\n",
       "  <tbody>\n",
       "    <tr>\n",
       "      <th>count</th>\n",
       "      <td>284093.000000</td>\n",
       "      <td>284093.000000</td>\n",
       "      <td>284093.000000</td>\n",
       "      <td>284093.000000</td>\n",
       "      <td>284093.0</td>\n",
       "    </tr>\n",
       "    <tr>\n",
       "      <th>mean</th>\n",
       "      <td>233.715441</td>\n",
       "      <td>248.452225</td>\n",
       "      <td>15.119353</td>\n",
       "      <td>0.109647</td>\n",
       "      <td>0.0</td>\n",
       "    </tr>\n",
       "    <tr>\n",
       "      <th>std</th>\n",
       "      <td>64.159360</td>\n",
       "      <td>32.796490</td>\n",
       "      <td>53.732429</td>\n",
       "      <td>0.312450</td>\n",
       "      <td>0.0</td>\n",
       "    </tr>\n",
       "    <tr>\n",
       "      <th>min</th>\n",
       "      <td>9.660000</td>\n",
       "      <td>118.669998</td>\n",
       "      <td>0.000000</td>\n",
       "      <td>0.000000</td>\n",
       "      <td>0.0</td>\n",
       "    </tr>\n",
       "    <tr>\n",
       "      <th>25%</th>\n",
       "      <td>218.360001</td>\n",
       "      <td>229.860001</td>\n",
       "      <td>0.000000</td>\n",
       "      <td>0.000000</td>\n",
       "      <td>0.0</td>\n",
       "    </tr>\n",
       "    <tr>\n",
       "      <th>50%</th>\n",
       "      <td>251.929993</td>\n",
       "      <td>253.259995</td>\n",
       "      <td>0.000000</td>\n",
       "      <td>0.000000</td>\n",
       "      <td>0.0</td>\n",
       "    </tr>\n",
       "    <tr>\n",
       "      <th>75%</th>\n",
       "      <td>269.070007</td>\n",
       "      <td>269.420013</td>\n",
       "      <td>0.000000</td>\n",
       "      <td>0.000000</td>\n",
       "      <td>0.0</td>\n",
       "    </tr>\n",
       "    <tr>\n",
       "      <th>max</th>\n",
       "      <td>714.309998</td>\n",
       "      <td>622.309998</td>\n",
       "      <td>454.829987</td>\n",
       "      <td>1.000000</td>\n",
       "      <td>0.0</td>\n",
       "    </tr>\n",
       "  </tbody>\n",
       "</table>\n",
       "</div>"
      ],
      "text/plain": [
       "                 raw          final           diff     if_anomaly  naive_model\n",
       "count  284093.000000  284093.000000  284093.000000  284093.000000     284093.0\n",
       "mean      233.715441     248.452225      15.119353       0.109647          0.0\n",
       "std        64.159360      32.796490      53.732429       0.312450          0.0\n",
       "min         9.660000     118.669998       0.000000       0.000000          0.0\n",
       "25%       218.360001     229.860001       0.000000       0.000000          0.0\n",
       "50%       251.929993     253.259995       0.000000       0.000000          0.0\n",
       "75%       269.070007     269.420013       0.000000       0.000000          0.0\n",
       "max       714.309998     622.309998     454.829987       1.000000          0.0"
      ]
     },
     "execution_count": 171,
     "metadata": {},
     "output_type": "execute_result"
    }
   ],
   "source": [
    "all_data.describe()"
   ]
  },
  {
   "cell_type": "markdown",
   "metadata": {},
   "source": [
    "### Implementing F1 score manually"
   ]
  },
  {
   "cell_type": "code",
   "execution_count": 172,
   "metadata": {},
   "outputs": [],
   "source": [
    "def F1(precision, recall):\n",
    "    score = 2 * (precision * recall) / (precision + recall)\n",
    "    return score"
   ]
  },
  {
   "cell_type": "code",
   "execution_count": 173,
   "metadata": {},
   "outputs": [],
   "source": [
    "#TruePositive = Number of positives that are correctly predicted\n",
    "#FalsePositive = Number of predicted positives that are incorrect\n",
    "\n",
    "def precision(TruePositive, FalsePositive):\n",
    "    prec = TruePositive/(TruePositive+FalsePositive)\n",
    "    return prec"
   ]
  },
  {
   "cell_type": "code",
   "execution_count": 174,
   "metadata": {},
   "outputs": [],
   "source": [
    "#TruePositive = Number of positives that are correctly predicted\n",
    "#FalseNegative = Number of negatives that are incorrectly classified\n",
    "\n",
    "def recall(TruePositive, FalseNegative):\n",
    "    rec = TruePositive/(TruePositive+FalseNegative)\n",
    "    return rec"
   ]
  },
  {
   "cell_type": "code",
   "execution_count": 175,
   "metadata": {},
   "outputs": [],
   "source": [
    "TruePositive = (284093 - 31150)\n",
    "FalsePositive = 31150\n",
    "FalseNegative = 0"
   ]
  },
  {
   "cell_type": "code",
   "execution_count": 176,
   "metadata": {},
   "outputs": [
    {
     "data": {
      "text/plain": [
       "0.8903528070033404"
      ]
     },
     "execution_count": 176,
     "metadata": {},
     "output_type": "execute_result"
    }
   ],
   "source": [
    "precision(TruePositive,FalsePositive)"
   ]
  },
  {
   "cell_type": "code",
   "execution_count": 177,
   "metadata": {},
   "outputs": [
    {
     "data": {
      "text/plain": [
       "1.0"
      ]
     },
     "execution_count": 177,
     "metadata": {},
     "output_type": "execute_result"
    }
   ],
   "source": [
    "recall(TruePositive,FalseNegative)"
   ]
  },
  {
   "cell_type": "code",
   "execution_count": 178,
   "metadata": {},
   "outputs": [
    {
     "data": {
      "text/plain": [
       "0.9419964397172629"
      ]
     },
     "execution_count": 178,
     "metadata": {},
     "output_type": "execute_result"
    }
   ],
   "source": [
    "F1(0.8903528070033404,1.0)"
   ]
  },
  {
   "cell_type": "markdown",
   "metadata": {},
   "source": [
    "### Implementing F1 score with the existing library"
   ]
  },
  {
   "cell_type": "code",
   "execution_count": 181,
   "metadata": {},
   "outputs": [],
   "source": [
    "y_true = all_data['if_anomaly']\n",
    "y_pred = all_data['naive_model']"
   ]
  },
  {
   "cell_type": "code",
   "execution_count": 231,
   "metadata": {},
   "outputs": [
    {
     "name": "stderr",
     "output_type": "stream",
     "text": [
      "/home/alicja/anaconda3/lib/python3.6/site-packages/sklearn/metrics/classification.py:1135: UndefinedMetricWarning: F-score is ill-defined and being set to 0.0 in labels with no predicted samples.\n",
      "  'precision', 'predicted', average, warn_for)\n"
     ]
    },
    {
     "data": {
      "text/plain": [
       "array([0.94199644, 0.        ])"
      ]
     },
     "execution_count": 231,
     "metadata": {},
     "output_type": "execute_result"
    }
   ],
   "source": [
    "f1_score(y_true, y_pred, average=None)"
   ]
  },
  {
   "cell_type": "code",
   "execution_count": 232,
   "metadata": {},
   "outputs": [
    {
     "data": {
      "text/plain": [
       "0.8903528070033404"
      ]
     },
     "execution_count": 232,
     "metadata": {},
     "output_type": "execute_result"
    }
   ],
   "source": [
    "f1_score(y_true, y_pred, average='micro')"
   ]
  },
  {
   "cell_type": "markdown",
   "metadata": {},
   "source": [
    "### Boxlplot on raw data"
   ]
  },
  {
   "cell_type": "code",
   "execution_count": 235,
   "metadata": {},
   "outputs": [
    {
     "data": {
      "text/plain": [
       "<matplotlib.axes._subplots.AxesSubplot at 0x7f51ee1d8ef0>"
      ]
     },
     "execution_count": 235,
     "metadata": {},
     "output_type": "execute_result"
    },
    {
     "data": {
      "image/png": "[encoded data removed]",
      "text/plain": [
       "<Figure size 720x576 with 1 Axes>"
      ]
     },
     "metadata": {},
     "output_type": "display_data"
    }
   ],
   "source": [
    "import seaborn as sns\n",
    "plt.figure(figsize=(10, 8))\n",
    "sns.boxplot(x=all_data['raw'])"
   ]
  },
  {
   "cell_type": "markdown",
   "metadata": {},
   "source": [
    "### Standard deviation for outliers detection"
   ]
  },
  {
   "cell_type": "code",
   "execution_count": 211,
   "metadata": {},
   "outputs": [
    {
     "data": {
      "text/plain": [
       "64.15936012489973"
      ]
     },
     "execution_count": 211,
     "metadata": {},
     "output_type": "execute_result"
    }
   ],
   "source": [
    "statistics.stdev(all_data['raw'])"
   ]
  },
  {
   "cell_type": "code",
   "execution_count": 212,
   "metadata": {},
   "outputs": [
    {
     "data": {
      "text/plain": [
       "233.71544060768508"
      ]
     },
     "execution_count": 212,
     "metadata": {},
     "output_type": "execute_result"
    }
   ],
   "source": [
    "statistics.mean(all_data['raw'])"
   ]
  },
  {
   "cell_type": "code",
   "execution_count": 216,
   "metadata": {},
   "outputs": [],
   "source": [
    "up_limit = 233.71544060768508 + (2 * 64.15936012489973)\n",
    "down_limit = 233.71544060768508 - (2 * 64.15936012489973)"
   ]
  },
  {
   "cell_type": "code",
   "execution_count": 221,
   "metadata": {},
   "outputs": [],
   "source": [
    "all_data['std_anomaly'] = 0"
   ]
  },
  {
   "cell_type": "code",
   "execution_count": 223,
   "metadata": {},
   "outputs": [],
   "source": [
    "all_data['std_anomaly'] = (all_data['raw']).map(lambda x: 1 if x> up_limit or x<down_limit else 0)"
   ]
  },
  {
   "cell_type": "code",
   "execution_count": 225,
   "metadata": {},
   "outputs": [],
   "source": [
    "y_true2 = all_data['if_anomaly']\n",
    "y_pred2 = all_data['std_anomaly']"
   ]
  },
  {
   "cell_type": "code",
   "execution_count": 227,
   "metadata": {},
   "outputs": [
    {
     "data": {
      "text/plain": [
       "0.9601609332155315"
      ]
     },
     "execution_count": 227,
     "metadata": {},
     "output_type": "execute_result"
    }
   ],
   "source": [
    "f1_score(y_true2, y_pred2, average='micro')"
   ]
  }
 ],
 "metadata": {
  "kernelspec": {
   "display_name": "Python 3",
   "language": "python",
   "name": "python3"
  },
  "language_info": {
   "codemirror_mode": {
    "name": "ipython",
    "version": 3
   },
   "file_extension": ".py",
   "mimetype": "text/x-python",
   "name": "python",
   "nbconvert_exporter": "python",
   "pygments_lexer": "ipython3",
   "version": "3.6.5"
  }
 },
 "nbformat": 4,
 "nbformat_minor": 2
}
