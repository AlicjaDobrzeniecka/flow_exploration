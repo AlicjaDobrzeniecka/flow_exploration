{
 "cells": [
  {
   "cell_type": "markdown",
   "metadata": {},
   "source": [
    "# Flow exploration"
   ]
  },
  {
   "cell_type": "markdown",
   "metadata": {},
   "source": [
    "### Necessary libraries"
   ]
  },
  {
   "cell_type": "code",
   "execution_count": 46,
   "metadata": {},
   "outputs": [],
   "source": [
    "import pandas as pd\n",
    "import matplotlib.pyplot as plt\n",
    "import datetime as dt\n",
    "import seaborn as sns"
   ]
  },
  {
   "cell_type": "markdown",
   "metadata": {},
   "source": [
    "### Loading the data concerning the flow measurements"
   ]
  },
  {
   "cell_type": "code",
   "execution_count": 47,
   "metadata": {},
   "outputs": [
    {
     "data": {
      "text/html": [
       "<div>\n",
       "<style scoped>\n",
       "    .dataframe tbody tr th:only-of-type {\n",
       "        vertical-align: middle;\n",
       "    }\n",
       "\n",
       "    .dataframe tbody tr th {\n",
       "        vertical-align: top;\n",
       "    }\n",
       "\n",
       "    .dataframe thead th {\n",
       "        text-align: right;\n",
       "    }\n",
       "</style>\n",
       "<table border=\"1\" class=\"dataframe\">\n",
       "  <thead>\n",
       "    <tr style=\"text-align: right;\">\n",
       "      <th></th>\n",
       "      <th>time</th>\n",
       "      <th>flow</th>\n",
       "    </tr>\n",
       "  </thead>\n",
       "  <tbody>\n",
       "    <tr>\n",
       "      <th>0</th>\n",
       "      <td>2015-06-01 14:15:00</td>\n",
       "      <td>115.559998</td>\n",
       "    </tr>\n",
       "    <tr>\n",
       "      <th>1</th>\n",
       "      <td>2015-06-01 14:20:00</td>\n",
       "      <td>115.199997</td>\n",
       "    </tr>\n",
       "    <tr>\n",
       "      <th>2</th>\n",
       "      <td>2015-06-01 14:25:00</td>\n",
       "      <td>112.209999</td>\n",
       "    </tr>\n",
       "    <tr>\n",
       "      <th>3</th>\n",
       "      <td>2015-06-01 14:30:00</td>\n",
       "      <td>112.860001</td>\n",
       "    </tr>\n",
       "    <tr>\n",
       "      <th>4</th>\n",
       "      <td>2015-06-01 14:35:00</td>\n",
       "      <td>113.349998</td>\n",
       "    </tr>\n",
       "  </tbody>\n",
       "</table>\n",
       "</div>"
      ],
      "text/plain": [
       "                 time        flow\n",
       "0 2015-06-01 14:15:00  115.559998\n",
       "1 2015-06-01 14:20:00  115.199997\n",
       "2 2015-06-01 14:25:00  112.209999\n",
       "3 2015-06-01 14:30:00  112.860001\n",
       "4 2015-06-01 14:35:00  113.349998"
      ]
     },
     "execution_count": 47,
     "metadata": {},
     "output_type": "execute_result"
    }
   ],
   "source": [
    "flow = pd.read_csv('../dataset/flow1.csv', parse_dates=['time'])\n",
    "flow.head()"
   ]
  },
  {
   "cell_type": "markdown",
   "metadata": {},
   "source": [
    "### Checking current data types of given data set"
   ]
  },
  {
   "cell_type": "code",
   "execution_count": 48,
   "metadata": {},
   "outputs": [
    {
     "data": {
      "text/plain": [
       "time    datetime64[ns]\n",
       "flow           float64\n",
       "dtype: object"
      ]
     },
     "execution_count": 48,
     "metadata": {},
     "output_type": "execute_result"
    }
   ],
   "source": [
    "flow.dtypes"
   ]
  },
  {
   "cell_type": "markdown",
   "metadata": {},
   "source": [
    "### Making time column a datetime type"
   ]
  },
  {
   "cell_type": "code",
   "execution_count": 49,
   "metadata": {},
   "outputs": [],
   "source": [
    "flow['time'] = pd.to_datetime(flow['time'], format='%Y-%m-%d %H:%M:%S')"
   ]
  },
  {
   "cell_type": "markdown",
   "metadata": {},
   "source": [
    "### Showing updated data types"
   ]
  },
  {
   "cell_type": "code",
   "execution_count": 50,
   "metadata": {},
   "outputs": [
    {
     "data": {
      "text/plain": [
       "time    datetime64[ns]\n",
       "flow           float64\n",
       "dtype: object"
      ]
     },
     "execution_count": 50,
     "metadata": {},
     "output_type": "execute_result"
    }
   ],
   "source": [
    "flow.dtypes"
   ]
  },
  {
   "cell_type": "markdown",
   "metadata": {},
   "source": [
    "### Basic statistical measurements showing the dispersion of the data"
   ]
  },
  {
   "cell_type": "code",
   "execution_count": 51,
   "metadata": {},
   "outputs": [
    {
     "data": {
      "text/html": [
       "<div>\n",
       "<style scoped>\n",
       "    .dataframe tbody tr th:only-of-type {\n",
       "        vertical-align: middle;\n",
       "    }\n",
       "\n",
       "    .dataframe tbody tr th {\n",
       "        vertical-align: top;\n",
       "    }\n",
       "\n",
       "    .dataframe thead th {\n",
       "        text-align: right;\n",
       "    }\n",
       "</style>\n",
       "<table border=\"1\" class=\"dataframe\">\n",
       "  <thead>\n",
       "    <tr style=\"text-align: right;\">\n",
       "      <th></th>\n",
       "      <th>flow</th>\n",
       "    </tr>\n",
       "  </thead>\n",
       "  <tbody>\n",
       "    <tr>\n",
       "      <th>count</th>\n",
       "      <td>255419.000000</td>\n",
       "    </tr>\n",
       "    <tr>\n",
       "      <th>mean</th>\n",
       "      <td>109.166087</td>\n",
       "    </tr>\n",
       "    <tr>\n",
       "      <th>std</th>\n",
       "      <td>23.698688</td>\n",
       "    </tr>\n",
       "    <tr>\n",
       "      <th>min</th>\n",
       "      <td>-253.750000</td>\n",
       "    </tr>\n",
       "    <tr>\n",
       "      <th>25%</th>\n",
       "      <td>95.860001</td>\n",
       "    </tr>\n",
       "    <tr>\n",
       "      <th>50%</th>\n",
       "      <td>112.879997</td>\n",
       "    </tr>\n",
       "    <tr>\n",
       "      <th>75%</th>\n",
       "      <td>123.250000</td>\n",
       "    </tr>\n",
       "    <tr>\n",
       "      <th>max</th>\n",
       "      <td>599.869995</td>\n",
       "    </tr>\n",
       "  </tbody>\n",
       "</table>\n",
       "</div>"
      ],
      "text/plain": [
       "                flow\n",
       "count  255419.000000\n",
       "mean      109.166087\n",
       "std        23.698688\n",
       "min      -253.750000\n",
       "25%        95.860001\n",
       "50%       112.879997\n",
       "75%       123.250000\n",
       "max       599.869995"
      ]
     },
     "execution_count": 51,
     "metadata": {},
     "output_type": "execute_result"
    }
   ],
   "source": [
    "flow.describe()"
   ]
  },
  {
   "cell_type": "markdown",
   "metadata": {},
   "source": [
    "### Making sure that the time is in a proper order"
   ]
  },
  {
   "cell_type": "code",
   "execution_count": 52,
   "metadata": {},
   "outputs": [
    {
     "data": {
      "text/html": [
       "<div>\n",
       "<style scoped>\n",
       "    .dataframe tbody tr th:only-of-type {\n",
       "        vertical-align: middle;\n",
       "    }\n",
       "\n",
       "    .dataframe tbody tr th {\n",
       "        vertical-align: top;\n",
       "    }\n",
       "\n",
       "    .dataframe thead th {\n",
       "        text-align: right;\n",
       "    }\n",
       "</style>\n",
       "<table border=\"1\" class=\"dataframe\">\n",
       "  <thead>\n",
       "    <tr style=\"text-align: right;\">\n",
       "      <th></th>\n",
       "      <th>time</th>\n",
       "      <th>flow</th>\n",
       "    </tr>\n",
       "  </thead>\n",
       "  <tbody>\n",
       "    <tr>\n",
       "      <th>0</th>\n",
       "      <td>2015-06-01 14:15:00</td>\n",
       "      <td>115.559998</td>\n",
       "    </tr>\n",
       "    <tr>\n",
       "      <th>1</th>\n",
       "      <td>2015-06-01 14:20:00</td>\n",
       "      <td>115.199997</td>\n",
       "    </tr>\n",
       "    <tr>\n",
       "      <th>2</th>\n",
       "      <td>2015-06-01 14:25:00</td>\n",
       "      <td>112.209999</td>\n",
       "    </tr>\n",
       "    <tr>\n",
       "      <th>3</th>\n",
       "      <td>2015-06-01 14:30:00</td>\n",
       "      <td>112.860001</td>\n",
       "    </tr>\n",
       "    <tr>\n",
       "      <th>4</th>\n",
       "      <td>2015-06-01 14:35:00</td>\n",
       "      <td>113.349998</td>\n",
       "    </tr>\n",
       "    <tr>\n",
       "      <th>5</th>\n",
       "      <td>2015-06-01 14:40:00</td>\n",
       "      <td>113.389999</td>\n",
       "    </tr>\n",
       "    <tr>\n",
       "      <th>6</th>\n",
       "      <td>2015-06-01 14:45:00</td>\n",
       "      <td>113.699997</td>\n",
       "    </tr>\n",
       "    <tr>\n",
       "      <th>7</th>\n",
       "      <td>2015-06-01 14:50:00</td>\n",
       "      <td>113.680000</td>\n",
       "    </tr>\n",
       "    <tr>\n",
       "      <th>8</th>\n",
       "      <td>2015-06-01 14:55:00</td>\n",
       "      <td>113.839996</td>\n",
       "    </tr>\n",
       "    <tr>\n",
       "      <th>9</th>\n",
       "      <td>2015-06-01 15:00:00</td>\n",
       "      <td>113.570000</td>\n",
       "    </tr>\n",
       "    <tr>\n",
       "      <th>10</th>\n",
       "      <td>2015-06-01 15:05:00</td>\n",
       "      <td>113.169998</td>\n",
       "    </tr>\n",
       "    <tr>\n",
       "      <th>11</th>\n",
       "      <td>2015-06-01 15:10:00</td>\n",
       "      <td>113.169998</td>\n",
       "    </tr>\n",
       "    <tr>\n",
       "      <th>12</th>\n",
       "      <td>2015-06-01 15:15:00</td>\n",
       "      <td>112.970001</td>\n",
       "    </tr>\n",
       "    <tr>\n",
       "      <th>13</th>\n",
       "      <td>2015-06-01 15:20:00</td>\n",
       "      <td>112.959999</td>\n",
       "    </tr>\n",
       "    <tr>\n",
       "      <th>14</th>\n",
       "      <td>2015-06-01 15:25:00</td>\n",
       "      <td>113.070000</td>\n",
       "    </tr>\n",
       "    <tr>\n",
       "      <th>15</th>\n",
       "      <td>2015-06-01 15:30:00</td>\n",
       "      <td>112.559998</td>\n",
       "    </tr>\n",
       "    <tr>\n",
       "      <th>16</th>\n",
       "      <td>2015-06-01 15:35:00</td>\n",
       "      <td>112.580002</td>\n",
       "    </tr>\n",
       "    <tr>\n",
       "      <th>17</th>\n",
       "      <td>2015-06-01 15:40:00</td>\n",
       "      <td>112.699997</td>\n",
       "    </tr>\n",
       "    <tr>\n",
       "      <th>18</th>\n",
       "      <td>2015-06-01 15:45:00</td>\n",
       "      <td>112.910004</td>\n",
       "    </tr>\n",
       "    <tr>\n",
       "      <th>19</th>\n",
       "      <td>2015-06-01 15:50:00</td>\n",
       "      <td>113.199997</td>\n",
       "    </tr>\n",
       "    <tr>\n",
       "      <th>20</th>\n",
       "      <td>2015-06-01 15:55:00</td>\n",
       "      <td>113.300003</td>\n",
       "    </tr>\n",
       "    <tr>\n",
       "      <th>21</th>\n",
       "      <td>2015-06-01 16:00:00</td>\n",
       "      <td>112.970001</td>\n",
       "    </tr>\n",
       "    <tr>\n",
       "      <th>22</th>\n",
       "      <td>2015-06-01 16:05:00</td>\n",
       "      <td>113.589996</td>\n",
       "    </tr>\n",
       "    <tr>\n",
       "      <th>23</th>\n",
       "      <td>2015-06-01 16:10:00</td>\n",
       "      <td>114.160004</td>\n",
       "    </tr>\n",
       "    <tr>\n",
       "      <th>24</th>\n",
       "      <td>2015-06-01 16:15:00</td>\n",
       "      <td>113.940002</td>\n",
       "    </tr>\n",
       "    <tr>\n",
       "      <th>25</th>\n",
       "      <td>2015-06-01 16:20:00</td>\n",
       "      <td>113.879997</td>\n",
       "    </tr>\n",
       "    <tr>\n",
       "      <th>26</th>\n",
       "      <td>2015-06-01 16:25:00</td>\n",
       "      <td>114.269997</td>\n",
       "    </tr>\n",
       "    <tr>\n",
       "      <th>27</th>\n",
       "      <td>2015-06-01 16:30:00</td>\n",
       "      <td>114.349998</td>\n",
       "    </tr>\n",
       "    <tr>\n",
       "      <th>28</th>\n",
       "      <td>2015-06-01 16:35:00</td>\n",
       "      <td>114.320000</td>\n",
       "    </tr>\n",
       "    <tr>\n",
       "      <th>29</th>\n",
       "      <td>2015-06-01 16:40:00</td>\n",
       "      <td>114.440002</td>\n",
       "    </tr>\n",
       "    <tr>\n",
       "      <th>...</th>\n",
       "      <td>...</td>\n",
       "      <td>...</td>\n",
       "    </tr>\n",
       "    <tr>\n",
       "      <th>255389</th>\n",
       "      <td>2017-11-10 12:15:00</td>\n",
       "      <td>112.410004</td>\n",
       "    </tr>\n",
       "    <tr>\n",
       "      <th>255390</th>\n",
       "      <td>2017-11-10 12:20:00</td>\n",
       "      <td>111.849998</td>\n",
       "    </tr>\n",
       "    <tr>\n",
       "      <th>255391</th>\n",
       "      <td>2017-11-10 12:25:00</td>\n",
       "      <td>111.529999</td>\n",
       "    </tr>\n",
       "    <tr>\n",
       "      <th>255392</th>\n",
       "      <td>2017-11-10 12:30:00</td>\n",
       "      <td>111.160004</td>\n",
       "    </tr>\n",
       "    <tr>\n",
       "      <th>255393</th>\n",
       "      <td>2017-11-10 12:35:00</td>\n",
       "      <td>110.949997</td>\n",
       "    </tr>\n",
       "    <tr>\n",
       "      <th>255394</th>\n",
       "      <td>2017-11-10 12:40:00</td>\n",
       "      <td>110.669998</td>\n",
       "    </tr>\n",
       "    <tr>\n",
       "      <th>255395</th>\n",
       "      <td>2017-11-10 12:45:00</td>\n",
       "      <td>109.760002</td>\n",
       "    </tr>\n",
       "    <tr>\n",
       "      <th>255396</th>\n",
       "      <td>2017-11-10 12:50:00</td>\n",
       "      <td>109.139999</td>\n",
       "    </tr>\n",
       "    <tr>\n",
       "      <th>255397</th>\n",
       "      <td>2017-11-10 12:55:00</td>\n",
       "      <td>109.440002</td>\n",
       "    </tr>\n",
       "    <tr>\n",
       "      <th>255398</th>\n",
       "      <td>2017-11-10 13:00:00</td>\n",
       "      <td>109.349998</td>\n",
       "    </tr>\n",
       "    <tr>\n",
       "      <th>255399</th>\n",
       "      <td>2017-11-10 13:05:00</td>\n",
       "      <td>109.099998</td>\n",
       "    </tr>\n",
       "    <tr>\n",
       "      <th>255400</th>\n",
       "      <td>2017-11-10 13:10:00</td>\n",
       "      <td>108.489998</td>\n",
       "    </tr>\n",
       "    <tr>\n",
       "      <th>255401</th>\n",
       "      <td>2017-11-10 13:15:00</td>\n",
       "      <td>106.949997</td>\n",
       "    </tr>\n",
       "    <tr>\n",
       "      <th>255402</th>\n",
       "      <td>2017-11-10 13:20:00</td>\n",
       "      <td>107.160004</td>\n",
       "    </tr>\n",
       "    <tr>\n",
       "      <th>255403</th>\n",
       "      <td>2017-11-10 13:25:00</td>\n",
       "      <td>108.690002</td>\n",
       "    </tr>\n",
       "    <tr>\n",
       "      <th>255404</th>\n",
       "      <td>2017-11-10 13:30:00</td>\n",
       "      <td>109.589996</td>\n",
       "    </tr>\n",
       "    <tr>\n",
       "      <th>255405</th>\n",
       "      <td>2017-11-10 13:35:00</td>\n",
       "      <td>110.309998</td>\n",
       "    </tr>\n",
       "    <tr>\n",
       "      <th>255406</th>\n",
       "      <td>2017-11-10 13:40:00</td>\n",
       "      <td>111.059998</td>\n",
       "    </tr>\n",
       "    <tr>\n",
       "      <th>255407</th>\n",
       "      <td>2017-11-10 13:45:00</td>\n",
       "      <td>110.919998</td>\n",
       "    </tr>\n",
       "    <tr>\n",
       "      <th>255408</th>\n",
       "      <td>2017-11-10 13:50:00</td>\n",
       "      <td>110.900002</td>\n",
       "    </tr>\n",
       "    <tr>\n",
       "      <th>255409</th>\n",
       "      <td>2017-11-10 13:55:00</td>\n",
       "      <td>110.379997</td>\n",
       "    </tr>\n",
       "    <tr>\n",
       "      <th>255410</th>\n",
       "      <td>2017-11-10 14:00:00</td>\n",
       "      <td>109.459999</td>\n",
       "    </tr>\n",
       "    <tr>\n",
       "      <th>255411</th>\n",
       "      <td>2017-11-10 14:05:00</td>\n",
       "      <td>107.410004</td>\n",
       "    </tr>\n",
       "    <tr>\n",
       "      <th>255412</th>\n",
       "      <td>2017-11-10 14:10:00</td>\n",
       "      <td>107.540001</td>\n",
       "    </tr>\n",
       "    <tr>\n",
       "      <th>255413</th>\n",
       "      <td>2017-11-10 14:15:00</td>\n",
       "      <td>108.089996</td>\n",
       "    </tr>\n",
       "    <tr>\n",
       "      <th>255414</th>\n",
       "      <td>2017-11-10 14:20:00</td>\n",
       "      <td>107.830002</td>\n",
       "    </tr>\n",
       "    <tr>\n",
       "      <th>255415</th>\n",
       "      <td>2017-11-10 14:25:00</td>\n",
       "      <td>107.459999</td>\n",
       "    </tr>\n",
       "    <tr>\n",
       "      <th>255416</th>\n",
       "      <td>2017-11-10 14:30:00</td>\n",
       "      <td>106.919998</td>\n",
       "    </tr>\n",
       "    <tr>\n",
       "      <th>255417</th>\n",
       "      <td>2017-11-10 14:35:00</td>\n",
       "      <td>105.559998</td>\n",
       "    </tr>\n",
       "    <tr>\n",
       "      <th>255418</th>\n",
       "      <td>2017-11-10 14:40:00</td>\n",
       "      <td>104.940002</td>\n",
       "    </tr>\n",
       "  </tbody>\n",
       "</table>\n",
       "<p>255419 rows × 2 columns</p>\n",
       "</div>"
      ],
      "text/plain": [
       "                      time        flow\n",
       "0      2015-06-01 14:15:00  115.559998\n",
       "1      2015-06-01 14:20:00  115.199997\n",
       "2      2015-06-01 14:25:00  112.209999\n",
       "3      2015-06-01 14:30:00  112.860001\n",
       "4      2015-06-01 14:35:00  113.349998\n",
       "5      2015-06-01 14:40:00  113.389999\n",
       "6      2015-06-01 14:45:00  113.699997\n",
       "7      2015-06-01 14:50:00  113.680000\n",
       "8      2015-06-01 14:55:00  113.839996\n",
       "9      2015-06-01 15:00:00  113.570000\n",
       "10     2015-06-01 15:05:00  113.169998\n",
       "11     2015-06-01 15:10:00  113.169998\n",
       "12     2015-06-01 15:15:00  112.970001\n",
       "13     2015-06-01 15:20:00  112.959999\n",
       "14     2015-06-01 15:25:00  113.070000\n",
       "15     2015-06-01 15:30:00  112.559998\n",
       "16     2015-06-01 15:35:00  112.580002\n",
       "17     2015-06-01 15:40:00  112.699997\n",
       "18     2015-06-01 15:45:00  112.910004\n",
       "19     2015-06-01 15:50:00  113.199997\n",
       "20     2015-06-01 15:55:00  113.300003\n",
       "21     2015-06-01 16:00:00  112.970001\n",
       "22     2015-06-01 16:05:00  113.589996\n",
       "23     2015-06-01 16:10:00  114.160004\n",
       "24     2015-06-01 16:15:00  113.940002\n",
       "25     2015-06-01 16:20:00  113.879997\n",
       "26     2015-06-01 16:25:00  114.269997\n",
       "27     2015-06-01 16:30:00  114.349998\n",
       "28     2015-06-01 16:35:00  114.320000\n",
       "29     2015-06-01 16:40:00  114.440002\n",
       "...                    ...         ...\n",
       "255389 2017-11-10 12:15:00  112.410004\n",
       "255390 2017-11-10 12:20:00  111.849998\n",
       "255391 2017-11-10 12:25:00  111.529999\n",
       "255392 2017-11-10 12:30:00  111.160004\n",
       "255393 2017-11-10 12:35:00  110.949997\n",
       "255394 2017-11-10 12:40:00  110.669998\n",
       "255395 2017-11-10 12:45:00  109.760002\n",
       "255396 2017-11-10 12:50:00  109.139999\n",
       "255397 2017-11-10 12:55:00  109.440002\n",
       "255398 2017-11-10 13:00:00  109.349998\n",
       "255399 2017-11-10 13:05:00  109.099998\n",
       "255400 2017-11-10 13:10:00  108.489998\n",
       "255401 2017-11-10 13:15:00  106.949997\n",
       "255402 2017-11-10 13:20:00  107.160004\n",
       "255403 2017-11-10 13:25:00  108.690002\n",
       "255404 2017-11-10 13:30:00  109.589996\n",
       "255405 2017-11-10 13:35:00  110.309998\n",
       "255406 2017-11-10 13:40:00  111.059998\n",
       "255407 2017-11-10 13:45:00  110.919998\n",
       "255408 2017-11-10 13:50:00  110.900002\n",
       "255409 2017-11-10 13:55:00  110.379997\n",
       "255410 2017-11-10 14:00:00  109.459999\n",
       "255411 2017-11-10 14:05:00  107.410004\n",
       "255412 2017-11-10 14:10:00  107.540001\n",
       "255413 2017-11-10 14:15:00  108.089996\n",
       "255414 2017-11-10 14:20:00  107.830002\n",
       "255415 2017-11-10 14:25:00  107.459999\n",
       "255416 2017-11-10 14:30:00  106.919998\n",
       "255417 2017-11-10 14:35:00  105.559998\n",
       "255418 2017-11-10 14:40:00  104.940002\n",
       "\n",
       "[255419 rows x 2 columns]"
      ]
     },
     "execution_count": 52,
     "metadata": {},
     "output_type": "execute_result"
    }
   ],
   "source": [
    "flow.sort_values('time')"
   ]
  },
  {
   "cell_type": "markdown",
   "metadata": {},
   "source": [
    "### Variable for empty values check out"
   ]
  },
  {
   "cell_type": "code",
   "execution_count": 53,
   "metadata": {},
   "outputs": [],
   "source": [
    "s = (flow['flow'])"
   ]
  },
  {
   "cell_type": "markdown",
   "metadata": {},
   "source": [
    "### Checking if there are empty values, there are no empty values found"
   ]
  },
  {
   "cell_type": "code",
   "execution_count": 54,
   "metadata": {},
   "outputs": [
    {
     "data": {
      "text/plain": [
       "0         False\n",
       "1         False\n",
       "2         False\n",
       "3         False\n",
       "4         False\n",
       "5         False\n",
       "6         False\n",
       "7         False\n",
       "8         False\n",
       "9         False\n",
       "10        False\n",
       "11        False\n",
       "12        False\n",
       "13        False\n",
       "14        False\n",
       "15        False\n",
       "16        False\n",
       "17        False\n",
       "18        False\n",
       "19        False\n",
       "20        False\n",
       "21        False\n",
       "22        False\n",
       "23        False\n",
       "24        False\n",
       "25        False\n",
       "26        False\n",
       "27        False\n",
       "28        False\n",
       "29        False\n",
       "          ...  \n",
       "255389    False\n",
       "255390    False\n",
       "255391    False\n",
       "255392    False\n",
       "255393    False\n",
       "255394    False\n",
       "255395    False\n",
       "255396    False\n",
       "255397    False\n",
       "255398    False\n",
       "255399    False\n",
       "255400    False\n",
       "255401    False\n",
       "255402    False\n",
       "255403    False\n",
       "255404    False\n",
       "255405    False\n",
       "255406    False\n",
       "255407    False\n",
       "255408    False\n",
       "255409    False\n",
       "255410    False\n",
       "255411    False\n",
       "255412    False\n",
       "255413    False\n",
       "255414    False\n",
       "255415    False\n",
       "255416    False\n",
       "255417    False\n",
       "255418    False\n",
       "Name: flow, Length: 255419, dtype: bool"
      ]
     },
     "execution_count": 54,
     "metadata": {},
     "output_type": "execute_result"
    }
   ],
   "source": [
    "s.isnull()"
   ]
  },
  {
   "cell_type": "markdown",
   "metadata": {},
   "source": [
    "### Empty values then list only them"
   ]
  },
  {
   "cell_type": "code",
   "execution_count": 55,
   "metadata": {},
   "outputs": [
    {
     "data": {
      "text/plain": [
       "Series([], Name: flow, dtype: float64)"
      ]
     },
     "execution_count": 55,
     "metadata": {},
     "output_type": "execute_result"
    }
   ],
   "source": [
    "s[s.isnull()]"
   ]
  },
  {
   "cell_type": "markdown",
   "metadata": {},
   "source": [
    "### If empty values the show their index, there are no empty values found"
   ]
  },
  {
   "cell_type": "code",
   "execution_count": 56,
   "metadata": {},
   "outputs": [
    {
     "data": {
      "text/plain": [
       "Int64Index([], dtype='int64')"
      ]
     },
     "execution_count": 56,
     "metadata": {},
     "output_type": "execute_result"
    }
   ],
   "source": [
    "s.index[s.isnull()]"
   ]
  },
  {
   "cell_type": "markdown",
   "metadata": {},
   "source": [
    "### Flow density plot and histogram, one may notice the general pattern of the distribution of the data"
   ]
  },
  {
   "cell_type": "code",
   "execution_count": 57,
   "metadata": {},
   "outputs": [
    {
     "name": "stderr",
     "output_type": "stream",
     "text": [
      "/home/alicja/anaconda3/lib/python3.6/site-packages/matplotlib/axes/_axes.py:6462: UserWarning: The 'normed' kwarg is deprecated, and has been replaced by the 'density' kwarg.\n",
      "  warnings.warn(\"The 'normed' kwarg is deprecated, and has been \"\n"
     ]
    },
    {
     "data": {
      "text/plain": [
       "<matplotlib.axes._subplots.AxesSubplot at 0x7efdd3126128>"
      ]
     },
     "execution_count": 57,
     "metadata": {},
     "output_type": "execute_result"
    },
    {
     "data": {
      "image/png": "[encoded data removed]",
      "text/plain": [
       "<Figure size 432x288 with 1 Axes>"
      ]
     },
     "metadata": {},
     "output_type": "display_data"
    }
   ],
   "source": [
    "sns.distplot(flow[\"flow\"], hist=True, kde=True, \n",
    "             bins=int(180/1), color = 'darkblue', \n",
    "             hist_kws={'edgecolor':'black'},\n",
    "             kde_kws={'linewidth': 1})"
   ]
  },
  {
   "cell_type": "markdown",
   "metadata": {},
   "source": [
    "### Variables for plotting time against flow value"
   ]
  },
  {
   "cell_type": "code",
   "execution_count": 58,
   "metadata": {},
   "outputs": [],
   "source": [
    "t = flow['time']\n",
    "f = flow['flow']"
   ]
  },
  {
   "cell_type": "markdown",
   "metadata": {},
   "source": [
    "### General plot"
   ]
  },
  {
   "cell_type": "markdown",
   "metadata": {},
   "source": [
    "plotting all data at once giving the first impression of the data gathered, one may see the general pattern of the flow with few exceptions and fluctuations"
   ]
  },
  {
   "cell_type": "code",
   "execution_count": 59,
   "metadata": {},
   "outputs": [
    {
     "data": {
      "text/plain": [
       "[<matplotlib.lines.Line2D at 0x7efdd2f98780>]"
      ]
     },
     "execution_count": 59,
     "metadata": {},
     "output_type": "execute_result"
    },
    {
     "data": {
      "image/png": "[encoded data removed]",
      "text/plain": [
       "<Figure size 576x432 with 1 Axes>"
      ]
     },
     "metadata": {},
     "output_type": "display_data"
    }
   ],
   "source": [
    "fig = plt.figure(figsize=(8, 6))\n",
    "ax = fig.add_subplot(1,1,1)\n",
    "ax.plot(t,f)"
   ]
  },
  {
   "cell_type": "markdown",
   "metadata": {},
   "source": [
    "### One year plot"
   ]
  },
  {
   "cell_type": "markdown",
   "metadata": {},
   "source": [
    "plotting one year 2016, giving very general insight into the data, one may notice few outstanding anomalies during the year, additionally it may be observed that from March to April there is a general increase of the value of the flow in comparison to the rest of the year"
   ]
  },
  {
   "cell_type": "code",
   "execution_count": 60,
   "metadata": {},
   "outputs": [
    {
     "data": {
      "text/plain": [
       "[<matplotlib.lines.Line2D at 0x7efdd2e9fa58>]"
      ]
     },
     "execution_count": 60,
     "metadata": {},
     "output_type": "execute_result"
    },
    {
     "data": {
      "image/png": "[encoded data removed]",
      "text/plain": [
       "<Figure size 576x432 with 1 Axes>"
      ]
     },
     "metadata": {},
     "output_type": "display_data"
    }
   ],
   "source": [
    "t = flow['time']\n",
    "f = flow['flow']\n",
    "fig = plt.figure(figsize=(8, 6))\n",
    "ax = fig.add_subplot(1,1,1)\n",
    "ax.set_xlim([dt.date(2016, 1, 1), dt.date(2016, 12, 31)])\n",
    "ax.plot(t,f)"
   ]
  },
  {
   "cell_type": "markdown",
   "metadata": {},
   "source": [
    "### One month plot"
   ]
  },
  {
   "cell_type": "markdown",
   "metadata": {},
   "source": [
    "plotting one month in January 2016, showing with exceptions the recurring pattern of the flow "
   ]
  },
  {
   "cell_type": "code",
   "execution_count": 61,
   "metadata": {},
   "outputs": [
    {
     "data": {
      "text/plain": [
       "[<matplotlib.lines.Line2D at 0x7efdd2e8b668>]"
      ]
     },
     "execution_count": 61,
     "metadata": {},
     "output_type": "execute_result"
    },
    {
     "data": {
      "image/png": "[encoded data removed]",
      "text/plain": [
       "<Figure size 576x432 with 1 Axes>"
      ]
     },
     "metadata": {},
     "output_type": "display_data"
    }
   ],
   "source": [
    "t = flow['time']\n",
    "f = flow['flow']\n",
    "fig = plt.figure(figsize=(8, 6))\n",
    "ax = fig.add_subplot(1,1,1)\n",
    "ax.set_xlim([dt.date(2016, 1, 1), dt.date(2016, 1, 31)])\n",
    "ax.plot(t,f)"
   ]
  },
  {
   "cell_type": "markdown",
   "metadata": {},
   "source": [
    "### Few days plot"
   ]
  },
  {
   "cell_type": "markdown",
   "metadata": {},
   "source": [
    "plotting few days in January 2016, showing the general pattern and fluctuations of the data, where the lowest point is equal to approximately 70 and the highest to approximately 120"
   ]
  },
  {
   "cell_type": "code",
   "execution_count": 62,
   "metadata": {},
   "outputs": [
    {
     "data": {
      "text/plain": [
       "[<matplotlib.lines.Line2D at 0x7efdd2d93cf8>]"
      ]
     },
     "execution_count": 62,
     "metadata": {},
     "output_type": "execute_result"
    },
    {
     "data": {
      "image/png": "[encoded data removed]",
      "text/plain": [
       "<Figure size 576x432 with 1 Axes>"
      ]
     },
     "metadata": {},
     "output_type": "display_data"
    }
   ],
   "source": [
    "t = flow['time']\n",
    "f = flow['flow']\n",
    "fig = plt.figure(figsize=(8, 6))\n",
    "ax = fig.add_subplot(1,1,1)\n",
    "ax.set_xlim([dt.date(2016, 1, 1), dt.date(2016, 1, 6)])\n",
    "ax.plot(t,f)"
   ]
  },
  {
   "cell_type": "markdown",
   "metadata": {},
   "source": [
    "### One day plot"
   ]
  },
  {
   "cell_type": "markdown",
   "metadata": {},
   "source": [
    "plotting one day in January 2016, showing the change in time of the flow depending on the time of day"
   ]
  },
  {
   "cell_type": "code",
   "execution_count": 63,
   "metadata": {},
   "outputs": [
    {
     "data": {
      "text/plain": [
       "[<matplotlib.lines.Line2D at 0x7efdd2dc70f0>]"
      ]
     },
     "execution_count": 63,
     "metadata": {},
     "output_type": "execute_result"
    },
    {
     "data": {
      "image/png": "[encoded data removed]",
      "text/plain": [
       "<Figure size 576x432 with 1 Axes>"
      ]
     },
     "metadata": {},
     "output_type": "display_data"
    }
   ],
   "source": [
    "t = flow['time']\n",
    "f = flow['flow']\n",
    "fig = plt.figure(figsize=(8, 6))\n",
    "ax = fig.add_subplot(1,1,1)\n",
    "ax.set_xlim([dt.date(2016, 1, 1), dt.date(2016, 1, 2)])\n",
    "ax.plot(t,f)"
   ]
  },
  {
   "cell_type": "markdown",
   "metadata": {},
   "source": [
    "### Boxplot"
   ]
  },
  {
   "cell_type": "markdown",
   "metadata": {},
   "source": [
    "on all available data showing the basic statistical measurements in a vivid picture. It can be noticed that the first quartile value is equal to approximately 90, the mean value to 110 and and third quartile to 120. This gives an insight that in general most of the data is not in extremes. There are individual exceptions like the value 599 or -250 which may be the result of anomaly or the broken sensor. \n"
   ]
  },
  {
   "cell_type": "code",
   "execution_count": 64,
   "metadata": {},
   "outputs": [
    {
     "data": {
      "image/png": "[encoded data removed]",
      "text/plain": [
       "<Figure size 842.4x595.44 with 1 Axes>"
      ]
     },
     "metadata": {},
     "output_type": "display_data"
    }
   ],
   "source": [
    "sns.set(style=\"whitegrid\")\n",
    "box = pd.read_csv(\"//home//alicja//Documents//environments//jupyter_env//flow1.csv\")\n",
    "fig, ax = plt.subplots()\n",
    "fig.set_size_inches(11.7, 8.27)\n",
    "ax = sns.boxplot(x=box[\"flow\"])"
   ]
  }
 ],
 "metadata": {
  "kernelspec": {
   "display_name": "Python 3",
   "language": "python",
   "name": "python3"
  },
  "language_info": {
   "codemirror_mode": {
    "name": "ipython",
    "version": 3
   },
   "file_extension": ".py",
   "mimetype": "text/x-python",
   "name": "python",
   "nbconvert_exporter": "python",
   "pygments_lexer": "ipython3",
   "version": "3.6.5"
  }
 },
 "nbformat": 4,
 "nbformat_minor": 2
}
