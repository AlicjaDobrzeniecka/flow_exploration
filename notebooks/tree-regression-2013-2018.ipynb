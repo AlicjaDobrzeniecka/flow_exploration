{
 "cells": [
  {
   "cell_type": "markdown",
   "metadata": {},
   "source": [
    "# Predicting the flow "
   ]
  },
  {
   "cell_type": "markdown",
   "metadata": {},
   "source": [
    "## Decision tree regression on data from 2013-2018 one feature\n",
    "Model based on one feature which is historical value of a given hour"
   ]
  },
  {
   "cell_type": "markdown",
   "metadata": {},
   "source": [
    "### Importing necessary libraries"
   ]
  },
  {
   "cell_type": "code",
   "execution_count": 40,
   "metadata": {},
   "outputs": [],
   "source": [
    "import pandas as pd\n",
    "from sklearn import linear_model\n",
    "from sklearn.model_selection import train_test_split\n",
    "from matplotlib import pyplot as plt\n",
    "from sklearn.tree import DecisionTreeRegressor\n",
    "import datetime as dt\n",
    "import numpy as np\n",
    "from sklearn.neural_network import MLPRegressor\n",
    "from sklearn.metrics import mean_absolute_error"
   ]
  },
  {
   "cell_type": "markdown",
   "metadata": {},
   "source": [
    "### Loading the data set"
   ]
  },
  {
   "cell_type": "code",
   "execution_count": 3,
   "metadata": {},
   "outputs": [
    {
     "data": {
      "text/html": [
       "<div>\n",
       "<style scoped>\n",
       "    .dataframe tbody tr th:only-of-type {\n",
       "        vertical-align: middle;\n",
       "    }\n",
       "\n",
       "    .dataframe tbody tr th {\n",
       "        vertical-align: top;\n",
       "    }\n",
       "\n",
       "    .dataframe thead th {\n",
       "        text-align: right;\n",
       "    }\n",
       "</style>\n",
       "<table border=\"1\" class=\"dataframe\">\n",
       "  <thead>\n",
       "    <tr style=\"text-align: right;\">\n",
       "      <th></th>\n",
       "      <th>time</th>\n",
       "      <th>flow</th>\n",
       "    </tr>\n",
       "  </thead>\n",
       "  <tbody>\n",
       "    <tr>\n",
       "      <th>0</th>\n",
       "      <td>2013-09-09 10:50:00</td>\n",
       "      <td>2.805000</td>\n",
       "    </tr>\n",
       "    <tr>\n",
       "      <th>1</th>\n",
       "      <td>2013-09-09 10:55:00</td>\n",
       "      <td>2.796000</td>\n",
       "    </tr>\n",
       "    <tr>\n",
       "      <th>2</th>\n",
       "      <td>2013-09-09 11:00:00</td>\n",
       "      <td>2.791000</td>\n",
       "    </tr>\n",
       "    <tr>\n",
       "      <th>3</th>\n",
       "      <td>2013-09-09 11:05:00</td>\n",
       "      <td>46.680000</td>\n",
       "    </tr>\n",
       "    <tr>\n",
       "      <th>4</th>\n",
       "      <td>2013-09-09 11:10:00</td>\n",
       "      <td>48.029999</td>\n",
       "    </tr>\n",
       "  </tbody>\n",
       "</table>\n",
       "</div>"
      ],
      "text/plain": [
       "                 time       flow\n",
       "0 2013-09-09 10:50:00   2.805000\n",
       "1 2013-09-09 10:55:00   2.796000\n",
       "2 2013-09-09 11:00:00   2.791000\n",
       "3 2013-09-09 11:05:00  46.680000\n",
       "4 2013-09-09 11:10:00  48.029999"
      ]
     },
     "execution_count": 3,
     "metadata": {},
     "output_type": "execute_result"
    }
   ],
   "source": [
    "flow = pd.read_csv('../dataset/flow2013.csv', parse_dates=['time'])\n",
    "flow.head()"
   ]
  },
  {
   "cell_type": "markdown",
   "metadata": {},
   "source": [
    "### Preparing the data \n",
    "Making the mean for each hour, reseting the index put on the time and leaving only integer representing the current hour"
   ]
  },
  {
   "cell_type": "code",
   "execution_count": 4,
   "metadata": {},
   "outputs": [],
   "source": [
    "flow_h = pd.read_csv('../dataset/flow2013.csv', parse_dates={'hour':['time']},index_col='hour')\n",
    "dayfirst=True\n",
    "flow_h = flow_h.resample('60T').mean()"
   ]
  },
  {
   "cell_type": "code",
   "execution_count": 5,
   "metadata": {},
   "outputs": [],
   "source": [
    "flow_h = flow_h.reset_index()"
   ]
  },
  {
   "cell_type": "code",
   "execution_count": 6,
   "metadata": {},
   "outputs": [
    {
     "data": {
      "text/html": [
       "<div>\n",
       "<style scoped>\n",
       "    .dataframe tbody tr th:only-of-type {\n",
       "        vertical-align: middle;\n",
       "    }\n",
       "\n",
       "    .dataframe tbody tr th {\n",
       "        vertical-align: top;\n",
       "    }\n",
       "\n",
       "    .dataframe thead th {\n",
       "        text-align: right;\n",
       "    }\n",
       "</style>\n",
       "<table border=\"1\" class=\"dataframe\">\n",
       "  <thead>\n",
       "    <tr style=\"text-align: right;\">\n",
       "      <th></th>\n",
       "      <th>hour</th>\n",
       "      <th>flow</th>\n",
       "      <th>time</th>\n",
       "    </tr>\n",
       "  </thead>\n",
       "  <tbody>\n",
       "    <tr>\n",
       "      <th>0</th>\n",
       "      <td>2013-09-09 10:00:00</td>\n",
       "      <td>2.800500</td>\n",
       "      <td>2013-09-09 10:00:00</td>\n",
       "    </tr>\n",
       "    <tr>\n",
       "      <th>1</th>\n",
       "      <td>2013-09-09 11:00:00</td>\n",
       "      <td>38.436750</td>\n",
       "      <td>2013-09-09 11:00:00</td>\n",
       "    </tr>\n",
       "    <tr>\n",
       "      <th>2</th>\n",
       "      <td>2013-09-09 12:00:00</td>\n",
       "      <td>39.892500</td>\n",
       "      <td>2013-09-09 12:00:00</td>\n",
       "    </tr>\n",
       "    <tr>\n",
       "      <th>3</th>\n",
       "      <td>2013-09-09 13:00:00</td>\n",
       "      <td>20.223334</td>\n",
       "      <td>2013-09-09 13:00:00</td>\n",
       "    </tr>\n",
       "    <tr>\n",
       "      <th>4</th>\n",
       "      <td>2013-09-09 14:00:00</td>\n",
       "      <td>18.574167</td>\n",
       "      <td>2013-09-09 14:00:00</td>\n",
       "    </tr>\n",
       "  </tbody>\n",
       "</table>\n",
       "</div>"
      ],
      "text/plain": [
       "                 hour       flow                time\n",
       "0 2013-09-09 10:00:00   2.800500 2013-09-09 10:00:00\n",
       "1 2013-09-09 11:00:00  38.436750 2013-09-09 11:00:00\n",
       "2 2013-09-09 12:00:00  39.892500 2013-09-09 12:00:00\n",
       "3 2013-09-09 13:00:00  20.223334 2013-09-09 13:00:00\n",
       "4 2013-09-09 14:00:00  18.574167 2013-09-09 14:00:00"
      ]
     },
     "execution_count": 6,
     "metadata": {},
     "output_type": "execute_result"
    }
   ],
   "source": [
    "flow_h['time'] = flow_h['hour']\n",
    "flow_h.head()"
   ]
  },
  {
   "cell_type": "markdown",
   "metadata": {},
   "source": [
    "### Taking only the hour of the flow from the datetime column"
   ]
  },
  {
   "cell_type": "code",
   "execution_count": 7,
   "metadata": {},
   "outputs": [],
   "source": [
    "flow_h['hour'] = (flow_h['hour'].dt.hour)"
   ]
  },
  {
   "cell_type": "code",
   "execution_count": 8,
   "metadata": {},
   "outputs": [
    {
     "data": {
      "text/html": [
       "<div>\n",
       "<style scoped>\n",
       "    .dataframe tbody tr th:only-of-type {\n",
       "        vertical-align: middle;\n",
       "    }\n",
       "\n",
       "    .dataframe tbody tr th {\n",
       "        vertical-align: top;\n",
       "    }\n",
       "\n",
       "    .dataframe thead th {\n",
       "        text-align: right;\n",
       "    }\n",
       "</style>\n",
       "<table border=\"1\" class=\"dataframe\">\n",
       "  <thead>\n",
       "    <tr style=\"text-align: right;\">\n",
       "      <th></th>\n",
       "      <th>hour</th>\n",
       "      <th>flow</th>\n",
       "      <th>time</th>\n",
       "    </tr>\n",
       "  </thead>\n",
       "  <tbody>\n",
       "    <tr>\n",
       "      <th>0</th>\n",
       "      <td>10</td>\n",
       "      <td>2.800500</td>\n",
       "      <td>2013-09-09 10:00:00</td>\n",
       "    </tr>\n",
       "    <tr>\n",
       "      <th>1</th>\n",
       "      <td>11</td>\n",
       "      <td>38.436750</td>\n",
       "      <td>2013-09-09 11:00:00</td>\n",
       "    </tr>\n",
       "    <tr>\n",
       "      <th>2</th>\n",
       "      <td>12</td>\n",
       "      <td>39.892500</td>\n",
       "      <td>2013-09-09 12:00:00</td>\n",
       "    </tr>\n",
       "    <tr>\n",
       "      <th>3</th>\n",
       "      <td>13</td>\n",
       "      <td>20.223334</td>\n",
       "      <td>2013-09-09 13:00:00</td>\n",
       "    </tr>\n",
       "    <tr>\n",
       "      <th>4</th>\n",
       "      <td>14</td>\n",
       "      <td>18.574167</td>\n",
       "      <td>2013-09-09 14:00:00</td>\n",
       "    </tr>\n",
       "  </tbody>\n",
       "</table>\n",
       "</div>"
      ],
      "text/plain": [
       "   hour       flow                time\n",
       "0    10   2.800500 2013-09-09 10:00:00\n",
       "1    11  38.436750 2013-09-09 11:00:00\n",
       "2    12  39.892500 2013-09-09 12:00:00\n",
       "3    13  20.223334 2013-09-09 13:00:00\n",
       "4    14  18.574167 2013-09-09 14:00:00"
      ]
     },
     "execution_count": 8,
     "metadata": {},
     "output_type": "execute_result"
    }
   ],
   "source": [
    "flow_h.head()"
   ]
  },
  {
   "cell_type": "markdown",
   "metadata": {},
   "source": [
    "### Splitting the data set into train and test sets"
   ]
  },
  {
   "cell_type": "code",
   "execution_count": 9,
   "metadata": {},
   "outputs": [],
   "source": [
    "split_date = pd.datetime(2017,12,31,23,59)\n",
    "\n",
    "flow_training = flow_h.loc[flow_h['time'] <= split_date]\n",
    "flow_test = flow_h.loc[flow_h['time'] > split_date]\n",
    "\n",
    "flow_training = flow_training.dropna()\n",
    "flow_test = flow_test.dropna()"
   ]
  },
  {
   "cell_type": "code",
   "execution_count": 10,
   "metadata": {},
   "outputs": [
    {
     "data": {
      "text/html": [
       "<div>\n",
       "<style scoped>\n",
       "    .dataframe tbody tr th:only-of-type {\n",
       "        vertical-align: middle;\n",
       "    }\n",
       "\n",
       "    .dataframe tbody tr th {\n",
       "        vertical-align: top;\n",
       "    }\n",
       "\n",
       "    .dataframe thead th {\n",
       "        text-align: right;\n",
       "    }\n",
       "</style>\n",
       "<table border=\"1\" class=\"dataframe\">\n",
       "  <thead>\n",
       "    <tr style=\"text-align: right;\">\n",
       "      <th></th>\n",
       "      <th>hour</th>\n",
       "      <th>flow</th>\n",
       "      <th>time</th>\n",
       "    </tr>\n",
       "  </thead>\n",
       "  <tbody>\n",
       "    <tr>\n",
       "      <th>0</th>\n",
       "      <td>10</td>\n",
       "      <td>2.800500</td>\n",
       "      <td>2013-09-09 10:00:00</td>\n",
       "    </tr>\n",
       "    <tr>\n",
       "      <th>1</th>\n",
       "      <td>11</td>\n",
       "      <td>38.436750</td>\n",
       "      <td>2013-09-09 11:00:00</td>\n",
       "    </tr>\n",
       "    <tr>\n",
       "      <th>2</th>\n",
       "      <td>12</td>\n",
       "      <td>39.892500</td>\n",
       "      <td>2013-09-09 12:00:00</td>\n",
       "    </tr>\n",
       "    <tr>\n",
       "      <th>3</th>\n",
       "      <td>13</td>\n",
       "      <td>20.223334</td>\n",
       "      <td>2013-09-09 13:00:00</td>\n",
       "    </tr>\n",
       "    <tr>\n",
       "      <th>4</th>\n",
       "      <td>14</td>\n",
       "      <td>18.574167</td>\n",
       "      <td>2013-09-09 14:00:00</td>\n",
       "    </tr>\n",
       "  </tbody>\n",
       "</table>\n",
       "</div>"
      ],
      "text/plain": [
       "   hour       flow                time\n",
       "0    10   2.800500 2013-09-09 10:00:00\n",
       "1    11  38.436750 2013-09-09 11:00:00\n",
       "2    12  39.892500 2013-09-09 12:00:00\n",
       "3    13  20.223334 2013-09-09 13:00:00\n",
       "4    14  18.574167 2013-09-09 14:00:00"
      ]
     },
     "execution_count": 10,
     "metadata": {},
     "output_type": "execute_result"
    }
   ],
   "source": [
    "flow_training.head()"
   ]
  },
  {
   "cell_type": "code",
   "execution_count": 11,
   "metadata": {},
   "outputs": [
    {
     "data": {
      "text/html": [
       "<div>\n",
       "<style scoped>\n",
       "    .dataframe tbody tr th:only-of-type {\n",
       "        vertical-align: middle;\n",
       "    }\n",
       "\n",
       "    .dataframe tbody tr th {\n",
       "        vertical-align: top;\n",
       "    }\n",
       "\n",
       "    .dataframe thead th {\n",
       "        text-align: right;\n",
       "    }\n",
       "</style>\n",
       "<table border=\"1\" class=\"dataframe\">\n",
       "  <thead>\n",
       "    <tr style=\"text-align: right;\">\n",
       "      <th></th>\n",
       "      <th>hour</th>\n",
       "      <th>flow</th>\n",
       "      <th>time</th>\n",
       "    </tr>\n",
       "  </thead>\n",
       "  <tbody>\n",
       "    <tr>\n",
       "      <th>37790</th>\n",
       "      <td>0</td>\n",
       "      <td>65.062181</td>\n",
       "      <td>2018-01-01 00:00:00</td>\n",
       "    </tr>\n",
       "    <tr>\n",
       "      <th>37791</th>\n",
       "      <td>1</td>\n",
       "      <td>62.089403</td>\n",
       "      <td>2018-01-01 01:00:00</td>\n",
       "    </tr>\n",
       "    <tr>\n",
       "      <th>37792</th>\n",
       "      <td>2</td>\n",
       "      <td>59.599414</td>\n",
       "      <td>2018-01-01 02:00:00</td>\n",
       "    </tr>\n",
       "    <tr>\n",
       "      <th>37793</th>\n",
       "      <td>3</td>\n",
       "      <td>52.519042</td>\n",
       "      <td>2018-01-01 03:00:00</td>\n",
       "    </tr>\n",
       "    <tr>\n",
       "      <th>37794</th>\n",
       "      <td>4</td>\n",
       "      <td>44.307970</td>\n",
       "      <td>2018-01-01 04:00:00</td>\n",
       "    </tr>\n",
       "  </tbody>\n",
       "</table>\n",
       "</div>"
      ],
      "text/plain": [
       "       hour       flow                time\n",
       "37790     0  65.062181 2018-01-01 00:00:00\n",
       "37791     1  62.089403 2018-01-01 01:00:00\n",
       "37792     2  59.599414 2018-01-01 02:00:00\n",
       "37793     3  52.519042 2018-01-01 03:00:00\n",
       "37794     4  44.307970 2018-01-01 04:00:00"
      ]
     },
     "execution_count": 11,
     "metadata": {},
     "output_type": "execute_result"
    }
   ],
   "source": [
    "flow_test.head()"
   ]
  },
  {
   "cell_type": "code",
   "execution_count": 12,
   "metadata": {},
   "outputs": [],
   "source": [
    "X_flow_training = flow_training['hour']\n",
    "Y_flow_training = flow_training['flow']\n",
    "\n",
    "X_flow_test = flow_test['hour']\n",
    "Y_flow_test = flow_test['flow']"
   ]
  },
  {
   "cell_type": "markdown",
   "metadata": {},
   "source": [
    "### Reshaping the data to 2D array"
   ]
  },
  {
   "cell_type": "code",
   "execution_count": 13,
   "metadata": {},
   "outputs": [],
   "source": [
    "X_flow_training = X_flow_training.values.reshape(-1,1)\n",
    "Y_flow_training = Y_flow_training.values.reshape(-1,1)\n",
    "X_flow_test = X_flow_test.values.reshape(-1,1)\n",
    "Y_flow_test = Y_flow_test.values.reshape(-1,1)"
   ]
  },
  {
   "cell_type": "markdown",
   "metadata": {},
   "source": [
    "### Creating a regression tree model\n",
    "The model learns on one feature"
   ]
  },
  {
   "cell_type": "code",
   "execution_count": 14,
   "metadata": {},
   "outputs": [
    {
     "data": {
      "text/plain": [
       "DecisionTreeRegressor(criterion='mse', max_depth=None, max_features=None,\n",
       "           max_leaf_nodes=None, min_impurity_decrease=0.0,\n",
       "           min_impurity_split=None, min_samples_leaf=1,\n",
       "           min_samples_split=2, min_weight_fraction_leaf=0.0,\n",
       "           presort=False, random_state=None, splitter='best')"
      ]
     },
     "execution_count": 14,
     "metadata": {},
     "output_type": "execute_result"
    }
   ],
   "source": [
    "regressor = DecisionTreeRegressor()\n",
    "regressor.fit(X_flow_training, Y_flow_training)"
   ]
  },
  {
   "cell_type": "markdown",
   "metadata": {},
   "source": [
    "### Predicting the value on unknown test data"
   ]
  },
  {
   "cell_type": "code",
   "execution_count": 15,
   "metadata": {},
   "outputs": [],
   "source": [
    "predict = regressor.predict(X_flow_test)"
   ]
  },
  {
   "cell_type": "markdown",
   "metadata": {},
   "source": [
    "### Plot for the tree regression model"
   ]
  },
  {
   "cell_type": "code",
   "execution_count": 16,
   "metadata": {},
   "outputs": [
    {
     "data": {
      "image/png": "[encoded data removed]",
      "text/plain": [
       "<Figure size 720x576 with 1 Axes>"
      ]
     },
     "metadata": {},
     "output_type": "display_data"
    }
   ],
   "source": [
    "plt.figure(figsize=(10, 8))\n",
    "plt.scatter(X_flow_training, Y_flow_training, s=3,\n",
    "            c=\"orange\", label=\"data\")\n",
    "plt.plot(X_flow_test[0:24], predict[:24], color=\"cornflowerblue\",\n",
    "         label=\"prediction\", linewidth=2)\n",
    "plt.plot(X_flow_test[0:24], Y_flow_test[:24], color=\"purple\",\n",
    "         label=\"actual data\", linewidth=2)\n",
    "plt.xlabel(\"data\")\n",
    "plt.ylabel(\"target\")\n",
    "plt.title(\"Decision Tree Regression\")\n",
    "plt.legend()\n",
    "plt.show()"
   ]
  },
  {
   "cell_type": "markdown",
   "metadata": {},
   "source": [
    "### Implementing metrics (mean absolute percentage error)"
   ]
  },
  {
   "cell_type": "code",
   "execution_count": 17,
   "metadata": {},
   "outputs": [],
   "source": [
    "def mean_absolute_percentage_error(y_true, y_pred):\n",
    "    y_true, y_pred = np.array(y_true), np.array(y_pred)\n",
    "    return np.mean(np.abs((y_true - y_pred) / y_true)) * 100"
   ]
  },
  {
   "cell_type": "markdown",
   "metadata": {},
   "source": [
    "### MAPE for tree regression (one feature)"
   ]
  },
  {
   "cell_type": "code",
   "execution_count": 18,
   "metadata": {},
   "outputs": [
    {
     "data": {
      "text/plain": [
       "29.424808431473252"
      ]
     },
     "execution_count": 18,
     "metadata": {},
     "output_type": "execute_result"
    }
   ],
   "source": [
    "mape_one = mean_absolute_percentage_error(Y_flow_test, predict)\n",
    "mape_one"
   ]
  },
  {
   "cell_type": "markdown",
   "metadata": {},
   "source": [
    "## Decision tree regression on data from 2013-2018 two features\n",
    "Model based on two features which are historical value of a given hour and previous hour"
   ]
  },
  {
   "cell_type": "code",
   "execution_count": 19,
   "metadata": {},
   "outputs": [],
   "source": [
    "flow_m2 = pd.read_csv('../dataset/flow2013.csv', parse_dates={'hour':['time']},index_col='hour')\n",
    "dayfirst=True\n",
    "flow_m2 = flow_m2.resample('60T').mean()"
   ]
  },
  {
   "cell_type": "code",
   "execution_count": 20,
   "metadata": {},
   "outputs": [],
   "source": [
    "flow_m2 = flow_m2.reset_index()"
   ]
  },
  {
   "cell_type": "code",
   "execution_count": 21,
   "metadata": {},
   "outputs": [
    {
     "data": {
      "text/html": [
       "<div>\n",
       "<style scoped>\n",
       "    .dataframe tbody tr th:only-of-type {\n",
       "        vertical-align: middle;\n",
       "    }\n",
       "\n",
       "    .dataframe tbody tr th {\n",
       "        vertical-align: top;\n",
       "    }\n",
       "\n",
       "    .dataframe thead th {\n",
       "        text-align: right;\n",
       "    }\n",
       "</style>\n",
       "<table border=\"1\" class=\"dataframe\">\n",
       "  <thead>\n",
       "    <tr style=\"text-align: right;\">\n",
       "      <th></th>\n",
       "      <th>hour</th>\n",
       "      <th>flow</th>\n",
       "      <th>time</th>\n",
       "    </tr>\n",
       "  </thead>\n",
       "  <tbody>\n",
       "    <tr>\n",
       "      <th>0</th>\n",
       "      <td>2013-09-09 10:00:00</td>\n",
       "      <td>2.800500</td>\n",
       "      <td>2013-09-09 10:00:00</td>\n",
       "    </tr>\n",
       "    <tr>\n",
       "      <th>1</th>\n",
       "      <td>2013-09-09 11:00:00</td>\n",
       "      <td>38.436750</td>\n",
       "      <td>2013-09-09 11:00:00</td>\n",
       "    </tr>\n",
       "    <tr>\n",
       "      <th>2</th>\n",
       "      <td>2013-09-09 12:00:00</td>\n",
       "      <td>39.892500</td>\n",
       "      <td>2013-09-09 12:00:00</td>\n",
       "    </tr>\n",
       "    <tr>\n",
       "      <th>3</th>\n",
       "      <td>2013-09-09 13:00:00</td>\n",
       "      <td>20.223334</td>\n",
       "      <td>2013-09-09 13:00:00</td>\n",
       "    </tr>\n",
       "    <tr>\n",
       "      <th>4</th>\n",
       "      <td>2013-09-09 14:00:00</td>\n",
       "      <td>18.574167</td>\n",
       "      <td>2013-09-09 14:00:00</td>\n",
       "    </tr>\n",
       "  </tbody>\n",
       "</table>\n",
       "</div>"
      ],
      "text/plain": [
       "                 hour       flow                time\n",
       "0 2013-09-09 10:00:00   2.800500 2013-09-09 10:00:00\n",
       "1 2013-09-09 11:00:00  38.436750 2013-09-09 11:00:00\n",
       "2 2013-09-09 12:00:00  39.892500 2013-09-09 12:00:00\n",
       "3 2013-09-09 13:00:00  20.223334 2013-09-09 13:00:00\n",
       "4 2013-09-09 14:00:00  18.574167 2013-09-09 14:00:00"
      ]
     },
     "execution_count": 21,
     "metadata": {},
     "output_type": "execute_result"
    }
   ],
   "source": [
    "flow_m2['time'] = flow_m2['hour']\n",
    "flow_m2.head()"
   ]
  },
  {
   "cell_type": "code",
   "execution_count": 22,
   "metadata": {},
   "outputs": [],
   "source": [
    "flow_m2['hour'] = (flow_m2['hour'].dt.hour)"
   ]
  },
  {
   "cell_type": "code",
   "execution_count": 23,
   "metadata": {},
   "outputs": [
    {
     "data": {
      "text/html": [
       "<div>\n",
       "<style scoped>\n",
       "    .dataframe tbody tr th:only-of-type {\n",
       "        vertical-align: middle;\n",
       "    }\n",
       "\n",
       "    .dataframe tbody tr th {\n",
       "        vertical-align: top;\n",
       "    }\n",
       "\n",
       "    .dataframe thead th {\n",
       "        text-align: right;\n",
       "    }\n",
       "</style>\n",
       "<table border=\"1\" class=\"dataframe\">\n",
       "  <thead>\n",
       "    <tr style=\"text-align: right;\">\n",
       "      <th></th>\n",
       "      <th>hour</th>\n",
       "      <th>flow</th>\n",
       "      <th>time</th>\n",
       "    </tr>\n",
       "  </thead>\n",
       "  <tbody>\n",
       "    <tr>\n",
       "      <th>0</th>\n",
       "      <td>10</td>\n",
       "      <td>2.800500</td>\n",
       "      <td>2013-09-09 10:00:00</td>\n",
       "    </tr>\n",
       "    <tr>\n",
       "      <th>1</th>\n",
       "      <td>11</td>\n",
       "      <td>38.436750</td>\n",
       "      <td>2013-09-09 11:00:00</td>\n",
       "    </tr>\n",
       "    <tr>\n",
       "      <th>2</th>\n",
       "      <td>12</td>\n",
       "      <td>39.892500</td>\n",
       "      <td>2013-09-09 12:00:00</td>\n",
       "    </tr>\n",
       "    <tr>\n",
       "      <th>3</th>\n",
       "      <td>13</td>\n",
       "      <td>20.223334</td>\n",
       "      <td>2013-09-09 13:00:00</td>\n",
       "    </tr>\n",
       "    <tr>\n",
       "      <th>4</th>\n",
       "      <td>14</td>\n",
       "      <td>18.574167</td>\n",
       "      <td>2013-09-09 14:00:00</td>\n",
       "    </tr>\n",
       "  </tbody>\n",
       "</table>\n",
       "</div>"
      ],
      "text/plain": [
       "   hour       flow                time\n",
       "0    10   2.800500 2013-09-09 10:00:00\n",
       "1    11  38.436750 2013-09-09 11:00:00\n",
       "2    12  39.892500 2013-09-09 12:00:00\n",
       "3    13  20.223334 2013-09-09 13:00:00\n",
       "4    14  18.574167 2013-09-09 14:00:00"
      ]
     },
     "execution_count": 23,
     "metadata": {},
     "output_type": "execute_result"
    }
   ],
   "source": [
    "flow_m2.head()"
   ]
  },
  {
   "cell_type": "markdown",
   "metadata": {},
   "source": [
    "### Adding the column with the value of previous hour"
   ]
  },
  {
   "cell_type": "code",
   "execution_count": 24,
   "metadata": {},
   "outputs": [],
   "source": [
    "flow_m2['previous-hour'] = flow_m2['flow'].shift(1)"
   ]
  },
  {
   "cell_type": "code",
   "execution_count": 25,
   "metadata": {},
   "outputs": [
    {
     "data": {
      "text/html": [
       "<div>\n",
       "<style scoped>\n",
       "    .dataframe tbody tr th:only-of-type {\n",
       "        vertical-align: middle;\n",
       "    }\n",
       "\n",
       "    .dataframe tbody tr th {\n",
       "        vertical-align: top;\n",
       "    }\n",
       "\n",
       "    .dataframe thead th {\n",
       "        text-align: right;\n",
       "    }\n",
       "</style>\n",
       "<table border=\"1\" class=\"dataframe\">\n",
       "  <thead>\n",
       "    <tr style=\"text-align: right;\">\n",
       "      <th></th>\n",
       "      <th>hour</th>\n",
       "      <th>flow</th>\n",
       "      <th>time</th>\n",
       "      <th>previous-hour</th>\n",
       "    </tr>\n",
       "  </thead>\n",
       "  <tbody>\n",
       "    <tr>\n",
       "      <th>0</th>\n",
       "      <td>10</td>\n",
       "      <td>2.800500</td>\n",
       "      <td>2013-09-09 10:00:00</td>\n",
       "      <td>NaN</td>\n",
       "    </tr>\n",
       "    <tr>\n",
       "      <th>1</th>\n",
       "      <td>11</td>\n",
       "      <td>38.436750</td>\n",
       "      <td>2013-09-09 11:00:00</td>\n",
       "      <td>2.800500</td>\n",
       "    </tr>\n",
       "    <tr>\n",
       "      <th>2</th>\n",
       "      <td>12</td>\n",
       "      <td>39.892500</td>\n",
       "      <td>2013-09-09 12:00:00</td>\n",
       "      <td>38.436750</td>\n",
       "    </tr>\n",
       "    <tr>\n",
       "      <th>3</th>\n",
       "      <td>13</td>\n",
       "      <td>20.223334</td>\n",
       "      <td>2013-09-09 13:00:00</td>\n",
       "      <td>39.892500</td>\n",
       "    </tr>\n",
       "    <tr>\n",
       "      <th>4</th>\n",
       "      <td>14</td>\n",
       "      <td>18.574167</td>\n",
       "      <td>2013-09-09 14:00:00</td>\n",
       "      <td>20.223334</td>\n",
       "    </tr>\n",
       "  </tbody>\n",
       "</table>\n",
       "</div>"
      ],
      "text/plain": [
       "   hour       flow                time  previous-hour\n",
       "0    10   2.800500 2013-09-09 10:00:00            NaN\n",
       "1    11  38.436750 2013-09-09 11:00:00       2.800500\n",
       "2    12  39.892500 2013-09-09 12:00:00      38.436750\n",
       "3    13  20.223334 2013-09-09 13:00:00      39.892500\n",
       "4    14  18.574167 2013-09-09 14:00:00      20.223334"
      ]
     },
     "execution_count": 25,
     "metadata": {},
     "output_type": "execute_result"
    }
   ],
   "source": [
    "flow_m2.head()"
   ]
  },
  {
   "cell_type": "markdown",
   "metadata": {},
   "source": [
    "### Splitting the data set into train and test sets"
   ]
  },
  {
   "cell_type": "code",
   "execution_count": 26,
   "metadata": {},
   "outputs": [],
   "source": [
    "split_date = pd.datetime(2017,12,31,23,59)\n",
    "\n",
    "flow_training2 = flow_m2.loc[flow_m2['time'] <= split_date]\n",
    "flow_test2 = flow_m2.loc[flow_m2['time'] > split_date]\n",
    "\n",
    "flow_training2 = flow_training2.dropna()\n",
    "flow_test2 = flow_test2.dropna()"
   ]
  },
  {
   "cell_type": "code",
   "execution_count": 27,
   "metadata": {},
   "outputs": [
    {
     "data": {
      "text/html": [
       "<div>\n",
       "<style scoped>\n",
       "    .dataframe tbody tr th:only-of-type {\n",
       "        vertical-align: middle;\n",
       "    }\n",
       "\n",
       "    .dataframe tbody tr th {\n",
       "        vertical-align: top;\n",
       "    }\n",
       "\n",
       "    .dataframe thead th {\n",
       "        text-align: right;\n",
       "    }\n",
       "</style>\n",
       "<table border=\"1\" class=\"dataframe\">\n",
       "  <thead>\n",
       "    <tr style=\"text-align: right;\">\n",
       "      <th></th>\n",
       "      <th>hour</th>\n",
       "      <th>flow</th>\n",
       "      <th>time</th>\n",
       "      <th>previous-hour</th>\n",
       "    </tr>\n",
       "  </thead>\n",
       "  <tbody>\n",
       "    <tr>\n",
       "      <th>1</th>\n",
       "      <td>11</td>\n",
       "      <td>38.436750</td>\n",
       "      <td>2013-09-09 11:00:00</td>\n",
       "      <td>2.800500</td>\n",
       "    </tr>\n",
       "    <tr>\n",
       "      <th>2</th>\n",
       "      <td>12</td>\n",
       "      <td>39.892500</td>\n",
       "      <td>2013-09-09 12:00:00</td>\n",
       "      <td>38.436750</td>\n",
       "    </tr>\n",
       "    <tr>\n",
       "      <th>3</th>\n",
       "      <td>13</td>\n",
       "      <td>20.223334</td>\n",
       "      <td>2013-09-09 13:00:00</td>\n",
       "      <td>39.892500</td>\n",
       "    </tr>\n",
       "    <tr>\n",
       "      <th>4</th>\n",
       "      <td>14</td>\n",
       "      <td>18.574167</td>\n",
       "      <td>2013-09-09 14:00:00</td>\n",
       "      <td>20.223334</td>\n",
       "    </tr>\n",
       "    <tr>\n",
       "      <th>5</th>\n",
       "      <td>15</td>\n",
       "      <td>21.835833</td>\n",
       "      <td>2013-09-09 15:00:00</td>\n",
       "      <td>18.574167</td>\n",
       "    </tr>\n",
       "  </tbody>\n",
       "</table>\n",
       "</div>"
      ],
      "text/plain": [
       "   hour       flow                time  previous-hour\n",
       "1    11  38.436750 2013-09-09 11:00:00       2.800500\n",
       "2    12  39.892500 2013-09-09 12:00:00      38.436750\n",
       "3    13  20.223334 2013-09-09 13:00:00      39.892500\n",
       "4    14  18.574167 2013-09-09 14:00:00      20.223334\n",
       "5    15  21.835833 2013-09-09 15:00:00      18.574167"
      ]
     },
     "execution_count": 27,
     "metadata": {},
     "output_type": "execute_result"
    }
   ],
   "source": [
    "flow_training2.head()"
   ]
  },
  {
   "cell_type": "code",
   "execution_count": 28,
   "metadata": {},
   "outputs": [
    {
     "data": {
      "text/html": [
       "<div>\n",
       "<style scoped>\n",
       "    .dataframe tbody tr th:only-of-type {\n",
       "        vertical-align: middle;\n",
       "    }\n",
       "\n",
       "    .dataframe tbody tr th {\n",
       "        vertical-align: top;\n",
       "    }\n",
       "\n",
       "    .dataframe thead th {\n",
       "        text-align: right;\n",
       "    }\n",
       "</style>\n",
       "<table border=\"1\" class=\"dataframe\">\n",
       "  <thead>\n",
       "    <tr style=\"text-align: right;\">\n",
       "      <th></th>\n",
       "      <th>hour</th>\n",
       "      <th>flow</th>\n",
       "      <th>time</th>\n",
       "      <th>previous-hour</th>\n",
       "    </tr>\n",
       "  </thead>\n",
       "  <tbody>\n",
       "    <tr>\n",
       "      <th>37790</th>\n",
       "      <td>0</td>\n",
       "      <td>65.062181</td>\n",
       "      <td>2018-01-01 00:00:00</td>\n",
       "      <td>75.074355</td>\n",
       "    </tr>\n",
       "    <tr>\n",
       "      <th>37791</th>\n",
       "      <td>1</td>\n",
       "      <td>62.089403</td>\n",
       "      <td>2018-01-01 01:00:00</td>\n",
       "      <td>65.062181</td>\n",
       "    </tr>\n",
       "    <tr>\n",
       "      <th>37792</th>\n",
       "      <td>2</td>\n",
       "      <td>59.599414</td>\n",
       "      <td>2018-01-01 02:00:00</td>\n",
       "      <td>62.089403</td>\n",
       "    </tr>\n",
       "    <tr>\n",
       "      <th>37793</th>\n",
       "      <td>3</td>\n",
       "      <td>52.519042</td>\n",
       "      <td>2018-01-01 03:00:00</td>\n",
       "      <td>59.599414</td>\n",
       "    </tr>\n",
       "    <tr>\n",
       "      <th>37794</th>\n",
       "      <td>4</td>\n",
       "      <td>44.307970</td>\n",
       "      <td>2018-01-01 04:00:00</td>\n",
       "      <td>52.519042</td>\n",
       "    </tr>\n",
       "  </tbody>\n",
       "</table>\n",
       "</div>"
      ],
      "text/plain": [
       "       hour       flow                time  previous-hour\n",
       "37790     0  65.062181 2018-01-01 00:00:00      75.074355\n",
       "37791     1  62.089403 2018-01-01 01:00:00      65.062181\n",
       "37792     2  59.599414 2018-01-01 02:00:00      62.089403\n",
       "37793     3  52.519042 2018-01-01 03:00:00      59.599414\n",
       "37794     4  44.307970 2018-01-01 04:00:00      52.519042"
      ]
     },
     "execution_count": 28,
     "metadata": {},
     "output_type": "execute_result"
    }
   ],
   "source": [
    "flow_test2.head()"
   ]
  },
  {
   "cell_type": "code",
   "execution_count": 29,
   "metadata": {},
   "outputs": [],
   "source": [
    "X_flow_training2 = flow_training2[['hour','previous-hour']]"
   ]
  },
  {
   "cell_type": "code",
   "execution_count": 30,
   "metadata": {},
   "outputs": [],
   "source": [
    "X_flow_test2 = flow_test2[['hour','previous-hour']]"
   ]
  },
  {
   "cell_type": "code",
   "execution_count": 31,
   "metadata": {},
   "outputs": [],
   "source": [
    "Y_flow_training2 = flow_training2['flow'].values.reshape(-1,1)"
   ]
  },
  {
   "cell_type": "code",
   "execution_count": 32,
   "metadata": {},
   "outputs": [],
   "source": [
    "Y_flow_test2 = flow_test2['flow'].values.reshape(-1,1)"
   ]
  },
  {
   "cell_type": "code",
   "execution_count": 33,
   "metadata": {},
   "outputs": [
    {
     "data": {
      "text/plain": [
       "DecisionTreeRegressor(criterion='mse', max_depth=None, max_features=None,\n",
       "           max_leaf_nodes=None, min_impurity_decrease=0.0,\n",
       "           min_impurity_split=None, min_samples_leaf=1,\n",
       "           min_samples_split=2, min_weight_fraction_leaf=0.0,\n",
       "           presort=False, random_state=None, splitter='best')"
      ]
     },
     "execution_count": 33,
     "metadata": {},
     "output_type": "execute_result"
    }
   ],
   "source": [
    "regressor2 = DecisionTreeRegressor()\n",
    "regressor2.fit(X_flow_training2, Y_flow_training2)"
   ]
  },
  {
   "cell_type": "markdown",
   "metadata": {},
   "source": [
    "### Creating a multiple regression model with decision tree"
   ]
  },
  {
   "cell_type": "code",
   "execution_count": 34,
   "metadata": {},
   "outputs": [],
   "source": [
    "predict2 = regressor2.predict(X_flow_test2)"
   ]
  },
  {
   "cell_type": "markdown",
   "metadata": {},
   "source": [
    "### Plot for the model showing only hour feature"
   ]
  },
  {
   "cell_type": "code",
   "execution_count": 35,
   "metadata": {},
   "outputs": [
    {
     "data": {
      "image/png": "[encoded data removed]",
      "text/plain": [
       "<Figure size 720x576 with 1 Axes>"
      ]
     },
     "metadata": {},
     "output_type": "display_data"
    }
   ],
   "source": [
    "plt.figure(figsize=(10, 8))\n",
    "plt.scatter(X_flow_training2['hour'], Y_flow_training2, s=3, \n",
    "            c=\"cornflowerblue\", label=\"data\")\n",
    "plt.plot(X_flow_test2['hour'][:24], predict2[:24], color=\"orange\",\n",
    "         marker=\"o\",label=\"prediction\", linewidth=2)\n",
    "plt.plot(X_flow_test2['hour'][:24],Y_flow_test2[:24], c='purple',marker=\"o\", label=\"actual value\",linewidth=2)\n",
    "plt.xlabel(\"data\")\n",
    "plt.ylabel(\"target\")\n",
    "plt.title(\"Decision Tree Regression\")\n",
    "plt.legend()\n",
    "plt.show()"
   ]
  },
  {
   "cell_type": "markdown",
   "metadata": {},
   "source": [
    "### MAPE for tree regression (two features)"
   ]
  },
  {
   "cell_type": "code",
   "execution_count": 36,
   "metadata": {},
   "outputs": [
    {
     "data": {
      "text/plain": [
       "30.098283633250432"
      ]
     },
     "execution_count": 36,
     "metadata": {},
     "output_type": "execute_result"
    }
   ],
   "source": [
    "mape_two = mean_absolute_percentage_error(Y_flow_test2, predict2)\n",
    "mape_two"
   ]
  },
  {
   "cell_type": "markdown",
   "metadata": {},
   "source": [
    "# Comparison with neural network"
   ]
  },
  {
   "cell_type": "markdown",
   "metadata": {},
   "source": [
    "### Creating a model\n",
    "MLPRegressor() from sklearn.neural_network\n"
   ]
  },
  {
   "cell_type": "code",
   "execution_count": 41,
   "metadata": {},
   "outputs": [
    {
     "data": {
      "image/png": "[encoded data removed]",
      "text/plain": [
       "<Figure size 720x576 with 1 Axes>"
      ]
     },
     "metadata": {},
     "output_type": "display_data"
    }
   ],
   "source": [
    "X = X_flow_training2[['hour','previous-hour']]\n",
    "y = Y_flow_training2\n",
    "test_x = X_flow_test2[['hour','previous-hour']]\n",
    "test_y = Y_flow_test2\n",
    "    \n",
    "nn = MLPRegressor()\n",
    "n = nn.fit(X, y.ravel())\n",
    "predict_y = nn.predict(test_x)\n",
    "    \n",
    "fig = plt.figure(figsize=(10, 8))\n",
    "ax1 = fig.add_subplot(111)\n",
    "\n",
    "plt.xlabel(\"hour\")\n",
    "plt.ylabel(\"flow value\")\n",
    "\n",
    "ax1.scatter(X['hour'], y, s=3, color=\"cornflowerblue\", marker=\"s\", label='historical')\n",
    "plt.plot(test_x['hour'][:24],predict_y[:24], color='orange', marker=\"o\", label=\"prediction\",linewidth=2)\n",
    "plt.plot(test_x['hour'][:24],test_y[:24], c='purple', marker=\"o\", label=\"actual value\",linewidth=2)\n",
    "plt.legend()\n",
    "plt.show()"
   ]
  },
  {
   "cell_type": "markdown",
   "metadata": {},
   "source": [
    "### MAPE for neural network"
   ]
  },
  {
   "cell_type": "code",
   "execution_count": 42,
   "metadata": {},
   "outputs": [
    {
     "data": {
      "text/plain": [
       "30.284636169948225"
      ]
     },
     "execution_count": 42,
     "metadata": {},
     "output_type": "execute_result"
    }
   ],
   "source": [
    "mape_neural = mean_absolute_percentage_error(test_y, predict_y)\n",
    "mape_neural"
   ]
  }
 ],
 "metadata": {
  "kernelspec": {
   "display_name": "Python 3",
   "language": "python",
   "name": "python3"
  },
  "language_info": {
   "codemirror_mode": {
    "name": "ipython",
    "version": 3
   },
   "file_extension": ".py",
   "mimetype": "text/x-python",
   "name": "python",
   "nbconvert_exporter": "python",
   "pygments_lexer": "ipython3",
   "version": "3.6.5"
  }
 },
 "nbformat": 4,
 "nbformat_minor": 2
}
