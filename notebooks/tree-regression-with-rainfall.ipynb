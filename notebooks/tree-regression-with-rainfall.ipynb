{
 "cells": [
  {
   "cell_type": "markdown",
   "metadata": {},
   "source": [
    "# Prediction of the flow"
   ]
  },
  {
   "cell_type": "markdown",
   "metadata": {},
   "source": [
    "### Decision tree regression with the rainfall feature\n",
    "Model trained on the historical values of the flow, the value of the recent rainfall and/or value from previous hour"
   ]
  },
  {
   "cell_type": "markdown",
   "metadata": {},
   "source": [
    "### Importing necessary libraries"
   ]
  },
  {
   "cell_type": "code",
   "execution_count": 57,
   "metadata": {},
   "outputs": [],
   "source": [
    "import pandas as pd\n",
    "from sklearn import linear_model\n",
    "from sklearn.model_selection import train_test_split\n",
    "from matplotlib import pyplot as plt\n",
    "from sklearn.tree import DecisionTreeRegressor\n",
    "import datetime as dt\n",
    "import numpy as np\n",
    "from sklearn.neural_network import MLPRegressor\n",
    "from sklearn.metrics import mean_absolute_error\n",
    "from sklearn.metrics import mean_squared_error\n",
    "from math import sqrt\n",
    "from sklearn.preprocessing import StandardScaler\n",
    "from sklearn.decomposition import PCA"
   ]
  },
  {
   "cell_type": "markdown",
   "metadata": {},
   "source": [
    "### Loading the data sets"
   ]
  },
  {
   "cell_type": "markdown",
   "metadata": {},
   "source": [
    "#### Rainfall data set"
   ]
  },
  {
   "cell_type": "code",
   "execution_count": 2,
   "metadata": {},
   "outputs": [
    {
     "data": {
      "text/html": [
       "<div>\n",
       "<style scoped>\n",
       "    .dataframe tbody tr th:only-of-type {\n",
       "        vertical-align: middle;\n",
       "    }\n",
       "\n",
       "    .dataframe tbody tr th {\n",
       "        vertical-align: top;\n",
       "    }\n",
       "\n",
       "    .dataframe thead th {\n",
       "        text-align: right;\n",
       "    }\n",
       "</style>\n",
       "<table border=\"1\" class=\"dataframe\">\n",
       "  <thead>\n",
       "    <tr style=\"text-align: right;\">\n",
       "      <th></th>\n",
       "      <th>time</th>\n",
       "      <th>rainfall</th>\n",
       "    </tr>\n",
       "  </thead>\n",
       "  <tbody>\n",
       "    <tr>\n",
       "      <th>0</th>\n",
       "      <td>2014-10-24 00:00:00</td>\n",
       "      <td>0.0</td>\n",
       "    </tr>\n",
       "    <tr>\n",
       "      <th>1</th>\n",
       "      <td>2014-10-24 00:05:00</td>\n",
       "      <td>0.0</td>\n",
       "    </tr>\n",
       "    <tr>\n",
       "      <th>2</th>\n",
       "      <td>2014-10-24 00:10:00</td>\n",
       "      <td>0.0</td>\n",
       "    </tr>\n",
       "    <tr>\n",
       "      <th>3</th>\n",
       "      <td>2014-10-24 00:15:00</td>\n",
       "      <td>0.0</td>\n",
       "    </tr>\n",
       "    <tr>\n",
       "      <th>4</th>\n",
       "      <td>2014-10-24 00:20:00</td>\n",
       "      <td>0.0</td>\n",
       "    </tr>\n",
       "  </tbody>\n",
       "</table>\n",
       "</div>"
      ],
      "text/plain": [
       "                 time  rainfall\n",
       "0 2014-10-24 00:00:00       0.0\n",
       "1 2014-10-24 00:05:00       0.0\n",
       "2 2014-10-24 00:10:00       0.0\n",
       "3 2014-10-24 00:15:00       0.0\n",
       "4 2014-10-24 00:20:00       0.0"
      ]
     },
     "execution_count": 2,
     "metadata": {},
     "output_type": "execute_result"
    }
   ],
   "source": [
    "rainfall_set = pd.read_csv('../dataset/rainfall1.csv', parse_dates=['time'])\n",
    "rainfall_set.head()"
   ]
  },
  {
   "cell_type": "code",
   "execution_count": 3,
   "metadata": {},
   "outputs": [
    {
     "data": {
      "text/html": [
       "<div>\n",
       "<style scoped>\n",
       "    .dataframe tbody tr th:only-of-type {\n",
       "        vertical-align: middle;\n",
       "    }\n",
       "\n",
       "    .dataframe tbody tr th {\n",
       "        vertical-align: top;\n",
       "    }\n",
       "\n",
       "    .dataframe thead th {\n",
       "        text-align: right;\n",
       "    }\n",
       "</style>\n",
       "<table border=\"1\" class=\"dataframe\">\n",
       "  <thead>\n",
       "    <tr style=\"text-align: right;\">\n",
       "      <th></th>\n",
       "      <th>time</th>\n",
       "      <th>rainfall</th>\n",
       "    </tr>\n",
       "  </thead>\n",
       "  <tbody>\n",
       "    <tr>\n",
       "      <th>360143</th>\n",
       "      <td>2018-04-13 10:05:00</td>\n",
       "      <td>0.0</td>\n",
       "    </tr>\n",
       "    <tr>\n",
       "      <th>360144</th>\n",
       "      <td>2018-04-13 10:10:00</td>\n",
       "      <td>0.0</td>\n",
       "    </tr>\n",
       "    <tr>\n",
       "      <th>360145</th>\n",
       "      <td>2018-04-13 10:15:00</td>\n",
       "      <td>0.0</td>\n",
       "    </tr>\n",
       "    <tr>\n",
       "      <th>360146</th>\n",
       "      <td>2018-04-13 10:20:00</td>\n",
       "      <td>0.0</td>\n",
       "    </tr>\n",
       "    <tr>\n",
       "      <th>360147</th>\n",
       "      <td>2018-04-13 10:25:00</td>\n",
       "      <td>0.0</td>\n",
       "    </tr>\n",
       "  </tbody>\n",
       "</table>\n",
       "</div>"
      ],
      "text/plain": [
       "                      time  rainfall\n",
       "360143 2018-04-13 10:05:00       0.0\n",
       "360144 2018-04-13 10:10:00       0.0\n",
       "360145 2018-04-13 10:15:00       0.0\n",
       "360146 2018-04-13 10:20:00       0.0\n",
       "360147 2018-04-13 10:25:00       0.0"
      ]
     },
     "execution_count": 3,
     "metadata": {},
     "output_type": "execute_result"
    }
   ],
   "source": [
    "rainfall_set.tail()"
   ]
  },
  {
   "cell_type": "markdown",
   "metadata": {},
   "source": [
    "#### Flow data set"
   ]
  },
  {
   "cell_type": "code",
   "execution_count": 4,
   "metadata": {},
   "outputs": [],
   "source": [
    "flow_set = pd.read_csv('../dataset/flow1.csv', parse_dates={'hour':['time']},index_col='hour')\n",
    "dayfirst=True\n",
    "flow_set = flow_set.resample('60T').mean()"
   ]
  },
  {
   "cell_type": "code",
   "execution_count": 5,
   "metadata": {},
   "outputs": [],
   "source": [
    "flow_set = flow_set.reset_index()"
   ]
  },
  {
   "cell_type": "code",
   "execution_count": 6,
   "metadata": {},
   "outputs": [],
   "source": [
    "flow_set['time'] = flow_set['hour']"
   ]
  },
  {
   "cell_type": "code",
   "execution_count": 7,
   "metadata": {},
   "outputs": [
    {
     "data": {
      "text/html": [
       "<div>\n",
       "<style scoped>\n",
       "    .dataframe tbody tr th:only-of-type {\n",
       "        vertical-align: middle;\n",
       "    }\n",
       "\n",
       "    .dataframe tbody tr th {\n",
       "        vertical-align: top;\n",
       "    }\n",
       "\n",
       "    .dataframe thead th {\n",
       "        text-align: right;\n",
       "    }\n",
       "</style>\n",
       "<table border=\"1\" class=\"dataframe\">\n",
       "  <thead>\n",
       "    <tr style=\"text-align: right;\">\n",
       "      <th></th>\n",
       "      <th>hour</th>\n",
       "      <th>flow</th>\n",
       "      <th>time</th>\n",
       "    </tr>\n",
       "  </thead>\n",
       "  <tbody>\n",
       "    <tr>\n",
       "      <th>0</th>\n",
       "      <td>2015-06-01 14:00:00</td>\n",
       "      <td>113.754443</td>\n",
       "      <td>2015-06-01 14:00:00</td>\n",
       "    </tr>\n",
       "    <tr>\n",
       "      <th>1</th>\n",
       "      <td>2015-06-01 15:00:00</td>\n",
       "      <td>113.013333</td>\n",
       "      <td>2015-06-01 15:00:00</td>\n",
       "    </tr>\n",
       "    <tr>\n",
       "      <th>2</th>\n",
       "      <td>2015-06-01 16:00:00</td>\n",
       "      <td>114.081666</td>\n",
       "      <td>2015-06-01 16:00:00</td>\n",
       "    </tr>\n",
       "    <tr>\n",
       "      <th>3</th>\n",
       "      <td>2015-06-01 17:00:00</td>\n",
       "      <td>116.459167</td>\n",
       "      <td>2015-06-01 17:00:00</td>\n",
       "    </tr>\n",
       "    <tr>\n",
       "      <th>4</th>\n",
       "      <td>2015-06-01 18:00:00</td>\n",
       "      <td>123.825000</td>\n",
       "      <td>2015-06-01 18:00:00</td>\n",
       "    </tr>\n",
       "  </tbody>\n",
       "</table>\n",
       "</div>"
      ],
      "text/plain": [
       "                 hour        flow                time\n",
       "0 2015-06-01 14:00:00  113.754443 2015-06-01 14:00:00\n",
       "1 2015-06-01 15:00:00  113.013333 2015-06-01 15:00:00\n",
       "2 2015-06-01 16:00:00  114.081666 2015-06-01 16:00:00\n",
       "3 2015-06-01 17:00:00  116.459167 2015-06-01 17:00:00\n",
       "4 2015-06-01 18:00:00  123.825000 2015-06-01 18:00:00"
      ]
     },
     "execution_count": 7,
     "metadata": {},
     "output_type": "execute_result"
    }
   ],
   "source": [
    "flow_set.head()"
   ]
  },
  {
   "cell_type": "markdown",
   "metadata": {},
   "source": [
    "### Leaving only a full hour as a feature"
   ]
  },
  {
   "cell_type": "code",
   "execution_count": 8,
   "metadata": {},
   "outputs": [],
   "source": [
    "flow_set['hour'] = (flow_set['hour'].dt.hour)"
   ]
  },
  {
   "cell_type": "code",
   "execution_count": 9,
   "metadata": {},
   "outputs": [
    {
     "data": {
      "text/html": [
       "<div>\n",
       "<style scoped>\n",
       "    .dataframe tbody tr th:only-of-type {\n",
       "        vertical-align: middle;\n",
       "    }\n",
       "\n",
       "    .dataframe tbody tr th {\n",
       "        vertical-align: top;\n",
       "    }\n",
       "\n",
       "    .dataframe thead th {\n",
       "        text-align: right;\n",
       "    }\n",
       "</style>\n",
       "<table border=\"1\" class=\"dataframe\">\n",
       "  <thead>\n",
       "    <tr style=\"text-align: right;\">\n",
       "      <th></th>\n",
       "      <th>hour</th>\n",
       "      <th>flow</th>\n",
       "      <th>time</th>\n",
       "    </tr>\n",
       "  </thead>\n",
       "  <tbody>\n",
       "    <tr>\n",
       "      <th>0</th>\n",
       "      <td>14</td>\n",
       "      <td>113.754443</td>\n",
       "      <td>2015-06-01 14:00:00</td>\n",
       "    </tr>\n",
       "    <tr>\n",
       "      <th>1</th>\n",
       "      <td>15</td>\n",
       "      <td>113.013333</td>\n",
       "      <td>2015-06-01 15:00:00</td>\n",
       "    </tr>\n",
       "    <tr>\n",
       "      <th>2</th>\n",
       "      <td>16</td>\n",
       "      <td>114.081666</td>\n",
       "      <td>2015-06-01 16:00:00</td>\n",
       "    </tr>\n",
       "    <tr>\n",
       "      <th>3</th>\n",
       "      <td>17</td>\n",
       "      <td>116.459167</td>\n",
       "      <td>2015-06-01 17:00:00</td>\n",
       "    </tr>\n",
       "    <tr>\n",
       "      <th>4</th>\n",
       "      <td>18</td>\n",
       "      <td>123.825000</td>\n",
       "      <td>2015-06-01 18:00:00</td>\n",
       "    </tr>\n",
       "  </tbody>\n",
       "</table>\n",
       "</div>"
      ],
      "text/plain": [
       "   hour        flow                time\n",
       "0    14  113.754443 2015-06-01 14:00:00\n",
       "1    15  113.013333 2015-06-01 15:00:00\n",
       "2    16  114.081666 2015-06-01 16:00:00\n",
       "3    17  116.459167 2015-06-01 17:00:00\n",
       "4    18  123.825000 2015-06-01 18:00:00"
      ]
     },
     "execution_count": 9,
     "metadata": {},
     "output_type": "execute_result"
    }
   ],
   "source": [
    "flow_set.head()"
   ]
  },
  {
   "cell_type": "markdown",
   "metadata": {},
   "source": [
    "### Merging two data sets into one \n",
    "Merging is based on time column"
   ]
  },
  {
   "cell_type": "code",
   "execution_count": 10,
   "metadata": {},
   "outputs": [],
   "source": [
    "flow_set = pd.merge(flow_set, rainfall_set, how='outer', on='time')"
   ]
  },
  {
   "cell_type": "code",
   "execution_count": 11,
   "metadata": {},
   "outputs": [],
   "source": [
    "flow_set = flow_set.dropna()"
   ]
  },
  {
   "cell_type": "code",
   "execution_count": 12,
   "metadata": {},
   "outputs": [
    {
     "data": {
      "text/html": [
       "<div>\n",
       "<style scoped>\n",
       "    .dataframe tbody tr th:only-of-type {\n",
       "        vertical-align: middle;\n",
       "    }\n",
       "\n",
       "    .dataframe tbody tr th {\n",
       "        vertical-align: top;\n",
       "    }\n",
       "\n",
       "    .dataframe thead th {\n",
       "        text-align: right;\n",
       "    }\n",
       "</style>\n",
       "<table border=\"1\" class=\"dataframe\">\n",
       "  <thead>\n",
       "    <tr style=\"text-align: right;\">\n",
       "      <th></th>\n",
       "      <th>hour</th>\n",
       "      <th>flow</th>\n",
       "      <th>time</th>\n",
       "      <th>rainfall</th>\n",
       "    </tr>\n",
       "  </thead>\n",
       "  <tbody>\n",
       "    <tr>\n",
       "      <th>0</th>\n",
       "      <td>14.0</td>\n",
       "      <td>113.754443</td>\n",
       "      <td>2015-06-01 14:00:00</td>\n",
       "      <td>0.0</td>\n",
       "    </tr>\n",
       "    <tr>\n",
       "      <th>1</th>\n",
       "      <td>15.0</td>\n",
       "      <td>113.013333</td>\n",
       "      <td>2015-06-01 15:00:00</td>\n",
       "      <td>0.0</td>\n",
       "    </tr>\n",
       "    <tr>\n",
       "      <th>2</th>\n",
       "      <td>16.0</td>\n",
       "      <td>114.081666</td>\n",
       "      <td>2015-06-01 16:00:00</td>\n",
       "      <td>0.0</td>\n",
       "    </tr>\n",
       "    <tr>\n",
       "      <th>3</th>\n",
       "      <td>17.0</td>\n",
       "      <td>116.459167</td>\n",
       "      <td>2015-06-01 17:00:00</td>\n",
       "      <td>0.0</td>\n",
       "    </tr>\n",
       "    <tr>\n",
       "      <th>4</th>\n",
       "      <td>18.0</td>\n",
       "      <td>123.825000</td>\n",
       "      <td>2015-06-01 18:00:00</td>\n",
       "      <td>0.0</td>\n",
       "    </tr>\n",
       "  </tbody>\n",
       "</table>\n",
       "</div>"
      ],
      "text/plain": [
       "   hour        flow                time  rainfall\n",
       "0  14.0  113.754443 2015-06-01 14:00:00       0.0\n",
       "1  15.0  113.013333 2015-06-01 15:00:00       0.0\n",
       "2  16.0  114.081666 2015-06-01 16:00:00       0.0\n",
       "3  17.0  116.459167 2015-06-01 17:00:00       0.0\n",
       "4  18.0  123.825000 2015-06-01 18:00:00       0.0"
      ]
     },
     "execution_count": 12,
     "metadata": {},
     "output_type": "execute_result"
    }
   ],
   "source": [
    "flow_set.head()"
   ]
  },
  {
   "cell_type": "markdown",
   "metadata": {},
   "source": [
    "### Adding the feature of previous hour's flow value"
   ]
  },
  {
   "cell_type": "code",
   "execution_count": 13,
   "metadata": {},
   "outputs": [],
   "source": [
    "flow_set['previous-hour'] = flow_set['flow'].shift(1)"
   ]
  },
  {
   "cell_type": "code",
   "execution_count": 14,
   "metadata": {},
   "outputs": [
    {
     "data": {
      "text/html": [
       "<div>\n",
       "<style scoped>\n",
       "    .dataframe tbody tr th:only-of-type {\n",
       "        vertical-align: middle;\n",
       "    }\n",
       "\n",
       "    .dataframe tbody tr th {\n",
       "        vertical-align: top;\n",
       "    }\n",
       "\n",
       "    .dataframe thead th {\n",
       "        text-align: right;\n",
       "    }\n",
       "</style>\n",
       "<table border=\"1\" class=\"dataframe\">\n",
       "  <thead>\n",
       "    <tr style=\"text-align: right;\">\n",
       "      <th></th>\n",
       "      <th>hour</th>\n",
       "      <th>flow</th>\n",
       "      <th>time</th>\n",
       "      <th>rainfall</th>\n",
       "      <th>previous-hour</th>\n",
       "    </tr>\n",
       "  </thead>\n",
       "  <tbody>\n",
       "    <tr>\n",
       "      <th>1</th>\n",
       "      <td>15.0</td>\n",
       "      <td>113.013333</td>\n",
       "      <td>2015-06-01 15:00:00</td>\n",
       "      <td>0.0</td>\n",
       "      <td>113.754443</td>\n",
       "    </tr>\n",
       "    <tr>\n",
       "      <th>2</th>\n",
       "      <td>16.0</td>\n",
       "      <td>114.081666</td>\n",
       "      <td>2015-06-01 16:00:00</td>\n",
       "      <td>0.0</td>\n",
       "      <td>113.013333</td>\n",
       "    </tr>\n",
       "    <tr>\n",
       "      <th>3</th>\n",
       "      <td>17.0</td>\n",
       "      <td>116.459167</td>\n",
       "      <td>2015-06-01 17:00:00</td>\n",
       "      <td>0.0</td>\n",
       "      <td>114.081666</td>\n",
       "    </tr>\n",
       "    <tr>\n",
       "      <th>4</th>\n",
       "      <td>18.0</td>\n",
       "      <td>123.825000</td>\n",
       "      <td>2015-06-01 18:00:00</td>\n",
       "      <td>0.0</td>\n",
       "      <td>116.459167</td>\n",
       "    </tr>\n",
       "    <tr>\n",
       "      <th>5</th>\n",
       "      <td>19.0</td>\n",
       "      <td>128.884998</td>\n",
       "      <td>2015-06-01 19:00:00</td>\n",
       "      <td>0.0</td>\n",
       "      <td>123.825000</td>\n",
       "    </tr>\n",
       "  </tbody>\n",
       "</table>\n",
       "</div>"
      ],
      "text/plain": [
       "   hour        flow                time  rainfall  previous-hour\n",
       "1  15.0  113.013333 2015-06-01 15:00:00       0.0     113.754443\n",
       "2  16.0  114.081666 2015-06-01 16:00:00       0.0     113.013333\n",
       "3  17.0  116.459167 2015-06-01 17:00:00       0.0     114.081666\n",
       "4  18.0  123.825000 2015-06-01 18:00:00       0.0     116.459167\n",
       "5  19.0  128.884998 2015-06-01 19:00:00       0.0     123.825000"
      ]
     },
     "execution_count": 14,
     "metadata": {},
     "output_type": "execute_result"
    }
   ],
   "source": [
    "flow_set = flow_set.dropna()\n",
    "flow_set.head()"
   ]
  },
  {
   "cell_type": "markdown",
   "metadata": {},
   "source": [
    "### General plot of rainfall in time"
   ]
  },
  {
   "cell_type": "code",
   "execution_count": 15,
   "metadata": {},
   "outputs": [
    {
     "data": {
      "image/png": "[encoded data removed]",
      "text/plain": [
       "<Figure size 720x576 with 1 Axes>"
      ]
     },
     "metadata": {},
     "output_type": "display_data"
    }
   ],
   "source": [
    "plt.figure(figsize=(10, 8))\n",
    "plt.plot(flow_set['time'], flow_set['rainfall'], color=\"orange\", label=\"rainfall\")\n",
    "plt.xlabel(\"time\")\n",
    "plt.ylabel(\"value of rainfall\")\n",
    "plt.title(\"Rainfall plot\")\n",
    "plt.legend()\n",
    "plt.show()"
   ]
  },
  {
   "cell_type": "markdown",
   "metadata": {},
   "source": [
    "### Rainfall plot of one month"
   ]
  },
  {
   "cell_type": "code",
   "execution_count": 16,
   "metadata": {},
   "outputs": [
    {
     "data": {
      "image/png": "[encoded data removed]",
      "text/plain": [
       "<Figure size 720x576 with 1 Axes>"
      ]
     },
     "metadata": {},
     "output_type": "display_data"
    }
   ],
   "source": [
    "plt.figure(figsize=(10, 8))\n",
    "\n",
    "\n",
    "dates = [pd.to_datetime(d) for d in flow_set['time']]\n",
    "plt.plot(dates[:720], flow_set['rainfall'][:720], c = 'orange')\n",
    "\n",
    "plt.xlabel(\"time\")\n",
    "plt.ylabel(\"value of rainfall\")\n",
    "plt.title(\"Rainfall plot\")\n",
    "plt.legend()\n",
    "plt.show()"
   ]
  },
  {
   "cell_type": "markdown",
   "metadata": {},
   "source": [
    "# Tree regression on two features\n",
    "The features are the current hour and the rainfall from previous hour"
   ]
  },
  {
   "cell_type": "code",
   "execution_count": 17,
   "metadata": {},
   "outputs": [
    {
     "data": {
      "text/html": [
       "<div>\n",
       "<style scoped>\n",
       "    .dataframe tbody tr th:only-of-type {\n",
       "        vertical-align: middle;\n",
       "    }\n",
       "\n",
       "    .dataframe tbody tr th {\n",
       "        vertical-align: top;\n",
       "    }\n",
       "\n",
       "    .dataframe thead th {\n",
       "        text-align: right;\n",
       "    }\n",
       "</style>\n",
       "<table border=\"1\" class=\"dataframe\">\n",
       "  <thead>\n",
       "    <tr style=\"text-align: right;\">\n",
       "      <th></th>\n",
       "      <th>hour</th>\n",
       "      <th>flow</th>\n",
       "      <th>time</th>\n",
       "      <th>rainfall</th>\n",
       "      <th>previous-hour</th>\n",
       "    </tr>\n",
       "  </thead>\n",
       "  <tbody>\n",
       "    <tr>\n",
       "      <th>1</th>\n",
       "      <td>15.0</td>\n",
       "      <td>113.013333</td>\n",
       "      <td>2015-06-01 15:00:00</td>\n",
       "      <td>0.0</td>\n",
       "      <td>113.754443</td>\n",
       "    </tr>\n",
       "    <tr>\n",
       "      <th>2</th>\n",
       "      <td>16.0</td>\n",
       "      <td>114.081666</td>\n",
       "      <td>2015-06-01 16:00:00</td>\n",
       "      <td>0.0</td>\n",
       "      <td>113.013333</td>\n",
       "    </tr>\n",
       "    <tr>\n",
       "      <th>3</th>\n",
       "      <td>17.0</td>\n",
       "      <td>116.459167</td>\n",
       "      <td>2015-06-01 17:00:00</td>\n",
       "      <td>0.0</td>\n",
       "      <td>114.081666</td>\n",
       "    </tr>\n",
       "    <tr>\n",
       "      <th>4</th>\n",
       "      <td>18.0</td>\n",
       "      <td>123.825000</td>\n",
       "      <td>2015-06-01 18:00:00</td>\n",
       "      <td>0.0</td>\n",
       "      <td>116.459167</td>\n",
       "    </tr>\n",
       "    <tr>\n",
       "      <th>5</th>\n",
       "      <td>19.0</td>\n",
       "      <td>128.884998</td>\n",
       "      <td>2015-06-01 19:00:00</td>\n",
       "      <td>0.0</td>\n",
       "      <td>123.825000</td>\n",
       "    </tr>\n",
       "  </tbody>\n",
       "</table>\n",
       "</div>"
      ],
      "text/plain": [
       "   hour        flow                time  rainfall  previous-hour\n",
       "1  15.0  113.013333 2015-06-01 15:00:00       0.0     113.754443\n",
       "2  16.0  114.081666 2015-06-01 16:00:00       0.0     113.013333\n",
       "3  17.0  116.459167 2015-06-01 17:00:00       0.0     114.081666\n",
       "4  18.0  123.825000 2015-06-01 18:00:00       0.0     116.459167\n",
       "5  19.0  128.884998 2015-06-01 19:00:00       0.0     123.825000"
      ]
     },
     "execution_count": 17,
     "metadata": {},
     "output_type": "execute_result"
    }
   ],
   "source": [
    "flow_set.head()"
   ]
  },
  {
   "cell_type": "markdown",
   "metadata": {},
   "source": [
    "### Adding a column with value of the rainfall from previous hour"
   ]
  },
  {
   "cell_type": "code",
   "execution_count": 18,
   "metadata": {},
   "outputs": [],
   "source": [
    "flow_set['previous-rainfall'] = flow_set['rainfall'].shift(1)"
   ]
  },
  {
   "cell_type": "code",
   "execution_count": 19,
   "metadata": {},
   "outputs": [
    {
     "data": {
      "text/html": [
       "<div>\n",
       "<style scoped>\n",
       "    .dataframe tbody tr th:only-of-type {\n",
       "        vertical-align: middle;\n",
       "    }\n",
       "\n",
       "    .dataframe tbody tr th {\n",
       "        vertical-align: top;\n",
       "    }\n",
       "\n",
       "    .dataframe thead th {\n",
       "        text-align: right;\n",
       "    }\n",
       "</style>\n",
       "<table border=\"1\" class=\"dataframe\">\n",
       "  <thead>\n",
       "    <tr style=\"text-align: right;\">\n",
       "      <th></th>\n",
       "      <th>hour</th>\n",
       "      <th>flow</th>\n",
       "      <th>time</th>\n",
       "      <th>rainfall</th>\n",
       "      <th>previous-hour</th>\n",
       "      <th>previous-rainfall</th>\n",
       "    </tr>\n",
       "  </thead>\n",
       "  <tbody>\n",
       "    <tr>\n",
       "      <th>1</th>\n",
       "      <td>15.0</td>\n",
       "      <td>113.013333</td>\n",
       "      <td>2015-06-01 15:00:00</td>\n",
       "      <td>0.0</td>\n",
       "      <td>113.754443</td>\n",
       "      <td>NaN</td>\n",
       "    </tr>\n",
       "    <tr>\n",
       "      <th>2</th>\n",
       "      <td>16.0</td>\n",
       "      <td>114.081666</td>\n",
       "      <td>2015-06-01 16:00:00</td>\n",
       "      <td>0.0</td>\n",
       "      <td>113.013333</td>\n",
       "      <td>0.0</td>\n",
       "    </tr>\n",
       "    <tr>\n",
       "      <th>3</th>\n",
       "      <td>17.0</td>\n",
       "      <td>116.459167</td>\n",
       "      <td>2015-06-01 17:00:00</td>\n",
       "      <td>0.0</td>\n",
       "      <td>114.081666</td>\n",
       "      <td>0.0</td>\n",
       "    </tr>\n",
       "    <tr>\n",
       "      <th>4</th>\n",
       "      <td>18.0</td>\n",
       "      <td>123.825000</td>\n",
       "      <td>2015-06-01 18:00:00</td>\n",
       "      <td>0.0</td>\n",
       "      <td>116.459167</td>\n",
       "      <td>0.0</td>\n",
       "    </tr>\n",
       "    <tr>\n",
       "      <th>5</th>\n",
       "      <td>19.0</td>\n",
       "      <td>128.884998</td>\n",
       "      <td>2015-06-01 19:00:00</td>\n",
       "      <td>0.0</td>\n",
       "      <td>123.825000</td>\n",
       "      <td>0.0</td>\n",
       "    </tr>\n",
       "  </tbody>\n",
       "</table>\n",
       "</div>"
      ],
      "text/plain": [
       "   hour        flow                time  rainfall  previous-hour  \\\n",
       "1  15.0  113.013333 2015-06-01 15:00:00       0.0     113.754443   \n",
       "2  16.0  114.081666 2015-06-01 16:00:00       0.0     113.013333   \n",
       "3  17.0  116.459167 2015-06-01 17:00:00       0.0     114.081666   \n",
       "4  18.0  123.825000 2015-06-01 18:00:00       0.0     116.459167   \n",
       "5  19.0  128.884998 2015-06-01 19:00:00       0.0     123.825000   \n",
       "\n",
       "   previous-rainfall  \n",
       "1                NaN  \n",
       "2                0.0  \n",
       "3                0.0  \n",
       "4                0.0  \n",
       "5                0.0  "
      ]
     },
     "execution_count": 19,
     "metadata": {},
     "output_type": "execute_result"
    }
   ],
   "source": [
    "flow_set.head()"
   ]
  },
  {
   "cell_type": "code",
   "execution_count": 20,
   "metadata": {},
   "outputs": [
    {
     "data": {
      "text/html": [
       "<div>\n",
       "<style scoped>\n",
       "    .dataframe tbody tr th:only-of-type {\n",
       "        vertical-align: middle;\n",
       "    }\n",
       "\n",
       "    .dataframe tbody tr th {\n",
       "        vertical-align: top;\n",
       "    }\n",
       "\n",
       "    .dataframe thead th {\n",
       "        text-align: right;\n",
       "    }\n",
       "</style>\n",
       "<table border=\"1\" class=\"dataframe\">\n",
       "  <thead>\n",
       "    <tr style=\"text-align: right;\">\n",
       "      <th></th>\n",
       "      <th>hour</th>\n",
       "      <th>flow</th>\n",
       "      <th>time</th>\n",
       "      <th>rainfall</th>\n",
       "      <th>previous-hour</th>\n",
       "      <th>previous-rainfall</th>\n",
       "    </tr>\n",
       "  </thead>\n",
       "  <tbody>\n",
       "    <tr>\n",
       "      <th>21428</th>\n",
       "      <td>10.0</td>\n",
       "      <td>120.655001</td>\n",
       "      <td>2017-11-10 10:00:00</td>\n",
       "      <td>0.0</td>\n",
       "      <td>128.465834</td>\n",
       "      <td>0.0</td>\n",
       "    </tr>\n",
       "    <tr>\n",
       "      <th>21429</th>\n",
       "      <td>11.0</td>\n",
       "      <td>115.167501</td>\n",
       "      <td>2017-11-10 11:00:00</td>\n",
       "      <td>0.0</td>\n",
       "      <td>120.655001</td>\n",
       "      <td>0.0</td>\n",
       "    </tr>\n",
       "    <tr>\n",
       "      <th>21430</th>\n",
       "      <td>12.0</td>\n",
       "      <td>111.554167</td>\n",
       "      <td>2017-11-10 12:00:00</td>\n",
       "      <td>0.0</td>\n",
       "      <td>115.167501</td>\n",
       "      <td>0.0</td>\n",
       "    </tr>\n",
       "    <tr>\n",
       "      <th>21431</th>\n",
       "      <td>13.0</td>\n",
       "      <td>109.408332</td>\n",
       "      <td>2017-11-10 13:00:00</td>\n",
       "      <td>0.0</td>\n",
       "      <td>111.554167</td>\n",
       "      <td>0.0</td>\n",
       "    </tr>\n",
       "    <tr>\n",
       "      <th>21432</th>\n",
       "      <td>14.0</td>\n",
       "      <td>107.245555</td>\n",
       "      <td>2017-11-10 14:00:00</td>\n",
       "      <td>0.0</td>\n",
       "      <td>109.408332</td>\n",
       "      <td>0.0</td>\n",
       "    </tr>\n",
       "  </tbody>\n",
       "</table>\n",
       "</div>"
      ],
      "text/plain": [
       "       hour        flow                time  rainfall  previous-hour  \\\n",
       "21428  10.0  120.655001 2017-11-10 10:00:00       0.0     128.465834   \n",
       "21429  11.0  115.167501 2017-11-10 11:00:00       0.0     120.655001   \n",
       "21430  12.0  111.554167 2017-11-10 12:00:00       0.0     115.167501   \n",
       "21431  13.0  109.408332 2017-11-10 13:00:00       0.0     111.554167   \n",
       "21432  14.0  107.245555 2017-11-10 14:00:00       0.0     109.408332   \n",
       "\n",
       "       previous-rainfall  \n",
       "21428                0.0  \n",
       "21429                0.0  \n",
       "21430                0.0  \n",
       "21431                0.0  \n",
       "21432                0.0  "
      ]
     },
     "execution_count": 20,
     "metadata": {},
     "output_type": "execute_result"
    }
   ],
   "source": [
    "flow_set.tail()"
   ]
  },
  {
   "cell_type": "code",
   "execution_count": 21,
   "metadata": {},
   "outputs": [],
   "source": [
    "flow_set = flow_set.dropna()"
   ]
  },
  {
   "cell_type": "markdown",
   "metadata": {},
   "source": [
    "### Splitting the data set into train and test sets"
   ]
  },
  {
   "cell_type": "code",
   "execution_count": 22,
   "metadata": {},
   "outputs": [],
   "source": [
    "split_date = pd.datetime(2017,1,1,0,0)\n",
    "\n",
    "flow_training = flow_set.loc[flow_set['time'] <= split_date]\n",
    "flow_test = flow_set.loc[flow_set['time'] > split_date]"
   ]
  },
  {
   "cell_type": "code",
   "execution_count": 23,
   "metadata": {},
   "outputs": [],
   "source": [
    "X_flow_training = flow_training[['hour','previous-rainfall']]\n",
    "Y_flow_training = flow_training['flow']\n",
    "X_flow_test = flow_test[['hour','previous-rainfall']]\n",
    "Y_flow_test = flow_test['flow']"
   ]
  },
  {
   "cell_type": "markdown",
   "metadata": {},
   "source": [
    "### Creating a multiple regression model with decision tree"
   ]
  },
  {
   "cell_type": "code",
   "execution_count": 24,
   "metadata": {},
   "outputs": [
    {
     "data": {
      "text/plain": [
       "DecisionTreeRegressor(criterion='mse', max_depth=None, max_features=None,\n",
       "           max_leaf_nodes=None, min_impurity_decrease=0.0,\n",
       "           min_impurity_split=None, min_samples_leaf=1,\n",
       "           min_samples_split=2, min_weight_fraction_leaf=0.0,\n",
       "           presort=False, random_state=None, splitter='best')"
      ]
     },
     "execution_count": 24,
     "metadata": {},
     "output_type": "execute_result"
    }
   ],
   "source": [
    "regressor = DecisionTreeRegressor()\n",
    "regressor.fit(X_flow_training, Y_flow_training)"
   ]
  },
  {
   "cell_type": "code",
   "execution_count": 25,
   "metadata": {},
   "outputs": [],
   "source": [
    "predict = regressor.predict(X_flow_test)"
   ]
  },
  {
   "cell_type": "markdown",
   "metadata": {},
   "source": [
    "### Plot of the fragment of the model showing only the hour"
   ]
  },
  {
   "cell_type": "code",
   "execution_count": 26,
   "metadata": {},
   "outputs": [
    {
     "data": {
      "image/png": "[encoded data removed]",
      "text/plain": [
       "<Figure size 720x576 with 1 Axes>"
      ]
     },
     "metadata": {},
     "output_type": "display_data"
    }
   ],
   "source": [
    "plt.figure(figsize=(10, 8))\n",
    "plt.scatter(X_flow_training['hour'], Y_flow_training, s=3, \n",
    "            c=\"cornflowerblue\", label=\"data\")\n",
    "plt.plot(X_flow_test['hour'][:23], predict[:23], color=\"orange\",\n",
    "         marker=\"o\",label=\"prediction\", linewidth=2)\n",
    "plt.plot(X_flow_test['hour'][:23],Y_flow_test[:23], c='purple',marker=\"o\", label=\"actual value\",linewidth=2)\n",
    "plt.xlabel(\"data\")\n",
    "plt.ylabel(\"target\")\n",
    "plt.title(\"Decision Tree Regression\")\n",
    "plt.legend()\n",
    "plt.show()"
   ]
  },
  {
   "cell_type": "markdown",
   "metadata": {},
   "source": [
    "### Feature_importances_\n",
    "The importance in the model of the feature hour and the feature previous rainfall value"
   ]
  },
  {
   "cell_type": "code",
   "execution_count": 27,
   "metadata": {},
   "outputs": [],
   "source": [
    "importance = regressor.feature_importances_"
   ]
  },
  {
   "cell_type": "code",
   "execution_count": 28,
   "metadata": {},
   "outputs": [
    {
     "data": {
      "text/html": [
       "<div>\n",
       "<style scoped>\n",
       "    .dataframe tbody tr th:only-of-type {\n",
       "        vertical-align: middle;\n",
       "    }\n",
       "\n",
       "    .dataframe tbody tr th {\n",
       "        vertical-align: top;\n",
       "    }\n",
       "\n",
       "    .dataframe thead th {\n",
       "        text-align: right;\n",
       "    }\n",
       "</style>\n",
       "<table border=\"1\" class=\"dataframe\">\n",
       "  <thead>\n",
       "    <tr style=\"text-align: right;\">\n",
       "      <th></th>\n",
       "      <th>importance</th>\n",
       "    </tr>\n",
       "  </thead>\n",
       "  <tbody>\n",
       "    <tr>\n",
       "      <th>0</th>\n",
       "      <td>0.984396</td>\n",
       "    </tr>\n",
       "    <tr>\n",
       "      <th>1</th>\n",
       "      <td>0.015604</td>\n",
       "    </tr>\n",
       "  </tbody>\n",
       "</table>\n",
       "</div>"
      ],
      "text/plain": [
       "   importance\n",
       "0    0.984396\n",
       "1    0.015604"
      ]
     },
     "execution_count": 28,
     "metadata": {},
     "output_type": "execute_result"
    }
   ],
   "source": [
    "feature_importances = pd.DataFrame(regressor.feature_importances_,\n",
    "                                   columns=['importance']).sort_values('importance', ascending=False)\n",
    "feature_importances"
   ]
  },
  {
   "cell_type": "markdown",
   "metadata": {},
   "source": [
    "### Implementing metrics (mean absolute percentage error)"
   ]
  },
  {
   "cell_type": "code",
   "execution_count": 29,
   "metadata": {},
   "outputs": [],
   "source": [
    "def mean_absolute_percentage_error(y_true, y_pred):\n",
    "    y_true, y_pred = np.array(y_true), np.array(y_pred)\n",
    "    return np.mean(np.abs((y_true - y_pred) / y_true)) * 100"
   ]
  },
  {
   "cell_type": "markdown",
   "metadata": {},
   "source": [
    "### MAPE for tree regression with two features"
   ]
  },
  {
   "cell_type": "code",
   "execution_count": 30,
   "metadata": {},
   "outputs": [
    {
     "data": {
      "text/plain": [
       "8.787056729542122"
      ]
     },
     "execution_count": 30,
     "metadata": {},
     "output_type": "execute_result"
    }
   ],
   "source": [
    "mape_tree = mean_absolute_percentage_error(Y_flow_test, predict)\n",
    "mape_tree"
   ]
  },
  {
   "cell_type": "markdown",
   "metadata": {},
   "source": [
    "# Tree regression on three features"
   ]
  },
  {
   "cell_type": "markdown",
   "metadata": {},
   "source": [
    "### Splitting the data set to train and test test"
   ]
  },
  {
   "cell_type": "code",
   "execution_count": 31,
   "metadata": {},
   "outputs": [],
   "source": [
    "split_date = pd.datetime(2017,1,1,0,0)\n",
    "\n",
    "flow_training2 = flow_set.loc[flow_set['time'] <= split_date]\n",
    "flow_test2 = flow_set.loc[flow_set['time'] > split_date]"
   ]
  },
  {
   "cell_type": "code",
   "execution_count": 32,
   "metadata": {},
   "outputs": [],
   "source": [
    "X_flow_training2 = flow_training2[['hour','previous-hour','previous-rainfall']]\n",
    "Y_flow_training2 = flow_training2['flow']\n",
    "X_flow_test2 = flow_test2[['hour','previous-hour','previous-rainfall']]\n",
    "Y_flow_test2 = flow_test2['flow']"
   ]
  },
  {
   "cell_type": "markdown",
   "metadata": {},
   "source": [
    "### Creating a multiple regression model with decision tree"
   ]
  },
  {
   "cell_type": "code",
   "execution_count": 33,
   "metadata": {},
   "outputs": [
    {
     "data": {
      "text/plain": [
       "DecisionTreeRegressor(criterion='mse', max_depth=None, max_features=None,\n",
       "           max_leaf_nodes=None, min_impurity_decrease=0.0,\n",
       "           min_impurity_split=None, min_samples_leaf=1,\n",
       "           min_samples_split=2, min_weight_fraction_leaf=0.0,\n",
       "           presort=False, random_state=None, splitter='best')"
      ]
     },
     "execution_count": 33,
     "metadata": {},
     "output_type": "execute_result"
    }
   ],
   "source": [
    "regressor2 = DecisionTreeRegressor()\n",
    "regressor2.fit(X_flow_training2, Y_flow_training2)"
   ]
  },
  {
   "cell_type": "code",
   "execution_count": 34,
   "metadata": {},
   "outputs": [],
   "source": [
    "predict2 = regressor2.predict(X_flow_test2)"
   ]
  },
  {
   "cell_type": "markdown",
   "metadata": {},
   "source": [
    "### Plot of the fragment of the model showing only the hour"
   ]
  },
  {
   "cell_type": "code",
   "execution_count": 35,
   "metadata": {},
   "outputs": [
    {
     "data": {
      "image/png": "[encoded data removed]",
      "text/plain": [
       "<Figure size 720x576 with 1 Axes>"
      ]
     },
     "metadata": {},
     "output_type": "display_data"
    }
   ],
   "source": [
    "plt.figure(figsize=(10, 8))\n",
    "plt.scatter(X_flow_training2['hour'], Y_flow_training2, s=3, \n",
    "            c=\"cornflowerblue\", label=\"data\")\n",
    "plt.plot(X_flow_test2['hour'][:23], predict2[:23], color=\"orange\",\n",
    "         marker=\"o\",label=\"prediction\", linewidth=2)\n",
    "plt.plot(X_flow_test2['hour'][:23],Y_flow_test2[:23], c='purple',marker=\"o\", label=\"actual value\",linewidth=2)\n",
    "plt.xlabel(\"data\")\n",
    "plt.ylabel(\"target\")\n",
    "plt.title(\"Decision Tree Regression\")\n",
    "plt.legend()\n",
    "plt.show()"
   ]
  },
  {
   "cell_type": "markdown",
   "metadata": {},
   "source": [
    "### MAPE for tree regression for three features"
   ]
  },
  {
   "cell_type": "code",
   "execution_count": 36,
   "metadata": {},
   "outputs": [
    {
     "data": {
      "text/plain": [
       "3.8695849276282455"
      ]
     },
     "execution_count": 36,
     "metadata": {},
     "output_type": "execute_result"
    }
   ],
   "source": [
    "mape_tree2 = mean_absolute_percentage_error(Y_flow_test2, predict2)\n",
    "mape_tree2"
   ]
  },
  {
   "cell_type": "markdown",
   "metadata": {},
   "source": [
    "# Comparison with neural network"
   ]
  },
  {
   "cell_type": "markdown",
   "metadata": {},
   "source": [
    "### Creating a model\n",
    "MLPRegressor() from sklearn.neural_network"
   ]
  },
  {
   "cell_type": "code",
   "execution_count": 37,
   "metadata": {},
   "outputs": [],
   "source": [
    "X = X_flow_training2[['hour','previous-hour','previous-rainfall']]\n",
    "y = Y_flow_training2\n",
    "test_x = X_flow_test2[['hour','previous-hour','previous-rainfall']]\n",
    "test_y = Y_flow_test2\n",
    "    \n",
    "nn = MLPRegressor()\n",
    "n = nn.fit(X, y.ravel())\n",
    "predict_y = nn.predict(test_x)"
   ]
  },
  {
   "cell_type": "markdown",
   "metadata": {},
   "source": [
    "### Plotting the fragment of the results showing only the hour feature"
   ]
  },
  {
   "cell_type": "code",
   "execution_count": 38,
   "metadata": {},
   "outputs": [
    {
     "data": {
      "image/png": "[encoded data removed]",
      "text/plain": [
       "<Figure size 720x576 with 1 Axes>"
      ]
     },
     "metadata": {},
     "output_type": "display_data"
    }
   ],
   "source": [
    "fig = plt.figure(figsize=(10, 8))\n",
    "ax1 = fig.add_subplot(111)\n",
    "\n",
    "plt.xlabel(\"hour\")\n",
    "plt.ylabel(\"flow value\")\n",
    "\n",
    "ax1.scatter(X['hour'], y, s=3, color=\"cornflowerblue\", marker=\"s\", label='historical')\n",
    "plt.plot(test_x['hour'][:23],predict_y[:23], color='orange', marker=\"o\", label=\"prediction\",linewidth=2)\n",
    "plt.plot(test_x['hour'][:23],test_y[:23], c='purple', marker=\"o\", label=\"actual value\",linewidth=2)\n",
    "plt.legend()\n",
    "plt.show()"
   ]
  },
  {
   "cell_type": "markdown",
   "metadata": {},
   "source": [
    "### MAPE for the neural network"
   ]
  },
  {
   "cell_type": "code",
   "execution_count": 39,
   "metadata": {},
   "outputs": [
    {
     "data": {
      "text/plain": [
       "4.951671497836578"
      ]
     },
     "execution_count": 39,
     "metadata": {},
     "output_type": "execute_result"
    }
   ],
   "source": [
    "mape_neural = mean_absolute_percentage_error(Y_flow_test, predict_y)\n",
    "mape_neural"
   ]
  },
  {
   "cell_type": "markdown",
   "metadata": {},
   "source": [
    "### Principle Component Analysis (PCA) for Data Visualization "
   ]
  },
  {
   "cell_type": "code",
   "execution_count": 46,
   "metadata": {},
   "outputs": [
    {
     "data": {
      "text/html": [
       "<div>\n",
       "<style scoped>\n",
       "    .dataframe tbody tr th:only-of-type {\n",
       "        vertical-align: middle;\n",
       "    }\n",
       "\n",
       "    .dataframe tbody tr th {\n",
       "        vertical-align: top;\n",
       "    }\n",
       "\n",
       "    .dataframe thead th {\n",
       "        text-align: right;\n",
       "    }\n",
       "</style>\n",
       "<table border=\"1\" class=\"dataframe\">\n",
       "  <thead>\n",
       "    <tr style=\"text-align: right;\">\n",
       "      <th></th>\n",
       "      <th>hour</th>\n",
       "      <th>flow</th>\n",
       "      <th>time</th>\n",
       "      <th>rainfall</th>\n",
       "      <th>previous-hour</th>\n",
       "      <th>previous-rainfall</th>\n",
       "    </tr>\n",
       "  </thead>\n",
       "  <tbody>\n",
       "    <tr>\n",
       "      <th>2</th>\n",
       "      <td>16.0</td>\n",
       "      <td>114.081666</td>\n",
       "      <td>2015-06-01 16:00:00</td>\n",
       "      <td>0.0</td>\n",
       "      <td>113.013333</td>\n",
       "      <td>0.0</td>\n",
       "    </tr>\n",
       "    <tr>\n",
       "      <th>3</th>\n",
       "      <td>17.0</td>\n",
       "      <td>116.459167</td>\n",
       "      <td>2015-06-01 17:00:00</td>\n",
       "      <td>0.0</td>\n",
       "      <td>114.081666</td>\n",
       "      <td>0.0</td>\n",
       "    </tr>\n",
       "    <tr>\n",
       "      <th>4</th>\n",
       "      <td>18.0</td>\n",
       "      <td>123.825000</td>\n",
       "      <td>2015-06-01 18:00:00</td>\n",
       "      <td>0.0</td>\n",
       "      <td>116.459167</td>\n",
       "      <td>0.0</td>\n",
       "    </tr>\n",
       "    <tr>\n",
       "      <th>5</th>\n",
       "      <td>19.0</td>\n",
       "      <td>128.884998</td>\n",
       "      <td>2015-06-01 19:00:00</td>\n",
       "      <td>0.0</td>\n",
       "      <td>123.825000</td>\n",
       "      <td>0.0</td>\n",
       "    </tr>\n",
       "    <tr>\n",
       "      <th>6</th>\n",
       "      <td>20.0</td>\n",
       "      <td>128.890832</td>\n",
       "      <td>2015-06-01 20:00:00</td>\n",
       "      <td>0.0</td>\n",
       "      <td>128.884998</td>\n",
       "      <td>0.0</td>\n",
       "    </tr>\n",
       "  </tbody>\n",
       "</table>\n",
       "</div>"
      ],
      "text/plain": [
       "   hour        flow                time  rainfall  previous-hour  \\\n",
       "2  16.0  114.081666 2015-06-01 16:00:00       0.0     113.013333   \n",
       "3  17.0  116.459167 2015-06-01 17:00:00       0.0     114.081666   \n",
       "4  18.0  123.825000 2015-06-01 18:00:00       0.0     116.459167   \n",
       "5  19.0  128.884998 2015-06-01 19:00:00       0.0     123.825000   \n",
       "6  20.0  128.890832 2015-06-01 20:00:00       0.0     128.884998   \n",
       "\n",
       "   previous-rainfall  \n",
       "2                0.0  \n",
       "3                0.0  \n",
       "4                0.0  \n",
       "5                0.0  \n",
       "6                0.0  "
      ]
     },
     "execution_count": 46,
     "metadata": {},
     "output_type": "execute_result"
    }
   ],
   "source": [
    "flow_set.head()"
   ]
  },
  {
   "cell_type": "code",
   "execution_count": 51,
   "metadata": {},
   "outputs": [],
   "source": [
    "features = ['hour', 'rainfall', 'previous-hour','previous-rainfall']\n",
    "x = flow_set.loc[:, features].values"
   ]
  },
  {
   "cell_type": "code",
   "execution_count": 52,
   "metadata": {},
   "outputs": [],
   "source": [
    "y = flow_set.loc[:,['flow']].values"
   ]
  },
  {
   "cell_type": "code",
   "execution_count": 53,
   "metadata": {},
   "outputs": [],
   "source": [
    "x = StandardScaler().fit_transform(x)"
   ]
  },
  {
   "cell_type": "code",
   "execution_count": 55,
   "metadata": {},
   "outputs": [
    {
     "data": {
      "text/html": [
       "<div>\n",
       "<style scoped>\n",
       "    .dataframe tbody tr th:only-of-type {\n",
       "        vertical-align: middle;\n",
       "    }\n",
       "\n",
       "    .dataframe tbody tr th {\n",
       "        vertical-align: top;\n",
       "    }\n",
       "\n",
       "    .dataframe thead th {\n",
       "        text-align: right;\n",
       "    }\n",
       "</style>\n",
       "<table border=\"1\" class=\"dataframe\">\n",
       "  <thead>\n",
       "    <tr style=\"text-align: right;\">\n",
       "      <th></th>\n",
       "      <th>hour</th>\n",
       "      <th>rainfall</th>\n",
       "      <th>previous-hour</th>\n",
       "      <th>previous-rainfall</th>\n",
       "    </tr>\n",
       "  </thead>\n",
       "  <tbody>\n",
       "    <tr>\n",
       "      <th>0</th>\n",
       "      <td>0.654679</td>\n",
       "      <td>-0.081426</td>\n",
       "      <td>0.158862</td>\n",
       "      <td>-0.081426</td>\n",
       "    </tr>\n",
       "    <tr>\n",
       "      <th>1</th>\n",
       "      <td>0.799647</td>\n",
       "      <td>-0.081426</td>\n",
       "      <td>0.204423</td>\n",
       "      <td>-0.081426</td>\n",
       "    </tr>\n",
       "    <tr>\n",
       "      <th>2</th>\n",
       "      <td>0.944616</td>\n",
       "      <td>-0.081426</td>\n",
       "      <td>0.305815</td>\n",
       "      <td>-0.081426</td>\n",
       "    </tr>\n",
       "    <tr>\n",
       "      <th>3</th>\n",
       "      <td>1.089584</td>\n",
       "      <td>-0.081426</td>\n",
       "      <td>0.619943</td>\n",
       "      <td>-0.081426</td>\n",
       "    </tr>\n",
       "    <tr>\n",
       "      <th>4</th>\n",
       "      <td>1.234552</td>\n",
       "      <td>-0.081426</td>\n",
       "      <td>0.835735</td>\n",
       "      <td>-0.081426</td>\n",
       "    </tr>\n",
       "  </tbody>\n",
       "</table>\n",
       "</div>"
      ],
      "text/plain": [
       "       hour  rainfall  previous-hour  previous-rainfall\n",
       "0  0.654679 -0.081426       0.158862          -0.081426\n",
       "1  0.799647 -0.081426       0.204423          -0.081426\n",
       "2  0.944616 -0.081426       0.305815          -0.081426\n",
       "3  1.089584 -0.081426       0.619943          -0.081426\n",
       "4  1.234552 -0.081426       0.835735          -0.081426"
      ]
     },
     "execution_count": 55,
     "metadata": {},
     "output_type": "execute_result"
    }
   ],
   "source": [
    "pd.DataFrame(data = x, columns = features).head()"
   ]
  }
 ],
 "metadata": {
  "kernelspec": {
   "display_name": "Python 3",
   "language": "python",
   "name": "python3"
  },
  "language_info": {
   "codemirror_mode": {
    "name": "ipython",
    "version": 3
   },
   "file_extension": ".py",
   "mimetype": "text/x-python",
   "name": "python",
   "nbconvert_exporter": "python",
   "pygments_lexer": "ipython3",
   "version": "3.6.5"
  }
 },
 "nbformat": 4,
 "nbformat_minor": 2
}
